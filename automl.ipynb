{
  "cells": [
    {
      "cell_type": "markdown",
      "source": [
        "# Automated ML\n",
        "\n",
        "TODO: Import Dependencies. In the cell below, import all the dependencies that you will need to complete the project."
      ],
      "metadata": {}
    },
    {
      "cell_type": "code",
      "source": [],
      "outputs": [],
      "execution_count": null,
      "metadata": {
        "gather": {
          "logged": 1598423888013
        },
        "jupyter": {
          "outputs_hidden": false,
          "source_hidden": false
        },
        "nteract": {
          "transient": {
            "deleting": false
          }
        }
      }
    },
    {
      "cell_type": "markdown",
      "source": [
        "## Dataset\n",
        "\n",
        "### Overview\n",
        "The dataset contains the states of tic-tac-toe game and my task is to predict if player x has won or not. By looking at the states. For more info please check readme file.\n",
        "\n",
        "\n",
        "TODO: Get data. In the cell below, write code to access the data you will be using in this project. Remember that the dataset needs to be external."
      ],
      "metadata": {}
    },
    {
      "cell_type": "code",
      "source": [
        "from azureml.core.experiment import Experiment\n",
        "from azureml.core.workspace import Workspace\n",
        "\n",
        "ws = Workspace.from_config()\n",
        "\n",
        "# choose a name for experiment\n",
        "experiment_name = 'CapstoneProjectAutoML'\n",
        "\n",
        "experiment=Experiment(ws, experiment_name)"
      ],
      "outputs": [
        {
          "output_type": "stream",
          "name": "stdout",
          "text": [
            "Performing interactive authentication. Please follow the instructions on the terminal.\n",
            "To sign in, use a web browser to open the page https://microsoft.com/devicelogin and enter the code EAMJ7AQJK to authenticate.\n",
            "You have logged in. Now let us find all the subscriptions to which you have access...\n",
            "Interactive authentication successfully completed.\n"
          ]
        }
      ],
      "execution_count": 1,
      "metadata": {
        "gather": {
          "logged": 1617674962262
        },
        "jupyter": {
          "outputs_hidden": false,
          "source_hidden": false
        },
        "nteract": {
          "transient": {
            "deleting": false
          }
        }
      }
    },
    {
      "cell_type": "code",
      "source": [
        "! pip install xgboost==0.90"
      ],
      "outputs": [
        {
          "output_type": "stream",
          "name": "stdout",
          "text": [
            "Collecting xgboost==0.90\n",
            "  Downloading xgboost-0.90-py2.py3-none-manylinux1_x86_64.whl (142.8 MB)\n",
            "\u001b[K     |████████████████████████████████| 142.8 MB 28 kB/s s eta 0:00:01\n",
            "\u001b[?25hRequirement already satisfied: numpy in /anaconda/envs/azureml_py36/lib/python3.6/site-packages (from xgboost==0.90) (1.18.5)\n",
            "Requirement already satisfied: scipy in /anaconda/envs/azureml_py36/lib/python3.6/site-packages (from xgboost==0.90) (1.4.1)\n",
            "Installing collected packages: xgboost\n",
            "  Attempting uninstall: xgboost\n",
            "    Found existing installation: xgboost 1.3.3\n",
            "    Uninstalling xgboost-1.3.3:\n",
            "      Successfully uninstalled xgboost-1.3.3\n",
            "Successfully installed xgboost-0.90\n"
          ]
        }
      ],
      "execution_count": 4,
      "metadata": {
        "collapsed": true,
        "jupyter": {
          "source_hidden": false,
          "outputs_hidden": false
        },
        "nteract": {
          "transient": {
            "deleting": false
          }
        }
      }
    },
    {
      "cell_type": "code",
      "source": [],
      "outputs": [],
      "execution_count": null,
      "metadata": {
        "collapsed": true,
        "jupyter": {
          "source_hidden": false,
          "outputs_hidden": false
        },
        "nteract": {
          "transient": {
            "deleting": false
          }
        }
      }
    },
    {
      "cell_type": "code",
      "source": [
        "import pandas as pd\r\n",
        "df=pd.read_csv('train.csv',index_col=0)\r\n",
        "print(df.head())\r\n",
        "df.to_csv('trn.csv',index=False)\r\n",
        "d=pd.read_csv('trn.csv')\r\n",
        "d.head()"
      ],
      "outputs": [
        {
          "output_type": "stream",
          "name": "stdout",
          "text": [
            "   1  2  3  4  5  6  7  8  9         y\n",
            "0  x  x  x  x  o  o  x  o  o  positive\n",
            "1  x  x  x  x  o  o  o  x  o  positive\n",
            "2  x  x  x  x  o  o  o  o  x  positive\n",
            "3  x  x  x  x  o  o  o  b  b  positive\n",
            "4  x  x  x  x  o  o  b  o  b  positive\n"
          ]
        },
        {
          "output_type": "execute_result",
          "execution_count": 6,
          "data": {
            "text/plain": "   1  2  3  4  5  6  7  8  9         y\n0  x  x  x  x  o  o  x  o  o  positive\n1  x  x  x  x  o  o  o  x  o  positive\n2  x  x  x  x  o  o  o  o  x  positive\n3  x  x  x  x  o  o  o  b  b  positive\n4  x  x  x  x  o  o  b  o  b  positive",
            "text/html": "<div>\n<style scoped>\n    .dataframe tbody tr th:only-of-type {\n        vertical-align: middle;\n    }\n\n    .dataframe tbody tr th {\n        vertical-align: top;\n    }\n\n    .dataframe thead th {\n        text-align: right;\n    }\n</style>\n<table border=\"1\" class=\"dataframe\">\n  <thead>\n    <tr style=\"text-align: right;\">\n      <th></th>\n      <th>1</th>\n      <th>2</th>\n      <th>3</th>\n      <th>4</th>\n      <th>5</th>\n      <th>6</th>\n      <th>7</th>\n      <th>8</th>\n      <th>9</th>\n      <th>y</th>\n    </tr>\n  </thead>\n  <tbody>\n    <tr>\n      <th>0</th>\n      <td>x</td>\n      <td>x</td>\n      <td>x</td>\n      <td>x</td>\n      <td>o</td>\n      <td>o</td>\n      <td>x</td>\n      <td>o</td>\n      <td>o</td>\n      <td>positive</td>\n    </tr>\n    <tr>\n      <th>1</th>\n      <td>x</td>\n      <td>x</td>\n      <td>x</td>\n      <td>x</td>\n      <td>o</td>\n      <td>o</td>\n      <td>o</td>\n      <td>x</td>\n      <td>o</td>\n      <td>positive</td>\n    </tr>\n    <tr>\n      <th>2</th>\n      <td>x</td>\n      <td>x</td>\n      <td>x</td>\n      <td>x</td>\n      <td>o</td>\n      <td>o</td>\n      <td>o</td>\n      <td>o</td>\n      <td>x</td>\n      <td>positive</td>\n    </tr>\n    <tr>\n      <th>3</th>\n      <td>x</td>\n      <td>x</td>\n      <td>x</td>\n      <td>x</td>\n      <td>o</td>\n      <td>o</td>\n      <td>o</td>\n      <td>b</td>\n      <td>b</td>\n      <td>positive</td>\n    </tr>\n    <tr>\n      <th>4</th>\n      <td>x</td>\n      <td>x</td>\n      <td>x</td>\n      <td>x</td>\n      <td>o</td>\n      <td>o</td>\n      <td>b</td>\n      <td>o</td>\n      <td>b</td>\n      <td>positive</td>\n    </tr>\n  </tbody>\n</table>\n</div>"
          },
          "metadata": {}
        }
      ],
      "execution_count": 6,
      "metadata": {
        "collapsed": true,
        "jupyter": {
          "source_hidden": false,
          "outputs_hidden": false
        },
        "nteract": {
          "transient": {
            "deleting": false
          }
        },
        "gather": {
          "logged": 1617675353838
        }
      }
    },
    {
      "cell_type": "code",
      "source": [],
      "outputs": [],
      "execution_count": null,
      "metadata": {
        "collapsed": true,
        "jupyter": {
          "source_hidden": false,
          "outputs_hidden": false
        },
        "nteract": {
          "transient": {
            "deleting": false
          }
        }
      }
    },
    {
      "cell_type": "code",
      "source": [],
      "outputs": [],
      "execution_count": null,
      "metadata": {
        "collapsed": true,
        "jupyter": {
          "source_hidden": false,
          "outputs_hidden": false
        },
        "nteract": {
          "transient": {
            "deleting": false
          }
        }
      }
    },
    {
      "cell_type": "code",
      "source": [
        "# Import the data\r\n",
        "from azureml.core.dataset import Dataset\r\n",
        "import pandas as pd\r\n",
        "\r\n",
        "\r\n",
        "key = 'TicTacToe data'\r\n",
        "if key in ws.datasets.keys():\r\n",
        "    dataset = ws.datasets[key]\r\n",
        "    print(\"Dataset found\")\r\n",
        "    datastore = ws.get_default_datastore()\r\n",
        "    #train = Dataset.Tabular.from_delimited_files([(datastore,'trn.csv')])\r\n",
        "\r\n",
        "else:\r\n",
        "    datastore = ws.get_default_datastore()\r\n",
        "    datastore.upload_files(files = ['./trn.csv'])\r\n",
        "    train = Dataset.Tabular.from_delimited_files([(datastore,'trn.csv')])\r\n",
        "    train = train.register(ws,key)\r\n"
      ],
      "outputs": [
        {
          "output_type": "stream",
          "name": "stdout",
          "text": [
            "Uploading an estimated of 1 files\n",
            "Uploading ./trn.csv\n",
            "Uploaded ./trn.csv, 1 files out of an estimated total of 1\n",
            "Uploaded 1 files\n"
          ]
        }
      ],
      "execution_count": 7,
      "metadata": {
        "collapsed": true,
        "jupyter": {
          "source_hidden": false,
          "outputs_hidden": false
        },
        "nteract": {
          "transient": {
            "deleting": false
          }
        },
        "gather": {
          "logged": 1617675374458
        }
      }
    },
    {
      "cell_type": "markdown",
      "source": [
        "# Define Compute instance"
      ],
      "metadata": {
        "nteract": {
          "transient": {
            "deleting": false
          }
        }
      }
    },
    {
      "cell_type": "code",
      "source": [
        "from azureml.core.compute import ComputeTarget, AmlCompute\r\n",
        "from azureml.core.compute_target import ComputeTargetException\r\n",
        "\r\n",
        "\r\n",
        "cpu_cluster_name = \"compute-cluster\"\r\n",
        "\r\n",
        "# Verify that cluster does not exist already\r\n",
        "try:\r\n",
        "    compute_target = ComputeTarget(workspace=ws, name=cpu_cluster_name)\r\n",
        "    print('Found existing cluster, use it.')\r\n",
        "except ComputeTargetException:\r\n",
        "    print('Creating a new compute cluster...')\r\n",
        "    compute_config = AmlCompute.provisioning_configuration(vm_size='STANDARD_D2_V2', max_nodes=4)\r\n",
        "    compute_target = ComputeTarget.create(ws, cpu_cluster_name, compute_config)\r\n",
        "\r\n",
        "# Can poll for a minimum number of nodes and for a specific timeout. \r\n",
        "# If no min node count is provided it uses the scale settings for the cluster.\r\n",
        "compute_target.wait_for_completion(show_output=True)"
      ],
      "outputs": [
        {
          "output_type": "stream",
          "name": "stdout",
          "text": [
            "Creating a new compute cluster...\n",
            "Creating....\n",
            "SucceededProvisioning operation finished, operation \"Succeeded\"\n",
            "Succeeded\n",
            "AmlCompute wait for completion finished\n",
            "\n",
            "Minimum number of nodes requested have been provisioned\n"
          ]
        }
      ],
      "execution_count": 8,
      "metadata": {
        "collapsed": true,
        "jupyter": {
          "source_hidden": false,
          "outputs_hidden": false
        },
        "nteract": {
          "transient": {
            "deleting": false
          }
        },
        "gather": {
          "logged": 1617675402547
        }
      }
    },
    {
      "cell_type": "code",
      "source": [],
      "outputs": [],
      "execution_count": null,
      "metadata": {
        "collapsed": true,
        "jupyter": {
          "source_hidden": false,
          "outputs_hidden": false
        },
        "nteract": {
          "transient": {
            "deleting": false
          }
        }
      }
    },
    {
      "cell_type": "markdown",
      "source": [
        "## AutoML Configuration\n",
        "\n",
        "TODO: Explain why you chose the automl settings and cofiguration you used below.\n",
        "\n",
        "This is a classification problem so I chose primary metric as 'accuracy'. The task is not heavy so our automl experment shouldn't require more than 30-40 min, thus exp_timeout min is chosen as 30min.And as we are having 4 nodes I choose 4 max concurent iterations."
      ],
      "metadata": {}
    },
    {
      "cell_type": "code",
      "source": [
        "from azureml.train.automl import AutoMLConfig\n",
        "\n",
        "# TODO: Put your automl settings here\n",
        "automl_settings = {\"primary_metric\":\"accuracy\",\n",
        "                   \"experiment_timeout_minutes\":30,\n",
        "                   \"enable_early_stopping\":True,\n",
        "                   'n_cross_validations':4,\n",
        "                   \"max_concurrent_iterations\": 4}\n",
        "\n",
        "# TODO: Put your automl config here\n",
        "automl_config = AutoMLConfig(compute_target = compute_target, task = 'classification', training_data = train, label_column_name ='y',**automl_settings)"
      ],
      "outputs": [],
      "execution_count": 9,
      "metadata": {
        "gather": {
          "logged": 1617675423074
        },
        "jupyter": {
          "outputs_hidden": false,
          "source_hidden": false
        },
        "nteract": {
          "transient": {
            "deleting": false
          }
        }
      }
    },
    {
      "cell_type": "code",
      "source": [
        "# TODO: Submit your experiment\n",
        "remote_run = experiment.submit(automl_config, show_output=True)"
      ],
      "outputs": [
        {
          "output_type": "stream",
          "name": "stdout",
          "text": [
            "Running on remote.\n",
            "No run_configuration provided, running on compute-cluster with default configuration\n",
            "Running on remote compute: compute-cluster\n",
            "Parent Run ID: AutoML_5d4d437f-5c73-4b68-abb9-c1951ccd9110\n",
            "\n",
            "Current status: FeaturesGeneration. Generating features for the dataset.\n",
            "Current status: DatasetCrossValidationSplit. Generating individually featurized CV splits.\n",
            "Current status: ModelSelection. Beginning model selection.\n",
            "\n",
            "****************************************************************************************************\n",
            "DATA GUARDRAILS: \n",
            "\n",
            "TYPE:         Class balancing detection\n",
            "STATUS:       PASSED\n",
            "DESCRIPTION:  Your inputs were analyzed, and all classes are balanced in your training data.\n",
            "              Learn more about imbalanced data: https://aka.ms/AutomatedMLImbalancedData\n",
            "\n",
            "****************************************************************************************************\n",
            "\n",
            "TYPE:         Missing feature values imputation\n",
            "STATUS:       PASSED\n",
            "DESCRIPTION:  No feature missing values were detected in the training data.\n",
            "              Learn more about missing value imputation: https://aka.ms/AutomatedMLFeaturization\n",
            "\n",
            "****************************************************************************************************\n",
            "\n",
            "TYPE:         High cardinality feature detection\n",
            "STATUS:       PASSED\n",
            "DESCRIPTION:  Your inputs were analyzed, and no high cardinality features were detected.\n",
            "              Learn more about high cardinality feature handling: https://aka.ms/AutomatedMLFeaturization\n",
            "\n",
            "****************************************************************************************************\n",
            "\n",
            "****************************************************************************************************\n",
            "ITERATION: The iteration being evaluated.\n",
            "PIPELINE: A summary description of the pipeline being evaluated.\n",
            "DURATION: Time taken for the current iteration.\n",
            "METRIC: The result of computing score on the fitted pipeline.\n",
            "BEST: The best observed score thus far.\n",
            "****************************************************************************************************\n",
            "\n",
            " ITERATION   PIPELINE                                       DURATION      METRIC      BEST\n",
            "         0   MaxAbsScaler LightGBM                          0:00:39       0.9843    0.9843\n",
            "         3   MaxAbsScaler RandomForest                      0:00:43       0.7412    0.9843\n",
            "         2   MaxAbsScaler RandomForest                      0:00:43       0.7579    0.9843\n",
            "         6   SparseNormalizer XGBoostClassifier             0:00:45       0.9864    0.9864\n",
            "         1   MaxAbsScaler XGBoostClassifier                 0:02:09       0.9603    0.9864\n",
            "         7   MaxAbsScaler LogisticRegression                0:00:45       0.9802    0.9864\n",
            "         5   MaxAbsScaler RandomForest                      0:03:02       0.6984    0.9864\n",
            "         4   MaxAbsScaler RandomForest                      0:03:05       0.8549    0.9864\n",
            "         8   MaxAbsScaler LogisticRegression                0:00:48       0.9833    0.9864\n",
            "         9   SparseNormalizer XGBoostClassifier             0:00:41       0.6973    0.9864\n",
            "        10   StandardScalerWrapper XGBoostClassifier        0:00:42       0.9218    0.9864\n",
            "        11   StandardScalerWrapper RandomForest             0:00:44       0.7799    0.9864\n",
            "        12   SparseNormalizer XGBoostClassifier             0:00:39       0.9896    0.9896\n",
            "        13   MaxAbsScaler GradientBoosting                  0:00:48       0.7224    0.9896\n",
            "        14   MaxAbsScaler LogisticRegression                0:00:48       0.9833    0.9896\n",
            "        15   MaxAbsScaler ExtremeRandomTrees                0:00:48       0.7882    0.9896\n",
            "        16   SparseNormalizer XGBoostClassifier             0:00:48       0.9885    0.9896\n",
            "        17   SparseNormalizer XGBoostClassifier             0:00:40       0.9875    0.9896\n",
            "        18   SparseNormalizer XGBoostClassifier             0:00:40       0.9562    0.9896\n",
            "        19   SparseNormalizer XGBoostClassifier             0:00:39       0.9843    0.9896\n",
            "        20   SparseNormalizer XGBoostClassifier             0:00:39       0.9885    0.9896\n",
            "        21   StandardScalerWrapper XGBoostClassifier        0:00:41       0.9875    0.9896\n",
            "        22   SparseNormalizer XGBoostClassifier             0:00:43       0.9906    0.9906\n",
            "        23   SparseNormalizer XGBoostClassifier             0:00:45       0.9635    0.9906\n",
            "        24   MaxAbsScaler LightGBM                          0:00:41       0.7203    0.9906\n",
            "        25   StandardScalerWrapper XGBoostClassifier        0:00:39       0.6535    0.9906\n",
            "        26   SparseNormalizer XGBoostClassifier             0:00:43       0.9916    0.9916\n",
            "        28   SparseNormalizer XGBoostClassifier             0:00:39       0.9990    0.9990\n",
            "        27   SparseNormalizer XGBoostClassifier             0:00:46       0.9854    0.9990\n",
            "        29   MaxAbsScaler LogisticRegression                0:00:39       0.9760    0.9990\n",
            "        30   StandardScalerWrapper XGBoostClassifier        0:00:41       0.9916    0.9990\n",
            "        31   StandardScalerWrapper XGBoostClassifier        0:00:43       0.9896    0.9990\n",
            "        33   StandardScalerWrapper XGBoostClassifier        0:00:40       0.9812    0.9990\n",
            "        32   SparseNormalizer XGBoostClassifier             0:00:40       0.9499    0.9990\n",
            "        34   StandardScalerWrapper XGBoostClassifier        0:00:42       0.9854    0.9990\n",
            "        35   SparseNormalizer XGBoostClassifier             0:00:41       0.9969    0.9990\n",
            "        36   MaxAbsScaler LogisticRegression                0:00:42       0.9718    0.9990\n",
            "        37   MaxAbsScaler LogisticRegression                0:00:44       0.9718    0.9990\n",
            "        38   MaxAbsScaler LogisticRegression                0:00:46       0.9812    0.9990\n",
            "        39   StandardScalerWrapper LogisticRegression       0:00:40       0.9802    0.9990\n",
            "        40   StandardScalerWrapper XGBoostClassifier        0:00:43       0.7673    0.9990\n",
            "        41   SparseNormalizer XGBoostClassifier             0:00:49       0.9896    0.9990\n",
            "        42                                                  0:00:18          nan    0.9990\n",
            "        43    VotingEnsemble                                0:01:08       0.9990    0.9990\n",
            "        44    StackEnsemble                                 0:01:04       0.9990    0.9990\n"
          ]
        }
      ],
      "execution_count": 10,
      "metadata": {
        "gather": {
          "logged": 1617676845806
        },
        "jupyter": {
          "outputs_hidden": false,
          "source_hidden": false
        },
        "nteract": {
          "transient": {
            "deleting": false
          }
        }
      }
    },
    {
      "cell_type": "markdown",
      "source": [
        "## Run Details\n",
        "\n",
        "OPTIONAL: Write about the different models trained and their performance. Why do you think some models did better than others?\n",
        "\n",
        "TODO: In the cell below, use the `RunDetails` widget to show the different experiments."
      ],
      "metadata": {}
    },
    {
      "cell_type": "code",
      "source": [
        "from azureml.widgets import RunDetails\r\n",
        "RunDetails(remote_run).show()"
      ],
      "outputs": [
        {
          "output_type": "display_data",
          "data": {
            "text/plain": "_AutoMLWidget(widget_settings={'childWidgetDisplay': 'popup', 'send_telemetry': False, 'log_level': 'INFO', 's…",
            "application/vnd.jupyter.widget-view+json": {
              "version_major": 2,
              "version_minor": 0,
              "model_id": "140e26bbd07e4f578cbd07ee782488d9"
            }
          },
          "metadata": {}
        },
        {
          "output_type": "display_data",
          "data": {
            "application/aml.mini.widget.v1": "{\"status\": \"Completed\", \"workbench_run_details_uri\": \"https://ml.azure.com/experiments/CapstoneProjectAutoML/runs/AutoML_5d4d437f-5c73-4b68-abb9-c1951ccd9110?wsid=/subscriptions/b968fb36-f06a-4c76-a15f-afab68ae7667/resourcegroups/aml-quickstarts-142058/workspaces/quick-starts-ws-142058\", \"run_id\": \"AutoML_5d4d437f-5c73-4b68-abb9-c1951ccd9110\", \"run_properties\": {\"run_id\": \"AutoML_5d4d437f-5c73-4b68-abb9-c1951ccd9110\", \"created_utc\": \"2021-04-06T02:11:25.637752Z\", \"properties\": {\"num_iterations\": \"1000\", \"training_type\": \"TrainFull\", \"acquisition_function\": \"EI\", \"primary_metric\": \"accuracy\", \"train_split\": \"0\", \"acquisition_parameter\": \"0\", \"num_cross_validation\": \"4\", \"target\": \"compute-cluster\", \"AMLSettingsJsonString\": \"{\\\"path\\\":null,\\\"name\\\":\\\"CapstoneProjectAutoML\\\",\\\"subscription_id\\\":\\\"b968fb36-f06a-4c76-a15f-afab68ae7667\\\",\\\"resource_group\\\":\\\"aml-quickstarts-142058\\\",\\\"workspace_name\\\":\\\"quick-starts-ws-142058\\\",\\\"region\\\":\\\"southcentralus\\\",\\\"compute_target\\\":\\\"compute-cluster\\\",\\\"spark_service\\\":null,\\\"azure_service\\\":\\\"remote\\\",\\\"many_models\\\":false,\\\"pipeline_fetch_max_batch_size\\\":1,\\\"enable_batch_run\\\":false,\\\"iterations\\\":1000,\\\"primary_metric\\\":\\\"accuracy\\\",\\\"task_type\\\":\\\"classification\\\",\\\"data_script\\\":null,\\\"validation_size\\\":0.0,\\\"n_cross_validations\\\":4,\\\"y_min\\\":null,\\\"y_max\\\":null,\\\"num_classes\\\":null,\\\"featurization\\\":\\\"auto\\\",\\\"_ignore_package_version_incompatibilities\\\":false,\\\"is_timeseries\\\":false,\\\"max_cores_per_iteration\\\":1,\\\"max_concurrent_iterations\\\":4,\\\"iteration_timeout_minutes\\\":null,\\\"mem_in_mb\\\":null,\\\"enforce_time_on_windows\\\":false,\\\"experiment_timeout_minutes\\\":30,\\\"experiment_exit_score\\\":null,\\\"whitelist_models\\\":null,\\\"blacklist_algos\\\":[\\\"TensorFlowLinearClassifier\\\",\\\"TensorFlowDNN\\\"],\\\"supported_models\\\":[\\\"MultinomialNaiveBayes\\\",\\\"AveragedPerceptronClassifier\\\",\\\"KNN\\\",\\\"SVM\\\",\\\"LightGBM\\\",\\\"TensorFlowDNN\\\",\\\"RandomForest\\\",\\\"ExtremeRandomTrees\\\",\\\"GradientBoosting\\\",\\\"DecisionTree\\\",\\\"XGBoostClassifier\\\",\\\"LinearSVM\\\",\\\"TensorFlowLinearClassifier\\\",\\\"BernoulliNaiveBayes\\\",\\\"LogisticRegression\\\",\\\"SGD\\\"],\\\"private_models\\\":[],\\\"auto_blacklist\\\":true,\\\"blacklist_samples_reached\\\":false,\\\"exclude_nan_labels\\\":true,\\\"verbosity\\\":20,\\\"_debug_log\\\":\\\"azureml_automl.log\\\",\\\"show_warnings\\\":false,\\\"model_explainability\\\":true,\\\"service_url\\\":null,\\\"sdk_url\\\":null,\\\"sdk_packages\\\":null,\\\"enable_onnx_compatible_models\\\":false,\\\"enable_split_onnx_featurizer_estimator_models\\\":false,\\\"vm_type\\\":\\\"STANDARD_D2_V2\\\",\\\"telemetry_verbosity\\\":20,\\\"send_telemetry\\\":true,\\\"enable_dnn\\\":false,\\\"scenario\\\":\\\"SDK-1.13.0\\\",\\\"environment_label\\\":null,\\\"save_mlflow\\\":false,\\\"force_text_dnn\\\":false,\\\"enable_feature_sweeping\\\":true,\\\"enable_early_stopping\\\":true,\\\"early_stopping_n_iters\\\":10,\\\"metrics\\\":null,\\\"enable_metric_confidence\\\":false,\\\"enable_ensembling\\\":true,\\\"enable_stack_ensembling\\\":true,\\\"ensemble_iterations\\\":15,\\\"enable_tf\\\":false,\\\"enable_subsampling\\\":null,\\\"subsample_seed\\\":null,\\\"enable_nimbusml\\\":false,\\\"enable_streaming\\\":false,\\\"force_streaming\\\":false,\\\"track_child_runs\\\":true,\\\"allowed_private_models\\\":[],\\\"label_column_name\\\":\\\"y\\\",\\\"weight_column_name\\\":null,\\\"cv_split_column_names\\\":null,\\\"enable_local_managed\\\":false,\\\"_local_managed_run_id\\\":null,\\\"cost_mode\\\":1,\\\"lag_length\\\":0,\\\"metric_operation\\\":\\\"maximize\\\",\\\"preprocess\\\":true}\", \"DataPrepJsonString\": \"{\\\\\\\"training_data\\\\\\\": \\\\\\\"{\\\\\\\\\\\\\\\"blocks\\\\\\\\\\\\\\\": [{\\\\\\\\\\\\\\\"id\\\\\\\\\\\\\\\": \\\\\\\\\\\\\\\"a52d355b-0b2d-484b-816f-f4f279c94148\\\\\\\\\\\\\\\", \\\\\\\\\\\\\\\"type\\\\\\\\\\\\\\\": \\\\\\\\\\\\\\\"Microsoft.DPrep.GetDatastoreFilesBlock\\\\\\\\\\\\\\\", \\\\\\\\\\\\\\\"arguments\\\\\\\\\\\\\\\": {\\\\\\\\\\\\\\\"datastores\\\\\\\\\\\\\\\": [{\\\\\\\\\\\\\\\"datastoreName\\\\\\\\\\\\\\\": \\\\\\\\\\\\\\\"workspaceblobstore\\\\\\\\\\\\\\\", \\\\\\\\\\\\\\\"path\\\\\\\\\\\\\\\": \\\\\\\\\\\\\\\"trn.csv\\\\\\\\\\\\\\\", \\\\\\\\\\\\\\\"resourceGroup\\\\\\\\\\\\\\\": \\\\\\\\\\\\\\\"aml-quickstarts-142058\\\\\\\\\\\\\\\", \\\\\\\\\\\\\\\"subscription\\\\\\\\\\\\\\\": \\\\\\\\\\\\\\\"b968fb36-f06a-4c76-a15f-afab68ae7667\\\\\\\\\\\\\\\", \\\\\\\\\\\\\\\"workspaceName\\\\\\\\\\\\\\\": \\\\\\\\\\\\\\\"quick-starts-ws-142058\\\\\\\\\\\\\\\"}]}, \\\\\\\\\\\\\\\"localData\\\\\\\\\\\\\\\": {}, \\\\\\\\\\\\\\\"isEnabled\\\\\\\\\\\\\\\": true, \\\\\\\\\\\\\\\"name\\\\\\\\\\\\\\\": null, \\\\\\\\\\\\\\\"annotation\\\\\\\\\\\\\\\": null}, {\\\\\\\\\\\\\\\"id\\\\\\\\\\\\\\\": \\\\\\\\\\\\\\\"31511377-0746-48f2-83c1-a3664c88aa0f\\\\\\\\\\\\\\\", \\\\\\\\\\\\\\\"type\\\\\\\\\\\\\\\": \\\\\\\\\\\\\\\"Microsoft.DPrep.ParseDelimitedBlock\\\\\\\\\\\\\\\", \\\\\\\\\\\\\\\"arguments\\\\\\\\\\\\\\\": {\\\\\\\\\\\\\\\"columnHeadersMode\\\\\\\\\\\\\\\": 3, \\\\\\\\\\\\\\\"fileEncoding\\\\\\\\\\\\\\\": 0, \\\\\\\\\\\\\\\"handleQuotedLineBreaks\\\\\\\\\\\\\\\": false, \\\\\\\\\\\\\\\"preview\\\\\\\\\\\\\\\": false, \\\\\\\\\\\\\\\"separator\\\\\\\\\\\\\\\": \\\\\\\\\\\\\\\",\\\\\\\\\\\\\\\", \\\\\\\\\\\\\\\"skipRows\\\\\\\\\\\\\\\": 0, \\\\\\\\\\\\\\\"skipRowsMode\\\\\\\\\\\\\\\": 0}, \\\\\\\\\\\\\\\"localData\\\\\\\\\\\\\\\": {}, \\\\\\\\\\\\\\\"isEnabled\\\\\\\\\\\\\\\": true, \\\\\\\\\\\\\\\"name\\\\\\\\\\\\\\\": null, \\\\\\\\\\\\\\\"annotation\\\\\\\\\\\\\\\": null}, {\\\\\\\\\\\\\\\"id\\\\\\\\\\\\\\\": \\\\\\\\\\\\\\\"16c5616b-3d92-4831-b048-f9ba4fc9c29e\\\\\\\\\\\\\\\", \\\\\\\\\\\\\\\"type\\\\\\\\\\\\\\\": \\\\\\\\\\\\\\\"Microsoft.DPrep.DropColumnsBlock\\\\\\\\\\\\\\\", \\\\\\\\\\\\\\\"arguments\\\\\\\\\\\\\\\": {\\\\\\\\\\\\\\\"columns\\\\\\\\\\\\\\\": {\\\\\\\\\\\\\\\"type\\\\\\\\\\\\\\\": 0, \\\\\\\\\\\\\\\"details\\\\\\\\\\\\\\\": {\\\\\\\\\\\\\\\"selectedColumns\\\\\\\\\\\\\\\": [\\\\\\\\\\\\\\\"Path\\\\\\\\\\\\\\\"]}}}, \\\\\\\\\\\\\\\"localData\\\\\\\\\\\\\\\": {}, \\\\\\\\\\\\\\\"isEnabled\\\\\\\\\\\\\\\": true, \\\\\\\\\\\\\\\"name\\\\\\\\\\\\\\\": null, \\\\\\\\\\\\\\\"annotation\\\\\\\\\\\\\\\": null}, {\\\\\\\\\\\\\\\"id\\\\\\\\\\\\\\\": \\\\\\\\\\\\\\\"b036479f-57f4-42cd-9fe1-fa9aed8f974c\\\\\\\\\\\\\\\", \\\\\\\\\\\\\\\"type\\\\\\\\\\\\\\\": \\\\\\\\\\\\\\\"Microsoft.DPrep.SetColumnTypesBlock\\\\\\\\\\\\\\\", \\\\\\\\\\\\\\\"arguments\\\\\\\\\\\\\\\": {\\\\\\\\\\\\\\\"columnConversion\\\\\\\\\\\\\\\": [{\\\\\\\\\\\\\\\"column\\\\\\\\\\\\\\\": {\\\\\\\\\\\\\\\"type\\\\\\\\\\\\\\\": 2, \\\\\\\\\\\\\\\"details\\\\\\\\\\\\\\\": {\\\\\\\\\\\\\\\"selectedColumn\\\\\\\\\\\\\\\": \\\\\\\\\\\\\\\"1\\\\\\\\\\\\\\\"}}, \\\\\\\\\\\\\\\"typeProperty\\\\\\\\\\\\\\\": 0}, {\\\\\\\\\\\\\\\"column\\\\\\\\\\\\\\\": {\\\\\\\\\\\\\\\"type\\\\\\\\\\\\\\\": 2, \\\\\\\\\\\\\\\"details\\\\\\\\\\\\\\\": {\\\\\\\\\\\\\\\"selectedColumn\\\\\\\\\\\\\\\": \\\\\\\\\\\\\\\"2\\\\\\\\\\\\\\\"}}, \\\\\\\\\\\\\\\"typeProperty\\\\\\\\\\\\\\\": 0}, {\\\\\\\\\\\\\\\"column\\\\\\\\\\\\\\\": {\\\\\\\\\\\\\\\"type\\\\\\\\\\\\\\\": 2, \\\\\\\\\\\\\\\"details\\\\\\\\\\\\\\\": {\\\\\\\\\\\\\\\"selectedColumn\\\\\\\\\\\\\\\": \\\\\\\\\\\\\\\"3\\\\\\\\\\\\\\\"}}, \\\\\\\\\\\\\\\"typeProperty\\\\\\\\\\\\\\\": 0}, {\\\\\\\\\\\\\\\"column\\\\\\\\\\\\\\\": {\\\\\\\\\\\\\\\"type\\\\\\\\\\\\\\\": 2, \\\\\\\\\\\\\\\"details\\\\\\\\\\\\\\\": {\\\\\\\\\\\\\\\"selectedColumn\\\\\\\\\\\\\\\": \\\\\\\\\\\\\\\"4\\\\\\\\\\\\\\\"}}, \\\\\\\\\\\\\\\"typeProperty\\\\\\\\\\\\\\\": 0}, {\\\\\\\\\\\\\\\"column\\\\\\\\\\\\\\\": {\\\\\\\\\\\\\\\"type\\\\\\\\\\\\\\\": 2, \\\\\\\\\\\\\\\"details\\\\\\\\\\\\\\\": {\\\\\\\\\\\\\\\"selectedColumn\\\\\\\\\\\\\\\": \\\\\\\\\\\\\\\"5\\\\\\\\\\\\\\\"}}, \\\\\\\\\\\\\\\"typeProperty\\\\\\\\\\\\\\\": 0}, {\\\\\\\\\\\\\\\"column\\\\\\\\\\\\\\\": {\\\\\\\\\\\\\\\"type\\\\\\\\\\\\\\\": 2, \\\\\\\\\\\\\\\"details\\\\\\\\\\\\\\\": {\\\\\\\\\\\\\\\"selectedColumn\\\\\\\\\\\\\\\": \\\\\\\\\\\\\\\"6\\\\\\\\\\\\\\\"}}, \\\\\\\\\\\\\\\"typeProperty\\\\\\\\\\\\\\\": 0}, {\\\\\\\\\\\\\\\"column\\\\\\\\\\\\\\\": {\\\\\\\\\\\\\\\"type\\\\\\\\\\\\\\\": 2, \\\\\\\\\\\\\\\"details\\\\\\\\\\\\\\\": {\\\\\\\\\\\\\\\"selectedColumn\\\\\\\\\\\\\\\": \\\\\\\\\\\\\\\"7\\\\\\\\\\\\\\\"}}, \\\\\\\\\\\\\\\"typeProperty\\\\\\\\\\\\\\\": 0}, {\\\\\\\\\\\\\\\"column\\\\\\\\\\\\\\\": {\\\\\\\\\\\\\\\"type\\\\\\\\\\\\\\\": 2, \\\\\\\\\\\\\\\"details\\\\\\\\\\\\\\\": {\\\\\\\\\\\\\\\"selectedColumn\\\\\\\\\\\\\\\": \\\\\\\\\\\\\\\"8\\\\\\\\\\\\\\\"}}, \\\\\\\\\\\\\\\"typeProperty\\\\\\\\\\\\\\\": 0}, {\\\\\\\\\\\\\\\"column\\\\\\\\\\\\\\\": {\\\\\\\\\\\\\\\"type\\\\\\\\\\\\\\\": 2, \\\\\\\\\\\\\\\"details\\\\\\\\\\\\\\\": {\\\\\\\\\\\\\\\"selectedColumn\\\\\\\\\\\\\\\": \\\\\\\\\\\\\\\"9\\\\\\\\\\\\\\\"}}, \\\\\\\\\\\\\\\"typeProperty\\\\\\\\\\\\\\\": 0}, {\\\\\\\\\\\\\\\"column\\\\\\\\\\\\\\\": {\\\\\\\\\\\\\\\"type\\\\\\\\\\\\\\\": 2, \\\\\\\\\\\\\\\"details\\\\\\\\\\\\\\\": {\\\\\\\\\\\\\\\"selectedColumn\\\\\\\\\\\\\\\": \\\\\\\\\\\\\\\"y\\\\\\\\\\\\\\\"}}, \\\\\\\\\\\\\\\"typeProperty\\\\\\\\\\\\\\\": 0}]}, \\\\\\\\\\\\\\\"localData\\\\\\\\\\\\\\\": {}, \\\\\\\\\\\\\\\"isEnabled\\\\\\\\\\\\\\\": true, \\\\\\\\\\\\\\\"name\\\\\\\\\\\\\\\": null, \\\\\\\\\\\\\\\"annotation\\\\\\\\\\\\\\\": null}], \\\\\\\\\\\\\\\"inspectors\\\\\\\\\\\\\\\": [], \\\\\\\\\\\\\\\"meta\\\\\\\\\\\\\\\": {\\\\\\\\\\\\\\\"savedDatasetId\\\\\\\\\\\\\\\": \\\\\\\\\\\\\\\"3684562c-481a-424d-8b16-9384456460e7\\\\\\\\\\\\\\\", \\\\\\\\\\\\\\\"datasetType\\\\\\\\\\\\\\\": \\\\\\\\\\\\\\\"tabular\\\\\\\\\\\\\\\", \\\\\\\\\\\\\\\"subscriptionId\\\\\\\\\\\\\\\": \\\\\\\\\\\\\\\"b968fb36-f06a-4c76-a15f-afab68ae7667\\\\\\\\\\\\\\\", \\\\\\\\\\\\\\\"workspaceId\\\\\\\\\\\\\\\": \\\\\\\\\\\\\\\"a804b3fa-85d3-4341-b900-0459d53e9b0d\\\\\\\\\\\\\\\", \\\\\\\\\\\\\\\"workspaceLocation\\\\\\\\\\\\\\\": \\\\\\\\\\\\\\\"southcentralus\\\\\\\\\\\\\\\", \\\\\\\\\\\\\\\"partition_keys\\\\\\\\\\\\\\\": \\\\\\\\\\\\\\\"true\\\\\\\\\\\\\\\"}}\\\\\\\", \\\\\\\"activities\\\\\\\": 0}\", \"EnableSubsampling\": null, \"runTemplate\": \"AutoML\", \"azureml.runsource\": \"automl\", \"display_task_type\": \"classification\", \"dependencies_versions\": \"{\\\"azureml-widgets\\\": \\\"1.24.0\\\", \\\"azureml-train\\\": \\\"1.24.0\\\", \\\"azureml-train-restclients-hyperdrive\\\": \\\"1.24.0\\\", \\\"azureml-train-core\\\": \\\"1.24.0\\\", \\\"azureml-train-automl\\\": \\\"1.24.0\\\", \\\"azureml-train-automl-runtime\\\": \\\"1.24.0\\\", \\\"azureml-train-automl-client\\\": \\\"1.24.0\\\", \\\"azureml-tensorboard\\\": \\\"1.24.0\\\", \\\"azureml-telemetry\\\": \\\"1.24.0\\\", \\\"azureml-sdk\\\": \\\"1.24.0\\\", \\\"azureml-samples\\\": \\\"0+unknown\\\", \\\"azureml-pipeline\\\": \\\"1.24.0\\\", \\\"azureml-pipeline-steps\\\": \\\"1.24.0\\\", \\\"azureml-pipeline-core\\\": \\\"1.24.0\\\", \\\"azureml-opendatasets\\\": \\\"1.24.0\\\", \\\"azureml-model-management-sdk\\\": \\\"1.0.1b6.post1\\\", \\\"azureml-mlflow\\\": \\\"1.24.0\\\", \\\"azureml-interpret\\\": \\\"1.24.0\\\", \\\"azureml-explain-model\\\": \\\"1.24.0\\\", \\\"azureml-defaults\\\": \\\"1.24.0\\\", \\\"azureml-dataset-runtime\\\": \\\"1.24.0\\\", \\\"azureml-dataprep\\\": \\\"2.11.1\\\", \\\"azureml-dataprep-rslex\\\": \\\"1.9.0\\\", \\\"azureml-dataprep-native\\\": \\\"30.0.0\\\", \\\"azureml-datadrift\\\": \\\"1.24.0\\\", \\\"azureml-core\\\": \\\"1.24.0\\\", \\\"azureml-contrib-services\\\": \\\"1.24.0\\\", \\\"azureml-contrib-server\\\": \\\"1.24.0\\\", \\\"azureml-contrib-reinforcementlearning\\\": \\\"1.24.0\\\", \\\"azureml-contrib-pipeline-steps\\\": \\\"1.24.0\\\", \\\"azureml-contrib-notebook\\\": \\\"1.24.0\\\", \\\"azureml-contrib-gbdt\\\": \\\"1.24.0\\\", \\\"azureml-contrib-fairness\\\": \\\"1.24.0\\\", \\\"azureml-contrib-dataset\\\": \\\"1.24.0\\\", \\\"azureml-cli-common\\\": \\\"1.24.0\\\", \\\"azureml-automl-runtime\\\": \\\"1.24.0\\\", \\\"azureml-automl-dnn-nlp\\\": \\\"1.24.0\\\", \\\"azureml-automl-core\\\": \\\"1.24.0\\\", \\\"azureml-accel-models\\\": \\\"1.24.0\\\"}\", \"_aml_system_scenario_identification\": \"Remote.Parent\", \"ClientType\": \"SDK\", \"environment_cpu_name\": \"AzureML-AutoML\", \"environment_cpu_label\": \"prod\", \"environment_gpu_name\": \"AzureML-AutoML-GPU\", \"environment_gpu_label\": \"prod\", \"root_attribution\": \"automl\", \"attribution\": \"AutoML\", \"Orchestrator\": \"AutoML\", \"CancelUri\": \"https://southcentralus.experiments.azureml.net/jasmine/v1.0/subscriptions/b968fb36-f06a-4c76-a15f-afab68ae7667/resourceGroups/aml-quickstarts-142058/providers/Microsoft.MachineLearningServices/workspaces/quick-starts-ws-142058/experimentids/d56e8dec-06f2-4779-a1b9-119ba3d5c77d/cancel/AutoML_5d4d437f-5c73-4b68-abb9-c1951ccd9110\", \"ClientSdkVersion\": \"1.24.0\", \"snapshotId\": \"00000000-0000-0000-0000-000000000000\", \"SetupRunId\": \"AutoML_5d4d437f-5c73-4b68-abb9-c1951ccd9110_setup\", \"SetupRunContainerId\": \"dcid.AutoML_5d4d437f-5c73-4b68-abb9-c1951ccd9110_setup\", \"FeaturizationRunJsonPath\": \"featurizer_container.json\", \"FeaturizationRunId\": \"AutoML_5d4d437f-5c73-4b68-abb9-c1951ccd9110_featurize\", \"ProblemInfoJsonString\": \"{\\\"dataset_num_categorical\\\": 0, \\\"is_sparse\\\": true, \\\"subsampling\\\": false, \\\"dataset_classes\\\": 2, \\\"dataset_features\\\": 27, \\\"dataset_samples\\\": 958, \\\"single_frequency_class_detected\\\": false}\", \"ModelExplainRunId\": \"AutoML_5d4d437f-5c73-4b68-abb9-c1951ccd9110_ModelExplain\"}, \"tags\": {\"model_explain_run\": \"best_run\", \"_aml_system_azureml.automlComponent\": \"AutoML\", \"pipeline_id\": \"\", \"score\": \"\", \"predicted_cost\": \"\", \"fit_time\": \"\", \"training_percent\": \"\", \"iteration\": \"\", \"run_preprocessor\": \"\", \"run_algorithm\": \"\", \"dynamic_whitelisting_iterations\": \"<25>;<30>;<35>;<40>;\", \"automl_best_child_run_id\": \"AutoML_5d4d437f-5c73-4b68-abb9-c1951ccd9110_28\", \"model_explain_best_run_child_id\": \"AutoML_5d4d437f-5c73-4b68-abb9-c1951ccd9110_28\"}, \"end_time_utc\": \"2021-04-06T02:35:00.986468Z\", \"status\": \"Completed\", \"log_files\": {}, \"log_groups\": [], \"run_duration\": \"0:23:35\", \"run_number\": \"1\", \"run_queued_details\": {\"status\": \"Completed\", \"details\": null}}, \"child_runs\": [{\"run_id\": \"AutoML_5d4d437f-5c73-4b68-abb9-c1951ccd9110_0\", \"run_number\": 5, \"metric\": null, \"status\": \"Completed\", \"run_type\": \"azureml.scriptrun\", \"training_percent\": \"100\", \"start_time\": \"2021-04-06T02:20:05.783748Z\", \"end_time\": \"2021-04-06T02:20:45.280645Z\", \"created_time\": \"2021-04-06T02:19:54.582173Z\", \"created_time_dt\": \"2021-04-06T02:19:54.582173Z\", \"duration\": \"0:00:50\", \"iteration\": \"0\", \"goal\": \"accuracy_max\", \"run_name\": \"MaxAbsScaler, LightGBM\", \"run_properties\": \"copy=True\", \"primary_metric\": 0.9843227, \"best_metric\": 0.9843227}, {\"run_id\": \"AutoML_5d4d437f-5c73-4b68-abb9-c1951ccd9110_3\", \"run_number\": 6, \"metric\": null, \"status\": \"Completed\", \"run_type\": \"azureml.scriptrun\", \"training_percent\": \"100\", \"start_time\": \"2021-04-06T02:21:02.724647Z\", \"end_time\": \"2021-04-06T02:21:46.134589Z\", \"created_time\": \"2021-04-06T02:19:54.681819Z\", \"created_time_dt\": \"2021-04-06T02:19:54.681819Z\", \"duration\": \"0:01:51\", \"iteration\": \"3\", \"goal\": \"accuracy_max\", \"run_name\": \"MaxAbsScaler, RandomForest\", \"run_properties\": \"copy=True\", \"primary_metric\": 0.74120031, \"best_metric\": 0.9843227}, {\"run_id\": \"AutoML_5d4d437f-5c73-4b68-abb9-c1951ccd9110_2\", \"run_number\": 7, \"metric\": null, \"status\": \"Completed\", \"run_type\": \"azureml.scriptrun\", \"training_percent\": \"100\", \"start_time\": \"2021-04-06T02:22:02.187292Z\", \"end_time\": \"2021-04-06T02:22:44.758796Z\", \"created_time\": \"2021-04-06T02:19:54.694095Z\", \"created_time_dt\": \"2021-04-06T02:19:54.694095Z\", \"duration\": \"0:02:50\", \"iteration\": \"2\", \"goal\": \"accuracy_max\", \"run_name\": \"MaxAbsScaler, RandomForest\", \"run_properties\": \"copy=True\", \"primary_metric\": 0.75787134, \"best_metric\": 0.9843227}, {\"run_id\": \"AutoML_5d4d437f-5c73-4b68-abb9-c1951ccd9110_1\", \"run_number\": 8, \"metric\": null, \"status\": \"Completed\", \"run_type\": \"azureml.scriptrun\", \"training_percent\": \"100\", \"start_time\": \"2021-04-06T02:22:20.061047Z\", \"end_time\": \"2021-04-06T02:24:29.127853Z\", \"created_time\": \"2021-04-06T02:19:54.687237Z\", \"created_time_dt\": \"2021-04-06T02:19:54.687237Z\", \"duration\": \"0:04:34\", \"iteration\": \"1\", \"goal\": \"accuracy_max\", \"run_name\": \"MaxAbsScaler, XGBoostClassifier\", \"run_properties\": \"copy=True\", \"primary_metric\": 0.96034257, \"best_metric\": 0.9843227}, {\"run_id\": \"AutoML_5d4d437f-5c73-4b68-abb9-c1951ccd9110_4\", \"run_number\": 9, \"metric\": null, \"status\": \"Completed\", \"run_type\": \"azureml.scriptrun\", \"training_percent\": \"100\", \"start_time\": \"2021-04-06T02:22:22.552673Z\", \"end_time\": \"2021-04-06T02:25:27.920844Z\", \"created_time\": \"2021-04-06T02:20:47.272701Z\", \"created_time_dt\": \"2021-04-06T02:20:47.272701Z\", \"duration\": \"0:04:40\", \"iteration\": \"4\", \"goal\": \"accuracy_max\", \"run_name\": \"MaxAbsScaler, RandomForest\", \"run_properties\": \"copy=True\", \"primary_metric\": 0.85492068, \"best_metric\": 0.9843227}, {\"run_id\": \"AutoML_5d4d437f-5c73-4b68-abb9-c1951ccd9110_5\", \"run_number\": 10, \"metric\": null, \"status\": \"Completed\", \"run_type\": \"azureml.scriptrun\", \"training_percent\": \"100\", \"start_time\": \"2021-04-06T02:22:20.953366Z\", \"end_time\": \"2021-04-06T02:25:22.85272Z\", \"created_time\": \"2021-04-06T02:21:49.794221Z\", \"created_time_dt\": \"2021-04-06T02:21:49.794221Z\", \"duration\": \"0:03:33\", \"iteration\": \"5\", \"goal\": \"accuracy_max\", \"run_name\": \"MaxAbsScaler, RandomForest\", \"run_properties\": \"copy=True\", \"primary_metric\": 0.69835251, \"best_metric\": 0.9843227}, {\"run_id\": \"AutoML_5d4d437f-5c73-4b68-abb9-c1951ccd9110_6\", \"run_number\": 11, \"metric\": null, \"status\": \"Completed\", \"run_type\": \"azureml.scriptrun\", \"training_percent\": \"100\", \"start_time\": \"2021-04-06T02:22:57.963626Z\", \"end_time\": \"2021-04-06T02:23:42.559204Z\", \"created_time\": \"2021-04-06T02:22:48.260832Z\", \"created_time_dt\": \"2021-04-06T02:22:48.260832Z\", \"duration\": \"0:00:54\", \"iteration\": \"6\", \"goal\": \"accuracy_max\", \"run_name\": \"SparseNormalizer, XGBoostClassifier\", \"run_properties\": \"<azureml.automl.runtime.shared.model_wrappers.SparseNormalizer object at 0x7f5b62d06908\", \"primary_metric\": 0.98643654, \"best_metric\": 0.98643654}, {\"run_id\": \"AutoML_5d4d437f-5c73-4b68-abb9-c1951ccd9110_7\", \"run_number\": 12, \"metric\": null, \"status\": \"Completed\", \"run_type\": \"azureml.scriptrun\", \"training_percent\": \"100\", \"start_time\": \"2021-04-06T02:23:56.730404Z\", \"end_time\": \"2021-04-06T02:24:41.509335Z\", \"created_time\": \"2021-04-06T02:23:45.88876Z\", \"created_time_dt\": \"2021-04-06T02:23:45.88876Z\", \"duration\": \"0:00:55\", \"iteration\": \"7\", \"goal\": \"accuracy_max\", \"run_name\": \"MaxAbsScaler, LogisticRegression\", \"run_properties\": \"copy=True\", \"primary_metric\": 0.98016911, \"best_metric\": 0.98643654}, {\"run_id\": \"AutoML_5d4d437f-5c73-4b68-abb9-c1951ccd9110_8\", \"run_number\": 13, \"metric\": null, \"status\": \"Completed\", \"run_type\": \"azureml.scriptrun\", \"training_percent\": \"100\", \"start_time\": \"2021-04-06T02:24:42.967365Z\", \"end_time\": \"2021-04-06T02:25:31.288817Z\", \"created_time\": \"2021-04-06T02:24:33.375416Z\", \"created_time_dt\": \"2021-04-06T02:24:33.375416Z\", \"duration\": \"0:00:57\", \"iteration\": \"8\", \"goal\": \"accuracy_max\", \"run_name\": \"MaxAbsScaler, LogisticRegression\", \"run_properties\": \"copy=True\", \"primary_metric\": 0.98329411, \"best_metric\": 0.98643654}, {\"run_id\": \"AutoML_5d4d437f-5c73-4b68-abb9-c1951ccd9110_9\", \"run_number\": 14, \"metric\": null, \"status\": \"Completed\", \"run_type\": \"azureml.scriptrun\", \"training_percent\": \"100\", \"start_time\": \"2021-04-06T02:24:57.893393Z\", \"end_time\": \"2021-04-06T02:25:39.064788Z\", \"created_time\": \"2021-04-06T02:24:44.262877Z\", \"created_time_dt\": \"2021-04-06T02:24:44.262877Z\", \"duration\": \"0:00:54\", \"iteration\": \"9\", \"goal\": \"accuracy_max\", \"run_name\": \"SparseNormalizer, XGBoostClassifier\", \"run_properties\": \"<azureml.automl.runtime.shared.model_wrappers.SparseNormalizer object at 0x7fab0275d080\", \"primary_metric\": 0.69733699, \"best_metric\": 0.98643654}, {\"run_id\": \"AutoML_5d4d437f-5c73-4b68-abb9-c1951ccd9110_10\", \"run_number\": 15, \"metric\": null, \"status\": \"Completed\", \"run_type\": \"azureml.scriptrun\", \"training_percent\": \"100\", \"start_time\": \"2021-04-06T02:25:35.274364Z\", \"end_time\": \"2021-04-06T02:26:17.733409Z\", \"created_time\": \"2021-04-06T02:25:25.689669Z\", \"created_time_dt\": \"2021-04-06T02:25:25.689669Z\", \"duration\": \"0:00:52\", \"iteration\": \"10\", \"goal\": \"accuracy_max\", \"run_name\": \"StandardScalerWrapper, XGBoostClassifier\", \"run_properties\": \"<azureml.automl.runtime.shared.model_wrappers.StandardScalerWrapper object at 0x7fb6702af668\", \"primary_metric\": 0.92178347, \"best_metric\": 0.98643654}, {\"run_id\": \"AutoML_5d4d437f-5c73-4b68-abb9-c1951ccd9110_11\", \"run_number\": 16, \"metric\": null, \"status\": \"Completed\", \"run_type\": \"azureml.scriptrun\", \"training_percent\": \"100\", \"start_time\": \"2021-04-06T02:25:40.111543Z\", \"end_time\": \"2021-04-06T02:26:24.409906Z\", \"created_time\": \"2021-04-06T02:25:30.412358Z\", \"created_time_dt\": \"2021-04-06T02:25:30.412358Z\", \"duration\": \"0:00:53\", \"iteration\": \"11\", \"goal\": \"accuracy_max\", \"run_name\": \"StandardScalerWrapper, RandomForest\", \"run_properties\": \"<azureml.automl.runtime.shared.model_wrappers.StandardScalerWrapper object at 0x7f5466a1dbe0\", \"primary_metric\": 0.7798553, \"best_metric\": 0.98643654}, {\"run_id\": \"AutoML_5d4d437f-5c73-4b68-abb9-c1951ccd9110_12\", \"run_number\": 17, \"metric\": null, \"status\": \"Completed\", \"run_type\": \"azureml.scriptrun\", \"training_percent\": \"100\", \"start_time\": \"2021-04-06T02:25:45.675906Z\", \"end_time\": \"2021-04-06T02:26:25.10027Z\", \"created_time\": \"2021-04-06T02:25:34.430973Z\", \"created_time_dt\": \"2021-04-06T02:25:34.430973Z\", \"duration\": \"0:00:50\", \"iteration\": \"12\", \"goal\": \"accuracy_max\", \"run_name\": \"SparseNormalizer, XGBoostClassifier\", \"run_properties\": \"<azureml.automl.runtime.shared.model_wrappers.SparseNormalizer object at 0x7f3036c679b0\", \"primary_metric\": 0.98955282, \"best_metric\": 0.98955282}, {\"run_id\": \"AutoML_5d4d437f-5c73-4b68-abb9-c1951ccd9110_13\", \"run_number\": 18, \"metric\": null, \"status\": \"Completed\", \"run_type\": \"azureml.scriptrun\", \"training_percent\": \"100\", \"start_time\": \"2021-04-06T02:25:52.966857Z\", \"end_time\": \"2021-04-06T02:26:41.243601Z\", \"created_time\": \"2021-04-06T02:25:42.275141Z\", \"created_time_dt\": \"2021-04-06T02:25:42.275141Z\", \"duration\": \"0:00:58\", \"iteration\": \"13\", \"goal\": \"accuracy_max\", \"run_name\": \"MaxAbsScaler, GradientBoosting\", \"run_properties\": \"copy=True\", \"primary_metric\": 0.72240237, \"best_metric\": 0.98955282}, {\"run_id\": \"AutoML_5d4d437f-5c73-4b68-abb9-c1951ccd9110_14\", \"run_number\": 19, \"metric\": null, \"status\": \"Completed\", \"run_type\": \"azureml.scriptrun\", \"training_percent\": \"100\", \"start_time\": \"2021-04-06T02:26:32.745573Z\", \"end_time\": \"2021-04-06T02:27:21.245514Z\", \"created_time\": \"2021-04-06T02:26:20.084785Z\", \"created_time_dt\": \"2021-04-06T02:26:20.084785Z\", \"duration\": \"0:01:01\", \"iteration\": \"14\", \"goal\": \"accuracy_max\", \"run_name\": \"MaxAbsScaler, LogisticRegression\", \"run_properties\": \"copy=True\", \"primary_metric\": 0.98329411, \"best_metric\": 0.98955282}, {\"run_id\": \"AutoML_5d4d437f-5c73-4b68-abb9-c1951ccd9110_16\", \"run_number\": 20, \"metric\": null, \"status\": \"Completed\", \"run_type\": \"azureml.scriptrun\", \"training_percent\": \"100\", \"start_time\": \"2021-04-06T02:26:38.408943Z\", \"end_time\": \"2021-04-06T02:27:26.087868Z\", \"created_time\": \"2021-04-06T02:26:28.283413Z\", \"created_time_dt\": \"2021-04-06T02:26:28.283413Z\", \"duration\": \"0:00:57\", \"iteration\": \"16\", \"goal\": \"accuracy_max\", \"run_name\": \"SparseNormalizer, XGBoostClassifier\", \"run_properties\": \"<azureml.automl.runtime.shared.model_wrappers.SparseNormalizer object at 0x7fece9b9c278\", \"primary_metric\": 0.98851987, \"best_metric\": 0.98955282}, {\"run_id\": \"AutoML_5d4d437f-5c73-4b68-abb9-c1951ccd9110_15\", \"run_number\": 21, \"metric\": null, \"status\": \"Completed\", \"run_type\": \"azureml.scriptrun\", \"training_percent\": \"100\", \"start_time\": \"2021-04-06T02:26:37.890027Z\", \"end_time\": \"2021-04-06T02:27:25.439245Z\", \"created_time\": \"2021-04-06T02:26:28.346771Z\", \"created_time_dt\": \"2021-04-06T02:26:28.346771Z\", \"duration\": \"0:00:57\", \"iteration\": \"15\", \"goal\": \"accuracy_max\", \"run_name\": \"MaxAbsScaler, ExtremeRandomTrees\", \"run_properties\": \"copy=True\", \"primary_metric\": 0.78817556, \"best_metric\": 0.98955282}, {\"run_id\": \"AutoML_5d4d437f-5c73-4b68-abb9-c1951ccd9110_17\", \"run_number\": 22, \"metric\": null, \"status\": \"Completed\", \"run_type\": \"azureml.scriptrun\", \"training_percent\": \"100\", \"start_time\": \"2021-04-06T02:26:57.807257Z\", \"end_time\": \"2021-04-06T02:27:37.881595Z\", \"created_time\": \"2021-04-06T02:26:44.191953Z\", \"created_time_dt\": \"2021-04-06T02:26:44.191953Z\", \"duration\": \"0:00:53\", \"iteration\": \"17\", \"goal\": \"accuracy_max\", \"run_name\": \"SparseNormalizer, XGBoostClassifier\", \"run_properties\": \"<azureml.automl.runtime.shared.model_wrappers.SparseNormalizer object at 0x7f7a4746cda0\", \"primary_metric\": 0.98746949, \"best_metric\": 0.98955282}, {\"run_id\": \"AutoML_5d4d437f-5c73-4b68-abb9-c1951ccd9110_18\", \"run_number\": 23, \"metric\": null, \"status\": \"Completed\", \"run_type\": \"azureml.scriptrun\", \"training_percent\": \"100\", \"start_time\": \"2021-04-06T02:27:36.512091Z\", \"end_time\": \"2021-04-06T02:28:16.818084Z\", \"created_time\": \"2021-04-06T02:27:23.882699Z\", \"created_time_dt\": \"2021-04-06T02:27:23.882699Z\", \"duration\": \"0:00:52\", \"iteration\": \"18\", \"goal\": \"accuracy_max\", \"run_name\": \"SparseNormalizer, XGBoostClassifier\", \"run_properties\": \"<azureml.automl.runtime.shared.model_wrappers.SparseNormalizer object at 0x7f62f81a5cf8\", \"primary_metric\": 0.9561977, \"best_metric\": 0.98955282}, {\"run_id\": \"AutoML_5d4d437f-5c73-4b68-abb9-c1951ccd9110_19\", \"run_number\": 24, \"metric\": null, \"status\": \"Completed\", \"run_type\": \"azureml.scriptrun\", \"training_percent\": \"100\", \"start_time\": \"2021-04-06T02:27:39.98235Z\", \"end_time\": \"2021-04-06T02:28:18.860359Z\", \"created_time\": \"2021-04-06T02:27:28.608348Z\", \"created_time_dt\": \"2021-04-06T02:27:28.608348Z\", \"duration\": \"0:00:50\", \"iteration\": \"19\", \"goal\": \"accuracy_max\", \"run_name\": \"SparseNormalizer, XGBoostClassifier\", \"run_properties\": \"<azureml.automl.runtime.shared.model_wrappers.SparseNormalizer object at 0x7fa659815a90\", \"primary_metric\": 0.98433577, \"best_metric\": 0.98955282}, {\"run_id\": \"AutoML_5d4d437f-5c73-4b68-abb9-c1951ccd9110_20\", \"run_number\": 25, \"metric\": null, \"status\": \"Completed\", \"run_type\": \"azureml.scriptrun\", \"training_percent\": \"100\", \"start_time\": \"2021-04-06T02:27:38.54884Z\", \"end_time\": \"2021-04-06T02:28:17.851942Z\", \"created_time\": \"2021-04-06T02:27:28.626581Z\", \"created_time_dt\": \"2021-04-06T02:27:28.626581Z\", \"duration\": \"0:00:49\", \"iteration\": \"20\", \"goal\": \"accuracy_max\", \"run_name\": \"SparseNormalizer, XGBoostClassifier\", \"run_properties\": \"<azureml.automl.runtime.shared.model_wrappers.SparseNormalizer object at 0x7f7f1a06e9b0\", \"primary_metric\": 0.98851552, \"best_metric\": 0.98955282}, {\"run_id\": \"AutoML_5d4d437f-5c73-4b68-abb9-c1951ccd9110_21\", \"run_number\": 26, \"metric\": null, \"status\": \"Completed\", \"run_type\": \"azureml.scriptrun\", \"training_percent\": \"100\", \"start_time\": \"2021-04-06T02:27:52.340911Z\", \"end_time\": \"2021-04-06T02:28:33.065023Z\", \"created_time\": \"2021-04-06T02:27:40.052963Z\", \"created_time_dt\": \"2021-04-06T02:27:40.052963Z\", \"duration\": \"0:00:53\", \"iteration\": \"21\", \"goal\": \"accuracy_max\", \"run_name\": \"StandardScalerWrapper, XGBoostClassifier\", \"run_properties\": \"<azureml.automl.runtime.shared.model_wrappers.StandardScalerWrapper object at 0x7ff636d3dba8\", \"primary_metric\": 0.98746949, \"best_metric\": 0.98955282}, {\"run_id\": \"AutoML_5d4d437f-5c73-4b68-abb9-c1951ccd9110_22\", \"run_number\": 27, \"metric\": null, \"status\": \"Completed\", \"run_type\": \"azureml.scriptrun\", \"training_percent\": \"100\", \"start_time\": \"2021-04-06T02:28:33.865349Z\", \"end_time\": \"2021-04-06T02:29:17.329217Z\", \"created_time\": \"2021-04-06T02:28:19.41819Z\", \"created_time_dt\": \"2021-04-06T02:28:19.41819Z\", \"duration\": \"0:00:57\", \"iteration\": \"22\", \"goal\": \"accuracy_max\", \"run_name\": \"SparseNormalizer, XGBoostClassifier\", \"run_properties\": \"<azureml.automl.runtime.shared.model_wrappers.SparseNormalizer object at 0x7f71145c9b70\", \"primary_metric\": 0.99060321, \"best_metric\": 0.99060321}, {\"run_id\": \"AutoML_5d4d437f-5c73-4b68-abb9-c1951ccd9110_23\", \"run_number\": 28, \"metric\": null, \"status\": \"Completed\", \"run_type\": \"azureml.scriptrun\", \"training_percent\": \"100\", \"start_time\": \"2021-04-06T02:28:34.055409Z\", \"end_time\": \"2021-04-06T02:29:18.961203Z\", \"created_time\": \"2021-04-06T02:28:23.952708Z\", \"created_time_dt\": \"2021-04-06T02:28:23.952708Z\", \"duration\": \"0:00:55\", \"iteration\": \"23\", \"goal\": \"accuracy_max\", \"run_name\": \"SparseNormalizer, XGBoostClassifier\", \"run_properties\": \"<azureml.automl.runtime.shared.model_wrappers.SparseNormalizer object at 0x7f0361c1eac8\", \"primary_metric\": 0.96347193, \"best_metric\": 0.99060321}, {\"run_id\": \"AutoML_5d4d437f-5c73-4b68-abb9-c1951ccd9110_24\", \"run_number\": 29, \"metric\": null, \"status\": \"Completed\", \"run_type\": \"azureml.scriptrun\", \"training_percent\": \"100\", \"start_time\": \"2021-04-06T02:28:33.935915Z\", \"end_time\": \"2021-04-06T02:29:15.338812Z\", \"created_time\": \"2021-04-06T02:28:24.21142Z\", \"created_time_dt\": \"2021-04-06T02:28:24.21142Z\", \"duration\": \"0:00:51\", \"iteration\": \"24\", \"goal\": \"accuracy_max\", \"run_name\": \"MaxAbsScaler, LightGBM\", \"run_properties\": \"copy=True\", \"primary_metric\": 0.7203016, \"best_metric\": 0.99060321}, {\"run_id\": \"AutoML_5d4d437f-5c73-4b68-abb9-c1951ccd9110_25\", \"run_number\": 30, \"metric\": null, \"status\": \"Completed\", \"run_type\": \"azureml.scriptrun\", \"training_percent\": \"100\", \"start_time\": \"2021-04-06T02:28:47.217304Z\", \"end_time\": \"2021-04-06T02:29:25.949686Z\", \"created_time\": \"2021-04-06T02:28:36.637281Z\", \"created_time_dt\": \"2021-04-06T02:28:36.637281Z\", \"duration\": \"0:00:49\", \"iteration\": \"25\", \"goal\": \"accuracy_max\", \"run_name\": \"StandardScalerWrapper, XGBoostClassifier\", \"run_properties\": \"<azureml.automl.runtime.shared.model_wrappers.StandardScalerWrapper object at 0x7fb7f6e59ac8\", \"primary_metric\": 0.65349983, \"best_metric\": 0.99060321}, {\"run_id\": \"AutoML_5d4d437f-5c73-4b68-abb9-c1951ccd9110_26\", \"run_number\": 31, \"metric\": null, \"status\": \"Completed\", \"run_type\": \"azureml.scriptrun\", \"training_percent\": \"100\", \"start_time\": \"2021-04-06T02:29:32.662161Z\", \"end_time\": \"2021-04-06T02:30:15.292442Z\", \"created_time\": \"2021-04-06T02:29:17.563494Z\", \"created_time_dt\": \"2021-04-06T02:29:17.563494Z\", \"duration\": \"0:00:57\", \"iteration\": \"26\", \"goal\": \"accuracy_max\", \"run_name\": \"SparseNormalizer, XGBoostClassifier\", \"run_properties\": \"<azureml.automl.runtime.shared.model_wrappers.SparseNormalizer object at 0x7fcd0c564898\", \"primary_metric\": 0.99164487, \"best_metric\": 0.99164487}, {\"run_id\": \"AutoML_5d4d437f-5c73-4b68-abb9-c1951ccd9110_27\", \"run_number\": 32, \"metric\": null, \"status\": \"Completed\", \"run_type\": \"azureml.scriptrun\", \"training_percent\": \"100\", \"start_time\": \"2021-04-06T02:29:34.876713Z\", \"end_time\": \"2021-04-06T02:30:20.433436Z\", \"created_time\": \"2021-04-06T02:29:24.381559Z\", \"created_time_dt\": \"2021-04-06T02:29:24.381559Z\", \"duration\": \"0:00:56\", \"iteration\": \"27\", \"goal\": \"accuracy_max\", \"run_name\": \"SparseNormalizer, XGBoostClassifier\", \"run_properties\": \"<azureml.automl.runtime.shared.model_wrappers.SparseNormalizer object at 0x7fe6cc972e80\", \"primary_metric\": 0.9853818, \"best_metric\": 0.99164487}, {\"run_id\": \"AutoML_5d4d437f-5c73-4b68-abb9-c1951ccd9110_28\", \"run_number\": 33, \"metric\": null, \"status\": \"Completed\", \"run_type\": \"azureml.scriptrun\", \"training_percent\": \"100\", \"start_time\": \"2021-04-06T02:29:34.181276Z\", \"end_time\": \"2021-04-06T02:30:13.479307Z\", \"created_time\": \"2021-04-06T02:29:24.528907Z\", \"created_time_dt\": \"2021-04-06T02:29:24.528907Z\", \"duration\": \"0:00:48\", \"iteration\": \"28\", \"goal\": \"accuracy_max\", \"run_name\": \"SparseNormalizer, XGBoostClassifier\", \"run_properties\": \"<azureml.automl.runtime.shared.model_wrappers.SparseNormalizer object at 0x7f2ac4765a90\", \"primary_metric\": 0.99895397, \"best_metric\": 0.99895397}, {\"run_id\": \"AutoML_5d4d437f-5c73-4b68-abb9-c1951ccd9110_29\", \"run_number\": 34, \"metric\": null, \"status\": \"Completed\", \"run_type\": \"azureml.scriptrun\", \"training_percent\": \"100\", \"start_time\": \"2021-04-06T02:29:41.658761Z\", \"end_time\": \"2021-04-06T02:30:21.035465Z\", \"created_time\": \"2021-04-06T02:29:31.162491Z\", \"created_time_dt\": \"2021-04-06T02:29:31.162491Z\", \"duration\": \"0:00:49\", \"iteration\": \"29\", \"goal\": \"accuracy_max\", \"run_name\": \"MaxAbsScaler, LogisticRegression\", \"run_properties\": \"copy=True\", \"primary_metric\": 0.97599372, \"best_metric\": 0.99895397}, {\"run_id\": \"AutoML_5d4d437f-5c73-4b68-abb9-c1951ccd9110_30\", \"run_number\": 35, \"metric\": null, \"status\": \"Completed\", \"run_type\": \"azureml.scriptrun\", \"training_percent\": \"100\", \"start_time\": \"2021-04-06T02:30:28.227496Z\", \"end_time\": \"2021-04-06T02:31:09.308887Z\", \"created_time\": \"2021-04-06T02:30:17.656933Z\", \"created_time_dt\": \"2021-04-06T02:30:17.656933Z\", \"duration\": \"0:00:51\", \"iteration\": \"30\", \"goal\": \"accuracy_max\", \"run_name\": \"StandardScalerWrapper, XGBoostClassifier\", \"run_properties\": \"<azureml.automl.runtime.shared.model_wrappers.StandardScalerWrapper object at 0x7fe457dddc18\", \"primary_metric\": 0.99164052, \"best_metric\": 0.99895397}, {\"run_id\": \"AutoML_5d4d437f-5c73-4b68-abb9-c1951ccd9110_31\", \"run_number\": 36, \"metric\": null, \"status\": \"Completed\", \"run_type\": \"azureml.scriptrun\", \"training_percent\": \"100\", \"start_time\": \"2021-04-06T02:30:35.21464Z\", \"end_time\": \"2021-04-06T02:31:17.867139Z\", \"created_time\": \"2021-04-06T02:30:23.93182Z\", \"created_time_dt\": \"2021-04-06T02:30:23.93182Z\", \"duration\": \"0:00:53\", \"iteration\": \"31\", \"goal\": \"accuracy_max\", \"run_name\": \"StandardScalerWrapper, XGBoostClassifier\", \"run_properties\": \"<azureml.automl.runtime.shared.model_wrappers.StandardScalerWrapper object at 0x7f06d5952908\", \"primary_metric\": 0.98956154, \"best_metric\": 0.99895397}, {\"run_id\": \"AutoML_5d4d437f-5c73-4b68-abb9-c1951ccd9110_33\", \"run_number\": 37, \"metric\": null, \"status\": \"Completed\", \"run_type\": \"azureml.scriptrun\", \"training_percent\": \"100\", \"start_time\": \"2021-04-06T02:30:32.302735Z\", \"end_time\": \"2021-04-06T02:31:12.374147Z\", \"created_time\": \"2021-04-06T02:30:24.045359Z\", \"created_time_dt\": \"2021-04-06T02:30:24.045359Z\", \"duration\": \"0:00:48\", \"iteration\": \"33\", \"goal\": \"accuracy_max\", \"run_name\": \"StandardScalerWrapper, XGBoostClassifier\", \"run_properties\": \"<azureml.automl.runtime.shared.model_wrappers.StandardScalerWrapper object at 0x7fec7a8cbcc0\", \"primary_metric\": 0.98120642, \"best_metric\": 0.99895397}, {\"run_id\": \"AutoML_5d4d437f-5c73-4b68-abb9-c1951ccd9110_32\", \"run_number\": 38, \"metric\": null, \"status\": \"Completed\", \"run_type\": \"azureml.scriptrun\", \"training_percent\": \"100\", \"start_time\": \"2021-04-06T02:30:38.493547Z\", \"end_time\": \"2021-04-06T02:31:18.685755Z\", \"created_time\": \"2021-04-06T02:30:24.101715Z\", \"created_time_dt\": \"2021-04-06T02:30:24.101715Z\", \"duration\": \"0:00:54\", \"iteration\": \"32\", \"goal\": \"accuracy_max\", \"run_name\": \"SparseNormalizer, XGBoostClassifier\", \"run_properties\": \"<azureml.automl.runtime.shared.model_wrappers.SparseNormalizer object at 0x7fccdaca58d0\", \"primary_metric\": 0.94993898, \"best_metric\": 0.99895397}, {\"run_id\": \"AutoML_5d4d437f-5c73-4b68-abb9-c1951ccd9110_34\", \"run_number\": 39, \"metric\": null, \"status\": \"Completed\", \"run_type\": \"azureml.scriptrun\", \"training_percent\": \"100\", \"start_time\": \"2021-04-06T02:31:24.151377Z\", \"end_time\": \"2021-04-06T02:32:06.365328Z\", \"created_time\": \"2021-04-06T02:31:11.491091Z\", \"created_time_dt\": \"2021-04-06T02:31:11.491091Z\", \"duration\": \"0:00:54\", \"iteration\": \"34\", \"goal\": \"accuracy_max\", \"run_name\": \"StandardScalerWrapper, XGBoostClassifier\", \"run_properties\": \"<azureml.automl.runtime.shared.model_wrappers.StandardScalerWrapper object at 0x7fa2840f0e48\", \"primary_metric\": 0.9853818, \"best_metric\": 0.99895397}, {\"run_id\": \"AutoML_5d4d437f-5c73-4b68-abb9-c1951ccd9110_35\", \"run_number\": 40, \"metric\": null, \"status\": \"Completed\", \"run_type\": \"azureml.scriptrun\", \"training_percent\": \"100\", \"start_time\": \"2021-04-06T02:31:27.657965Z\", \"end_time\": \"2021-04-06T02:32:09.154807Z\", \"created_time\": \"2021-04-06T02:31:17.424643Z\", \"created_time_dt\": \"2021-04-06T02:31:17.424643Z\", \"duration\": \"0:00:51\", \"iteration\": \"35\", \"goal\": \"accuracy_max\", \"run_name\": \"SparseNormalizer, XGBoostClassifier\", \"run_properties\": \"<azureml.automl.runtime.shared.model_wrappers.SparseNormalizer object at 0x7fa141123400\", \"primary_metric\": 0.99686628, \"best_metric\": 0.99895397}, {\"run_id\": \"AutoML_5d4d437f-5c73-4b68-abb9-c1951ccd9110_36\", \"run_number\": 41, \"metric\": null, \"status\": \"Completed\", \"run_type\": \"azureml.scriptrun\", \"training_percent\": \"100\", \"start_time\": \"2021-04-06T02:31:34.248893Z\", \"end_time\": \"2021-04-06T02:32:16.402057Z\", \"created_time\": \"2021-04-06T02:31:22.120847Z\", \"created_time_dt\": \"2021-04-06T02:31:22.120847Z\", \"duration\": \"0:00:54\", \"iteration\": \"36\", \"goal\": \"accuracy_max\", \"run_name\": \"MaxAbsScaler, LogisticRegression\", \"run_properties\": \"copy=True\", \"primary_metric\": 0.97180962, \"best_metric\": 0.99895397}, {\"run_id\": \"AutoML_5d4d437f-5c73-4b68-abb9-c1951ccd9110_37\", \"run_number\": 42, \"metric\": null, \"status\": \"Completed\", \"run_type\": \"azureml.scriptrun\", \"training_percent\": \"100\", \"start_time\": \"2021-04-06T02:31:32.293434Z\", \"end_time\": \"2021-04-06T02:32:16.605146Z\", \"created_time\": \"2021-04-06T02:31:22.359864Z\", \"created_time_dt\": \"2021-04-06T02:31:22.359864Z\", \"duration\": \"0:00:54\", \"iteration\": \"37\", \"goal\": \"accuracy_max\", \"run_name\": \"MaxAbsScaler, LogisticRegression\", \"run_properties\": \"copy=True\", \"primary_metric\": 0.97180962, \"best_metric\": 0.99895397}, {\"run_id\": \"AutoML_5d4d437f-5c73-4b68-abb9-c1951ccd9110_38\", \"run_number\": 43, \"metric\": null, \"status\": \"Completed\", \"run_type\": \"azureml.scriptrun\", \"training_percent\": \"100\", \"start_time\": \"2021-04-06T02:32:21.06445Z\", \"end_time\": \"2021-04-06T02:33:07.130538Z\", \"created_time\": \"2021-04-06T02:32:09.215428Z\", \"created_time_dt\": \"2021-04-06T02:32:09.215428Z\", \"duration\": \"0:00:57\", \"iteration\": \"38\", \"goal\": \"accuracy_max\", \"run_name\": \"MaxAbsScaler, LogisticRegression\", \"run_properties\": \"copy=True\", \"primary_metric\": 0.98121077, \"best_metric\": 0.99895397}, {\"run_id\": \"AutoML_5d4d437f-5c73-4b68-abb9-c1951ccd9110_39\", \"run_number\": 44, \"metric\": null, \"status\": \"Completed\", \"run_type\": \"azureml.scriptrun\", \"training_percent\": \"100\", \"start_time\": \"2021-04-06T02:32:25.939603Z\", \"end_time\": \"2021-04-06T02:33:05.94882Z\", \"created_time\": \"2021-04-06T02:32:13.687017Z\", \"created_time_dt\": \"2021-04-06T02:32:13.687017Z\", \"duration\": \"0:00:52\", \"iteration\": \"39\", \"goal\": \"accuracy_max\", \"run_name\": \"StandardScalerWrapper, LogisticRegression\", \"run_properties\": \"<azureml.automl.runtime.shared.model_wrappers.StandardScalerWrapper object at 0x7fecd9b75518\", \"primary_metric\": 0.98016911, \"best_metric\": 0.99895397}, {\"run_id\": \"AutoML_5d4d437f-5c73-4b68-abb9-c1951ccd9110_40\", \"run_number\": 45, \"metric\": null, \"status\": \"Canceled\", \"run_type\": \"azureml.scriptrun\", \"training_percent\": \"100\", \"start_time\": \"2021-04-06T02:32:32.105981Z\", \"end_time\": \"2021-04-06T02:33:14.626579Z\", \"created_time\": \"2021-04-06T02:32:21.55861Z\", \"created_time_dt\": \"2021-04-06T02:32:21.55861Z\", \"duration\": \"0:00:53\", \"iteration\": \"40\", \"goal\": \"accuracy_max\", \"run_name\": \"StandardScalerWrapper, XGBoostClassifier\", \"run_properties\": \"<azureml.automl.runtime.shared.model_wrappers.StandardScalerWrapper object at 0x7f6db306f278\", \"primary_metric\": 0.76728121, \"best_metric\": 0.99895397}, {\"run_id\": \"AutoML_5d4d437f-5c73-4b68-abb9-c1951ccd9110_41\", \"run_number\": 46, \"metric\": null, \"status\": \"Canceled\", \"run_type\": \"azureml.scriptrun\", \"training_percent\": \"100\", \"start_time\": \"2021-04-06T02:32:30.504031Z\", \"end_time\": \"2021-04-06T02:33:19.867646Z\", \"created_time\": \"2021-04-06T02:32:21.690893Z\", \"created_time_dt\": \"2021-04-06T02:32:21.690893Z\", \"duration\": \"0:00:58\", \"iteration\": \"41\", \"goal\": \"accuracy_max\", \"run_name\": \"SparseNormalizer, XGBoostClassifier\", \"run_properties\": \"<azureml.automl.runtime.shared.model_wrappers.SparseNormalizer object at 0x7f400d28d278\", \"primary_metric\": 0.98955282, \"best_metric\": 0.99895397}, {\"run_id\": \"AutoML_5d4d437f-5c73-4b68-abb9-c1951ccd9110_42\", \"run_number\": 47, \"metric\": null, \"status\": \"Canceled\", \"run_type\": \"azureml.scriptrun\", \"training_percent\": \"100\", \"start_time\": \"2021-04-06T02:33:08.54663Z\", \"end_time\": \"2021-04-06T02:33:26.06701Z\", \"created_time\": \"2021-04-06T02:33:08.54663Z\", \"created_time_dt\": \"2021-04-06T02:33:08.54663Z\", \"duration\": \"0:00:17\", \"iteration\": \"42\", \"goal\": null, \"run_name\": \"Canceled\", \"run_properties\": null}, {\"run_id\": \"AutoML_5d4d437f-5c73-4b68-abb9-c1951ccd9110_43\", \"run_number\": 48, \"metric\": null, \"status\": \"Completed\", \"run_type\": \"azureml.scriptrun\", \"training_percent\": \"100\", \"start_time\": \"2021-04-06T02:33:36.076757Z\", \"end_time\": \"2021-04-06T02:34:44.293967Z\", \"created_time\": \"2021-04-06T02:33:27.44085Z\", \"created_time_dt\": \"2021-04-06T02:33:27.44085Z\", \"duration\": \"0:01:16\", \"iteration\": \"43\", \"goal\": \"accuracy_max\", \"run_name\": \"VotingEnsemble\", \"run_properties\": \"classification_labels=None,\\n                              estimators=[('28',\\n                                           Pipeline(memory=None,\\n                                                    steps=[('sparsenormalizer',\\n                                                            <azureml.automl.runtime.shared.model_wrappers.SparseNormalizer object at 0x7f5f204ee2e8>\", \"primary_metric\": 0.99895397, \"best_metric\": 0.99895397}, {\"run_id\": \"AutoML_5d4d437f-5c73-4b68-abb9-c1951ccd9110_44\", \"run_number\": 49, \"metric\": null, \"status\": \"Completed\", \"run_type\": \"azureml.scriptrun\", \"training_percent\": \"100\", \"start_time\": \"2021-04-06T02:33:35.557319Z\", \"end_time\": \"2021-04-06T02:34:39.924042Z\", \"created_time\": \"2021-04-06T02:33:27.622681Z\", \"created_time_dt\": \"2021-04-06T02:33:27.622681Z\", \"duration\": \"0:01:12\", \"iteration\": \"44\", \"goal\": \"accuracy_max\", \"run_name\": \"StackEnsemble\", \"run_properties\": \"base_learners=[('28',\\n                                        Pipeline(memory=None,\\n                                                 steps=[('sparsenormalizer',\\n                                                         <azureml.automl.runtime.shared.model_wrappers.SparseNormalizer object at 0x7f4e44157cf8>\", \"primary_metric\": 0.99895397, \"best_metric\": 0.99895397}], \"children_metrics\": {\"categories\": [0], \"series\": {\"norm_macro_recall\": [{\"categories\": [\"0\", \"1\", \"2\", \"3\", \"4\", \"5\", \"6\", \"7\", \"8\", \"9\", \"10\", \"11\", \"12\", \"13\", \"14\", \"15\", \"16\", \"17\", \"18\", \"19\", \"20\", \"21\", \"22\", \"23\", \"24\", \"25\", \"26\", \"27\", \"28\", \"29\", \"30\", \"31\", \"32\", \"33\", \"34\", \"35\", \"36\", \"37\", \"38\", \"39\", \"40\", \"41\", \"43\", \"44\"], \"mode\": \"markers\", \"name\": \"norm_macro_recall\", \"stepped\": false, \"type\": \"scatter\", \"data\": [0.9588180669530993, 0.8974945109658349, 0.35530847479902067, 0.2963014623248878, 0.7063380363143963, 0.37664498852780226, 0.9628678424052294, 0.946838431503401, 0.9517436489717329, 0.22511809487525203, 0.7918707675324046, 0.4222142881605684, 0.9710860687201455, 0.31009056369999777, 0.9517436489717329, 0.43474646003827155, 0.9679698832215559, 0.9634155970364277, 0.8832974132055204, 0.953759270034973, 0.966936723796991, 0.9638879433091861, 0.9730719240378823, 0.9074953840637411, 0.21545084104229628, 0.0, 0.9756229444460457, 0.9577527430682948, 0.9969512195121951, 0.9405090640395544, 0.9746528380936456, 0.9699855042847959, 0.869242651425046, 0.9477675863976391, 0.958288142413218, 0.9908790723434685, 0.934243898737765, 0.934243898737765, 0.9485989948836826, 0.946838431503401, 0.42803064132021057, 0.9705094609975842, 0.9969512195121951, 0.9969512195121951]}, {\"categories\": [\"0\", \"1\", \"2\", \"3\", \"4\", \"5\", \"6\", \"7\", \"8\", \"9\", \"10\", \"11\", \"12\", \"13\", \"14\", \"15\", \"16\", \"17\", \"18\", \"19\", \"20\", \"21\", \"22\", \"23\", \"24\", \"25\", \"26\", \"27\", \"28\", \"29\", \"30\", \"31\", \"32\", \"33\", \"34\", \"35\", \"36\", \"37\", \"38\", \"39\", \"40\", \"41\", \"43\", \"44\"], \"mode\": \"lines\", \"name\": \"norm_macro_recall_max\", \"stepped\": true, \"type\": \"scatter\", \"data\": [0.9588180669530993, 0.9588180669530993, 0.9588180669530993, 0.9588180669530993, 0.9588180669530993, 0.9588180669530993, 0.9628678424052294, 0.9628678424052294, 0.9628678424052294, 0.9628678424052294, 0.9628678424052294, 0.9628678424052294, 0.9710860687201455, 0.9710860687201455, 0.9710860687201455, 0.9710860687201455, 0.9710860687201455, 0.9710860687201455, 0.9710860687201455, 0.9710860687201455, 0.9710860687201455, 0.9710860687201455, 0.9730719240378823, 0.9730719240378823, 0.9730719240378823, 0.9730719240378823, 0.9756229444460457, 0.9756229444460457, 0.9969512195121951, 0.9969512195121951, 0.9969512195121951, 0.9969512195121951, 0.9969512195121951, 0.9969512195121951, 0.9969512195121951, 0.9969512195121951, 0.9969512195121951, 0.9969512195121951, 0.9969512195121951, 0.9969512195121951, 0.9969512195121951, 0.9969512195121951, 0.9969512195121951, 0.9969512195121951]}], \"log_loss\": [{\"categories\": [\"0\", \"1\", \"2\", \"3\", \"4\", \"5\", \"6\", \"7\", \"8\", \"9\", \"10\", \"11\", \"12\", \"13\", \"14\", \"15\", \"16\", \"17\", \"18\", \"19\", \"20\", \"21\", \"22\", \"23\", \"24\", \"25\", \"26\", \"27\", \"28\", \"29\", \"30\", \"31\", \"32\", \"33\", \"34\", \"35\", \"36\", \"37\", \"38\", \"39\", \"40\", \"41\", \"43\", \"44\"], \"mode\": \"markers\", \"name\": \"log_loss\", \"stepped\": false, \"type\": \"scatter\", \"data\": [0.053886925959110085, 0.18405554616667102, 0.5043666473504417, 0.5256606411042778, 0.4483279584476948, 0.6239780156646914, 0.11094532962675975, 0.07848568795655547, 0.0608709469325704, 0.5970180182361121, 0.30322416769625216, 0.4817119918582873, 0.04387675877469854, 0.5319343670616609, 0.13770305795982105, 0.4305268162462276, 0.09547448827489313, 0.13195267484653103, 0.23222624149272414, 0.17071785048601798, 0.14797911253382592, 0.09887519230649683, 0.06758813440065295, 0.35154365097131907, 0.5480696842408401, 0.6479974645184964, 0.09791130063497533, 0.09354150481362251, 0.044674674986827034, 0.06978579280798906, 0.10602037441624673, 0.1453919314800879, 0.25139881653359636, 0.13253268409389132, 0.11693009405461177, 0.04642098127552646, 0.06135180082848421, 0.06095874641678456, 0.10726231523265946, 0.08015536245738995, 0.4842198673900631, 0.1351023799833672, 0.05535936706514865, 0.005362575996036882]}, {\"categories\": [\"0\", \"1\", \"2\", \"3\", \"4\", \"5\", \"6\", \"7\", \"8\", \"9\", \"10\", \"11\", \"12\", \"13\", \"14\", \"15\", \"16\", \"17\", \"18\", \"19\", \"20\", \"21\", \"22\", \"23\", \"24\", \"25\", \"26\", \"27\", \"28\", \"29\", \"30\", \"31\", \"32\", \"33\", \"34\", \"35\", \"36\", \"37\", \"38\", \"39\", \"40\", \"41\", \"43\", \"44\"], \"mode\": \"lines\", \"name\": \"log_loss_min\", \"stepped\": true, \"type\": \"scatter\", \"data\": [0.053886925959110085, 0.053886925959110085, 0.053886925959110085, 0.053886925959110085, 0.053886925959110085, 0.053886925959110085, 0.053886925959110085, 0.053886925959110085, 0.053886925959110085, 0.053886925959110085, 0.053886925959110085, 0.053886925959110085, 0.04387675877469854, 0.04387675877469854, 0.04387675877469854, 0.04387675877469854, 0.04387675877469854, 0.04387675877469854, 0.04387675877469854, 0.04387675877469854, 0.04387675877469854, 0.04387675877469854, 0.04387675877469854, 0.04387675877469854, 0.04387675877469854, 0.04387675877469854, 0.04387675877469854, 0.04387675877469854, 0.04387675877469854, 0.04387675877469854, 0.04387675877469854, 0.04387675877469854, 0.04387675877469854, 0.04387675877469854, 0.04387675877469854, 0.04387675877469854, 0.04387675877469854, 0.04387675877469854, 0.04387675877469854, 0.04387675877469854, 0.04387675877469854, 0.04387675877469854, 0.04387675877469854, 0.005362575996036882]}], \"matthews_correlation\": [{\"categories\": [\"0\", \"1\", \"2\", \"3\", \"4\", \"5\", \"6\", \"7\", \"8\", \"9\", \"10\", \"11\", \"12\", \"13\", \"14\", \"15\", \"16\", \"17\", \"18\", \"19\", \"20\", \"21\", \"22\", \"23\", \"24\", \"25\", \"26\", \"27\", \"28\", \"29\", \"30\", \"31\", \"32\", \"33\", \"34\", \"35\", \"36\", \"37\", \"38\", \"39\", \"40\", \"41\", \"43\", \"44\"], \"mode\": \"markers\", \"name\": \"matthews_correlation\", \"stepped\": false, \"type\": \"scatter\", \"data\": [0.9649124117258856, 0.9135700134664907, 0.44475444865941194, 0.4004217811463765, 0.6937514420164685, 0.36538366862720206, 0.9709260173946985, 0.9563138160725476, 0.9632227732776123, 0.2899330312337561, 0.8321210214329641, 0.5046290722360772, 0.9766319039678851, 0.3623145669361987, 0.9632227732776123, 0.5270631406850182, 0.9751082360038498, 0.97222401539078, 0.9072420425123962, 0.9651341098219265, 0.9747180611785008, 0.9724301252125221, 0.9793310323876, 0.9191275489914693, 0.36029353761144506, 0.0, 0.9814584448728518, 0.9678370483218032, 0.9976833851463494, 0.9469944502902661, 0.9811029208438994, 0.977012656547618, 0.8939938214493038, 0.9585505959960278, 0.9680318791429761, 0.993031110088253, 0.9375007897902661, 0.9375007897902661, 0.9585492874660514, 0.9563138160725476, 0.47156716938254495, 0.9765968464325905, 0.9976833851463494, 0.9976833851463494]}, {\"categories\": [\"0\", \"1\", \"2\", \"3\", \"4\", \"5\", \"6\", \"7\", \"8\", \"9\", \"10\", \"11\", \"12\", \"13\", \"14\", \"15\", \"16\", \"17\", \"18\", \"19\", \"20\", \"21\", \"22\", \"23\", \"24\", \"25\", \"26\", \"27\", \"28\", \"29\", \"30\", \"31\", \"32\", \"33\", \"34\", \"35\", \"36\", \"37\", \"38\", \"39\", \"40\", \"41\", \"43\", \"44\"], \"mode\": \"lines\", \"name\": \"matthews_correlation_max\", \"stepped\": true, \"type\": \"scatter\", \"data\": [0.9649124117258856, 0.9649124117258856, 0.9649124117258856, 0.9649124117258856, 0.9649124117258856, 0.9649124117258856, 0.9709260173946985, 0.9709260173946985, 0.9709260173946985, 0.9709260173946985, 0.9709260173946985, 0.9709260173946985, 0.9766319039678851, 0.9766319039678851, 0.9766319039678851, 0.9766319039678851, 0.9766319039678851, 0.9766319039678851, 0.9766319039678851, 0.9766319039678851, 0.9766319039678851, 0.9766319039678851, 0.9793310323876, 0.9793310323876, 0.9793310323876, 0.9793310323876, 0.9814584448728518, 0.9814584448728518, 0.9976833851463494, 0.9976833851463494, 0.9976833851463494, 0.9976833851463494, 0.9976833851463494, 0.9976833851463494, 0.9976833851463494, 0.9976833851463494, 0.9976833851463494, 0.9976833851463494, 0.9976833851463494, 0.9976833851463494, 0.9976833851463494, 0.9976833851463494, 0.9976833851463494, 0.9976833851463494]}], \"average_precision_score_micro\": [{\"categories\": [\"0\", \"1\", \"2\", \"3\", \"4\", \"5\", \"6\", \"7\", \"8\", \"9\", \"10\", \"11\", \"12\", \"13\", \"14\", \"15\", \"16\", \"17\", \"18\", \"19\", \"20\", \"21\", \"22\", \"23\", \"24\", \"25\", \"26\", \"27\", \"28\", \"29\", \"30\", \"31\", \"32\", \"33\", \"34\", \"35\", \"36\", \"37\", \"38\", \"39\", \"40\", \"41\", \"43\", \"44\"], \"mode\": \"markers\", \"name\": \"average_precision_score_micro\", \"stepped\": false, \"type\": \"scatter\", \"data\": [0.9985716835879372, 0.9935688836815564, 0.8577227831247286, 0.8448463305532287, 0.9493248007515331, 0.7353091486571698, 0.9983210822548594, 0.9981456688210639, 0.9981251680630161, 0.7900928681796379, 0.9767686076957842, 0.8802698588451366, 0.9993816148769923, 0.823390040173643, 0.9928719626592926, 0.8989242069496759, 0.9987438123434912, 0.9966764201709238, 0.9919187521491631, 0.9954070422532972, 0.9959872250792801, 0.9973805324928873, 0.9987095487682043, 0.9914046230787972, 0.8309381430393099, 0.6019018992972277, 0.998951007158783, 0.9961359782721999, 0.9999782610090945, 0.9981367238570551, 0.999698648911742, 0.9968122220317894, 0.9851617728436517, 0.9975637199632545, 0.9960910194347047, 0.9999697243261101, 0.9979170740614227, 0.9978745870666369, 0.9973431884959556, 0.9981206086660046, 0.8584507850435878, 0.9975184950377398, 0.9999695961341806, 0.9999869426196597]}, {\"categories\": [\"0\", \"1\", \"2\", \"3\", \"4\", \"5\", \"6\", \"7\", \"8\", \"9\", \"10\", \"11\", \"12\", \"13\", \"14\", \"15\", \"16\", \"17\", \"18\", \"19\", \"20\", \"21\", \"22\", \"23\", \"24\", \"25\", \"26\", \"27\", \"28\", \"29\", \"30\", \"31\", \"32\", \"33\", \"34\", \"35\", \"36\", \"37\", \"38\", \"39\", \"40\", \"41\", \"43\", \"44\"], \"mode\": \"lines\", \"name\": \"average_precision_score_micro_max\", \"stepped\": true, \"type\": \"scatter\", \"data\": [0.9985716835879372, 0.9985716835879372, 0.9985716835879372, 0.9985716835879372, 0.9985716835879372, 0.9985716835879372, 0.9985716835879372, 0.9985716835879372, 0.9985716835879372, 0.9985716835879372, 0.9985716835879372, 0.9985716835879372, 0.9993816148769923, 0.9993816148769923, 0.9993816148769923, 0.9993816148769923, 0.9993816148769923, 0.9993816148769923, 0.9993816148769923, 0.9993816148769923, 0.9993816148769923, 0.9993816148769923, 0.9993816148769923, 0.9993816148769923, 0.9993816148769923, 0.9993816148769923, 0.9993816148769923, 0.9993816148769923, 0.9999782610090945, 0.9999782610090945, 0.9999782610090945, 0.9999782610090945, 0.9999782610090945, 0.9999782610090945, 0.9999782610090945, 0.9999782610090945, 0.9999782610090945, 0.9999782610090945, 0.9999782610090945, 0.9999782610090945, 0.9999782610090945, 0.9999782610090945, 0.9999782610090945, 0.9999869426196597]}], \"recall_score_micro\": [{\"categories\": [\"0\", \"1\", \"2\", \"3\", \"4\", \"5\", \"6\", \"7\", \"8\", \"9\", \"10\", \"11\", \"12\", \"13\", \"14\", \"15\", \"16\", \"17\", \"18\", \"19\", \"20\", \"21\", \"22\", \"23\", \"24\", \"25\", \"26\", \"27\", \"28\", \"29\", \"30\", \"31\", \"32\", \"33\", \"34\", \"35\", \"36\", \"37\", \"38\", \"39\", \"40\", \"41\", \"43\", \"44\"], \"mode\": \"markers\", \"name\": \"recall_score_micro\", \"stepped\": false, \"type\": \"scatter\", \"data\": [0.9843226987447699, 0.9603425732217573, 0.7578713389121339, 0.7412003138075314, 0.8549206764295676, 0.698352510460251, 0.9864365411436542, 0.9801691073919108, 0.9832941073919108, 0.6973369944211995, 0.9217834728033473, 0.7798552998605299, 0.9895528242677825, 0.7224023709902372, 0.9832941073919108, 0.7881755578800558, 0.9885198744769875, 0.987469490934449, 0.95619769874477, 0.9843357740585774, 0.9885155160390515, 0.987469490934449, 0.9906032078103209, 0.9634719316596931, 0.7203016039051604, 0.6534998256624825, 0.9916448744769875, 0.9853817991631799, 0.9989539748953975, 0.9759937238493723, 0.9916405160390517, 0.9895615411436541, 0.9499389818688982, 0.9812064156206417, 0.9853817991631799, 0.9968662831241284, 0.9718096234309623, 0.9718096234309623, 0.9812107740585774, 0.9801691073919108, 0.7672812064156207, 0.9895528242677825, 0.9989539748953975, 0.9989539748953975]}, {\"categories\": [\"0\", \"1\", \"2\", \"3\", \"4\", \"5\", \"6\", \"7\", \"8\", \"9\", \"10\", \"11\", \"12\", \"13\", \"14\", \"15\", \"16\", \"17\", \"18\", \"19\", \"20\", \"21\", \"22\", \"23\", \"24\", \"25\", \"26\", \"27\", \"28\", \"29\", \"30\", \"31\", \"32\", \"33\", \"34\", \"35\", \"36\", \"37\", \"38\", \"39\", \"40\", \"41\", \"43\", \"44\"], \"mode\": \"lines\", \"name\": \"recall_score_micro_max\", \"stepped\": true, \"type\": \"scatter\", \"data\": [0.9843226987447699, 0.9843226987447699, 0.9843226987447699, 0.9843226987447699, 0.9843226987447699, 0.9843226987447699, 0.9864365411436542, 0.9864365411436542, 0.9864365411436542, 0.9864365411436542, 0.9864365411436542, 0.9864365411436542, 0.9895528242677825, 0.9895528242677825, 0.9895528242677825, 0.9895528242677825, 0.9895528242677825, 0.9895528242677825, 0.9895528242677825, 0.9895528242677825, 0.9895528242677825, 0.9895528242677825, 0.9906032078103209, 0.9906032078103209, 0.9906032078103209, 0.9906032078103209, 0.9916448744769875, 0.9916448744769875, 0.9989539748953975, 0.9989539748953975, 0.9989539748953975, 0.9989539748953975, 0.9989539748953975, 0.9989539748953975, 0.9989539748953975, 0.9989539748953975, 0.9989539748953975, 0.9989539748953975, 0.9989539748953975, 0.9989539748953975, 0.9989539748953975, 0.9989539748953975, 0.9989539748953975, 0.9989539748953975]}], \"AUC_macro\": [{\"categories\": [\"0\", \"1\", \"2\", \"3\", \"4\", \"5\", \"6\", \"7\", \"8\", \"9\", \"10\", \"11\", \"12\", \"13\", \"14\", \"15\", \"16\", \"17\", \"18\", \"19\", \"20\", \"21\", \"22\", \"23\", \"24\", \"25\", \"26\", \"27\", \"28\", \"29\", \"30\", \"31\", \"32\", \"33\", \"34\", \"35\", \"36\", \"37\", \"38\", \"39\", \"40\", \"41\", \"43\", \"44\"], \"mode\": \"markers\", \"name\": \"AUC_macro\", \"stepped\": false, \"type\": \"scatter\", \"data\": [0.9984439946007746, 0.994354815686902, 0.8528811000505113, 0.8341049336648771, 0.9476185132418058, 0.7558044632194583, 0.9987383821855117, 0.9966461692270094, 0.9964783244194957, 0.7592168767410413, 0.9835609045747017, 0.8765806069985063, 0.999384064508968, 0.7973644125813447, 0.9928364731537023, 0.8787556041008062, 0.9989969667759102, 0.9969634334919675, 0.9966055875956827, 0.9951436585196085, 0.9961049940298679, 0.9972822303217765, 0.9988596024534042, 0.9909557742294093, 0.8254791773354619, 0.5, 0.9991196486343604, 0.9959465255538948, 1.0, 0.9966518993808822, 0.9998252291440112, 0.9972184623790035, 0.9907792887187052, 0.997662871787389, 0.9959773081311174, 1.0, 0.9965351273199451, 0.9965141682320847, 0.9954978839784537, 0.996605877207465, 0.8372636225489956, 0.997651183478742, 1.0, 1.0]}, {\"categories\": [\"0\", \"1\", \"2\", \"3\", \"4\", \"5\", \"6\", \"7\", \"8\", \"9\", \"10\", \"11\", \"12\", \"13\", \"14\", \"15\", \"16\", \"17\", \"18\", \"19\", \"20\", \"21\", \"22\", \"23\", \"24\", \"25\", \"26\", \"27\", \"28\", \"29\", \"30\", \"31\", \"32\", \"33\", \"34\", \"35\", \"36\", \"37\", \"38\", \"39\", \"40\", \"41\", \"43\", \"44\"], \"mode\": \"lines\", \"name\": \"AUC_macro_max\", \"stepped\": true, \"type\": \"scatter\", \"data\": [0.9984439946007746, 0.9984439946007746, 0.9984439946007746, 0.9984439946007746, 0.9984439946007746, 0.9984439946007746, 0.9987383821855117, 0.9987383821855117, 0.9987383821855117, 0.9987383821855117, 0.9987383821855117, 0.9987383821855117, 0.999384064508968, 0.999384064508968, 0.999384064508968, 0.999384064508968, 0.999384064508968, 0.999384064508968, 0.999384064508968, 0.999384064508968, 0.999384064508968, 0.999384064508968, 0.999384064508968, 0.999384064508968, 0.999384064508968, 0.999384064508968, 0.999384064508968, 0.999384064508968, 1.0, 1.0, 1.0, 1.0, 1.0, 1.0, 1.0, 1.0, 1.0, 1.0, 1.0, 1.0, 1.0, 1.0, 1.0, 1.0]}], \"average_precision_score_weighted\": [{\"categories\": [\"0\", \"1\", \"2\", \"3\", \"4\", \"5\", \"6\", \"7\", \"8\", \"9\", \"10\", \"11\", \"12\", \"13\", \"14\", \"15\", \"16\", \"17\", \"18\", \"19\", \"20\", \"21\", \"22\", \"23\", \"24\", \"25\", \"26\", \"27\", \"28\", \"29\", \"30\", \"31\", \"32\", \"33\", \"34\", \"35\", \"36\", \"37\", \"38\", \"39\", \"40\", \"41\", \"43\", \"44\"], \"mode\": \"markers\", \"name\": \"average_precision_score_weighted\", \"stepped\": false, \"type\": \"scatter\", \"data\": [0.9985427709666189, 0.9949091102214555, 0.8664616138868465, 0.8503470093813008, 0.9510736673642114, 0.770343290149722, 0.9988456586907267, 0.9969334046910572, 0.9967682656500183, 0.7878044443337036, 0.9851252708498252, 0.8925497996657342, 0.9994105684463583, 0.821759079560715, 0.9940165312640779, 0.8970492824900267, 0.9990745245583562, 0.9973704051174195, 0.99690292325863, 0.995921464277842, 0.9966961496218725, 0.9976312065843556, 0.998938803626139, 0.9921385658934443, 0.8481130267264293, 0.5503039729319729, 0.9991705509767452, 0.9965342333418064, 1.0, 0.9969196311025961, 0.9998307324216373, 0.9975988983592707, 0.9915596511932604, 0.9979215580705322, 0.9966045829599444, 1.0, 0.9968151456081829, 0.9967984242245997, 0.9960519192570557, 0.9969040853396702, 0.8556235222603554, 0.9979470854164886, 1.0, 1.0]}, {\"categories\": [\"0\", \"1\", \"2\", \"3\", \"4\", \"5\", \"6\", \"7\", \"8\", \"9\", \"10\", \"11\", \"12\", \"13\", \"14\", \"15\", \"16\", \"17\", \"18\", \"19\", \"20\", \"21\", \"22\", \"23\", \"24\", \"25\", \"26\", \"27\", \"28\", \"29\", \"30\", \"31\", \"32\", \"33\", \"34\", \"35\", \"36\", \"37\", \"38\", \"39\", \"40\", \"41\", \"43\", \"44\"], \"mode\": \"lines\", \"name\": \"average_precision_score_weighted_max\", \"stepped\": true, \"type\": \"scatter\", \"data\": [0.9985427709666189, 0.9985427709666189, 0.9985427709666189, 0.9985427709666189, 0.9985427709666189, 0.9985427709666189, 0.9988456586907267, 0.9988456586907267, 0.9988456586907267, 0.9988456586907267, 0.9988456586907267, 0.9988456586907267, 0.9994105684463583, 0.9994105684463583, 0.9994105684463583, 0.9994105684463583, 0.9994105684463583, 0.9994105684463583, 0.9994105684463583, 0.9994105684463583, 0.9994105684463583, 0.9994105684463583, 0.9994105684463583, 0.9994105684463583, 0.9994105684463583, 0.9994105684463583, 0.9994105684463583, 0.9994105684463583, 1.0, 1.0, 1.0, 1.0, 1.0, 1.0, 1.0, 1.0, 1.0, 1.0, 1.0, 1.0, 1.0, 1.0, 1.0, 1.0]}], \"accuracy\": [{\"categories\": [\"0\", \"1\", \"2\", \"3\", \"4\", \"5\", \"6\", \"7\", \"8\", \"9\", \"10\", \"11\", \"12\", \"13\", \"14\", \"15\", \"16\", \"17\", \"18\", \"19\", \"20\", \"21\", \"22\", \"23\", \"24\", \"25\", \"26\", \"27\", \"28\", \"29\", \"30\", \"31\", \"32\", \"33\", \"34\", \"35\", \"36\", \"37\", \"38\", \"39\", \"40\", \"41\", \"43\", \"44\"], \"mode\": \"markers\", \"name\": \"accuracy\", \"stepped\": false, \"type\": \"scatter\", \"data\": [0.9843226987447699, 0.9603425732217573, 0.7578713389121339, 0.7412003138075314, 0.8549206764295676, 0.698352510460251, 0.9864365411436542, 0.9801691073919108, 0.9832941073919108, 0.6973369944211995, 0.9217834728033473, 0.7798552998605299, 0.9895528242677825, 0.7224023709902372, 0.9832941073919108, 0.7881755578800558, 0.9885198744769875, 0.987469490934449, 0.95619769874477, 0.9843357740585774, 0.9885155160390515, 0.987469490934449, 0.9906032078103209, 0.9634719316596931, 0.7203016039051604, 0.6534998256624825, 0.9916448744769875, 0.9853817991631799, 0.9989539748953975, 0.9759937238493723, 0.9916405160390517, 0.9895615411436541, 0.9499389818688982, 0.9812064156206417, 0.9853817991631799, 0.9968662831241284, 0.9718096234309623, 0.9718096234309623, 0.9812107740585774, 0.9801691073919108, 0.7672812064156207, 0.9895528242677825, 0.9989539748953975, 0.9989539748953975]}, {\"categories\": [\"0\", \"1\", \"2\", \"3\", \"4\", \"5\", \"6\", \"7\", \"8\", \"9\", \"10\", \"11\", \"12\", \"13\", \"14\", \"15\", \"16\", \"17\", \"18\", \"19\", \"20\", \"21\", \"22\", \"23\", \"24\", \"25\", \"26\", \"27\", \"28\", \"29\", \"30\", \"31\", \"32\", \"33\", \"34\", \"35\", \"36\", \"37\", \"38\", \"39\", \"40\", \"41\", \"43\", \"44\"], \"mode\": \"lines\", \"name\": \"accuracy_max\", \"stepped\": true, \"type\": \"scatter\", \"data\": [0.9843226987447699, 0.9843226987447699, 0.9843226987447699, 0.9843226987447699, 0.9843226987447699, 0.9843226987447699, 0.9864365411436542, 0.9864365411436542, 0.9864365411436542, 0.9864365411436542, 0.9864365411436542, 0.9864365411436542, 0.9895528242677825, 0.9895528242677825, 0.9895528242677825, 0.9895528242677825, 0.9895528242677825, 0.9895528242677825, 0.9895528242677825, 0.9895528242677825, 0.9895528242677825, 0.9895528242677825, 0.9906032078103209, 0.9906032078103209, 0.9906032078103209, 0.9906032078103209, 0.9916448744769875, 0.9916448744769875, 0.9989539748953975, 0.9989539748953975, 0.9989539748953975, 0.9989539748953975, 0.9989539748953975, 0.9989539748953975, 0.9989539748953975, 0.9989539748953975, 0.9989539748953975, 0.9989539748953975, 0.9989539748953975, 0.9989539748953975, 0.9989539748953975, 0.9989539748953975, 0.9989539748953975, 0.9989539748953975]}], \"precision_score_micro\": [{\"categories\": [\"0\", \"1\", \"2\", \"3\", \"4\", \"5\", \"6\", \"7\", \"8\", \"9\", \"10\", \"11\", \"12\", \"13\", \"14\", \"15\", \"16\", \"17\", \"18\", \"19\", \"20\", \"21\", \"22\", \"23\", \"24\", \"25\", \"26\", \"27\", \"28\", \"29\", \"30\", \"31\", \"32\", \"33\", \"34\", \"35\", \"36\", \"37\", \"38\", \"39\", \"40\", \"41\", \"43\", \"44\"], \"mode\": \"markers\", \"name\": \"precision_score_micro\", \"stepped\": false, \"type\": \"scatter\", \"data\": [0.9843226987447699, 0.9603425732217573, 0.7578713389121339, 0.7412003138075314, 0.8549206764295676, 0.698352510460251, 0.9864365411436542, 0.9801691073919108, 0.9832941073919108, 0.6973369944211995, 0.9217834728033473, 0.7798552998605299, 0.9895528242677825, 0.7224023709902372, 0.9832941073919108, 0.7881755578800558, 0.9885198744769875, 0.987469490934449, 0.95619769874477, 0.9843357740585774, 0.9885155160390515, 0.987469490934449, 0.9906032078103209, 0.9634719316596931, 0.7203016039051604, 0.6534998256624825, 0.9916448744769875, 0.9853817991631799, 0.9989539748953975, 0.9759937238493723, 0.9916405160390517, 0.9895615411436541, 0.9499389818688982, 0.9812064156206417, 0.9853817991631799, 0.9968662831241284, 0.9718096234309623, 0.9718096234309623, 0.9812107740585774, 0.9801691073919108, 0.7672812064156207, 0.9895528242677825, 0.9989539748953975, 0.9989539748953975]}, {\"categories\": [\"0\", \"1\", \"2\", \"3\", \"4\", \"5\", \"6\", \"7\", \"8\", \"9\", \"10\", \"11\", \"12\", \"13\", \"14\", \"15\", \"16\", \"17\", \"18\", \"19\", \"20\", \"21\", \"22\", \"23\", \"24\", \"25\", \"26\", \"27\", \"28\", \"29\", \"30\", \"31\", \"32\", \"33\", \"34\", \"35\", \"36\", \"37\", \"38\", \"39\", \"40\", \"41\", \"43\", \"44\"], \"mode\": \"lines\", \"name\": \"precision_score_micro_max\", \"stepped\": true, \"type\": \"scatter\", \"data\": [0.9843226987447699, 0.9843226987447699, 0.9843226987447699, 0.9843226987447699, 0.9843226987447699, 0.9843226987447699, 0.9864365411436542, 0.9864365411436542, 0.9864365411436542, 0.9864365411436542, 0.9864365411436542, 0.9864365411436542, 0.9895528242677825, 0.9895528242677825, 0.9895528242677825, 0.9895528242677825, 0.9895528242677825, 0.9895528242677825, 0.9895528242677825, 0.9895528242677825, 0.9895528242677825, 0.9895528242677825, 0.9906032078103209, 0.9906032078103209, 0.9906032078103209, 0.9906032078103209, 0.9916448744769875, 0.9916448744769875, 0.9989539748953975, 0.9989539748953975, 0.9989539748953975, 0.9989539748953975, 0.9989539748953975, 0.9989539748953975, 0.9989539748953975, 0.9989539748953975, 0.9989539748953975, 0.9989539748953975, 0.9989539748953975, 0.9989539748953975, 0.9989539748953975, 0.9989539748953975, 0.9989539748953975, 0.9989539748953975]}], \"f1_score_weighted\": [{\"categories\": [\"0\", \"1\", \"2\", \"3\", \"4\", \"5\", \"6\", \"7\", \"8\", \"9\", \"10\", \"11\", \"12\", \"13\", \"14\", \"15\", \"16\", \"17\", \"18\", \"19\", \"20\", \"21\", \"22\", \"23\", \"24\", \"25\", \"26\", \"27\", \"28\", \"29\", \"30\", \"31\", \"32\", \"33\", \"34\", \"35\", \"36\", \"37\", \"38\", \"39\", \"40\", \"41\", \"43\", \"44\"], \"mode\": \"markers\", \"name\": \"f1_score_weighted\", \"stepped\": false, \"type\": \"scatter\", \"data\": [0.9842452641798589, 0.9599529823409276, 0.7313666787640709, 0.7036294691252192, 0.8559049431729433, 0.7024092053932423, 0.986364466946543, 0.9800701329884285, 0.9831872068450025, 0.6631167274393144, 0.9193721654356656, 0.7577250846773832, 0.9895153093483658, 0.7025990336870692, 0.9831872068450025, 0.7668978526765325, 0.9884720135702356, 0.9874090607142776, 0.9554049613234068, 0.9842356679034934, 0.9884663109338527, 0.9874050257540121, 0.9905705092070636, 0.9632548592219956, 0.65731633643914, 0.5172671270581338, 0.991616676236553, 0.9852898837997235, 0.9989524265867413, 0.9759207554451487, 0.9916037036781845, 0.9895239344070041, 0.9489299698980402, 0.9810774566014568, 0.9852917389309548, 0.9968617340178303, 0.9717729552620046, 0.9717729552620046, 0.9811103839283358, 0.9800701329884285, 0.7558746216772707, 0.9895152017458337, 0.9989524265867413, 0.9989524265867413]}, {\"categories\": [\"0\", \"1\", \"2\", \"3\", \"4\", \"5\", \"6\", \"7\", \"8\", \"9\", \"10\", \"11\", \"12\", \"13\", \"14\", \"15\", \"16\", \"17\", \"18\", \"19\", \"20\", \"21\", \"22\", \"23\", \"24\", \"25\", \"26\", \"27\", \"28\", \"29\", \"30\", \"31\", \"32\", \"33\", \"34\", \"35\", \"36\", \"37\", \"38\", \"39\", \"40\", \"41\", \"43\", \"44\"], \"mode\": \"lines\", \"name\": \"f1_score_weighted_max\", \"stepped\": true, \"type\": \"scatter\", \"data\": [0.9842452641798589, 0.9842452641798589, 0.9842452641798589, 0.9842452641798589, 0.9842452641798589, 0.9842452641798589, 0.986364466946543, 0.986364466946543, 0.986364466946543, 0.986364466946543, 0.986364466946543, 0.986364466946543, 0.9895153093483658, 0.9895153093483658, 0.9895153093483658, 0.9895153093483658, 0.9895153093483658, 0.9895153093483658, 0.9895153093483658, 0.9895153093483658, 0.9895153093483658, 0.9895153093483658, 0.9905705092070636, 0.9905705092070636, 0.9905705092070636, 0.9905705092070636, 0.991616676236553, 0.991616676236553, 0.9989524265867413, 0.9989524265867413, 0.9989524265867413, 0.9989524265867413, 0.9989524265867413, 0.9989524265867413, 0.9989524265867413, 0.9989524265867413, 0.9989524265867413, 0.9989524265867413, 0.9989524265867413, 0.9989524265867413, 0.9989524265867413, 0.9989524265867413, 0.9989524265867413, 0.9989524265867413]}], \"balanced_accuracy\": [{\"categories\": [\"0\", \"1\", \"2\", \"3\", \"4\", \"5\", \"6\", \"7\", \"8\", \"9\", \"10\", \"11\", \"12\", \"13\", \"14\", \"15\", \"16\", \"17\", \"18\", \"19\", \"20\", \"21\", \"22\", \"23\", \"24\", \"25\", \"26\", \"27\", \"28\", \"29\", \"30\", \"31\", \"32\", \"33\", \"34\", \"35\", \"36\", \"37\", \"38\", \"39\", \"40\", \"41\", \"43\", \"44\"], \"mode\": \"markers\", \"name\": \"balanced_accuracy\", \"stepped\": false, \"type\": \"scatter\", \"data\": [0.9794090334765497, 0.9487472554829175, 0.6776542373995103, 0.6481507311624439, 0.8531690181571981, 0.6883224942639011, 0.9814339212026146, 0.9734192157517005, 0.9758718244858664, 0.612559047437626, 0.8959353837662023, 0.7111071440802843, 0.9855430343600728, 0.6550452818499989, 0.9758718244858664, 0.7173732300191358, 0.983984941610778, 0.9817077985182139, 0.9416487066027602, 0.9768796350174864, 0.9834683618984955, 0.981943971654593, 0.9865359620189411, 0.9537476920318706, 0.6077254205211482, 0.5, 0.9878114722230229, 0.9788763715341474, 0.9984756097560976, 0.9702545320197772, 0.9873264190468227, 0.984992752142398, 0.934621325712523, 0.9738837931988196, 0.979144071206609, 0.9954395361717343, 0.9671219493688825, 0.9671219493688825, 0.9742994974418413, 0.9734192157517005, 0.7140153206601052, 0.9852547304987922, 0.9984756097560976, 0.9984756097560976]}, {\"categories\": [\"0\", \"1\", \"2\", \"3\", \"4\", \"5\", \"6\", \"7\", \"8\", \"9\", \"10\", \"11\", \"12\", \"13\", \"14\", \"15\", \"16\", \"17\", \"18\", \"19\", \"20\", \"21\", \"22\", \"23\", \"24\", \"25\", \"26\", \"27\", \"28\", \"29\", \"30\", \"31\", \"32\", \"33\", \"34\", \"35\", \"36\", \"37\", \"38\", \"39\", \"40\", \"41\", \"43\", \"44\"], \"mode\": \"lines\", \"name\": \"balanced_accuracy_max\", \"stepped\": true, \"type\": \"scatter\", \"data\": [0.9794090334765497, 0.9794090334765497, 0.9794090334765497, 0.9794090334765497, 0.9794090334765497, 0.9794090334765497, 0.9814339212026146, 0.9814339212026146, 0.9814339212026146, 0.9814339212026146, 0.9814339212026146, 0.9814339212026146, 0.9855430343600728, 0.9855430343600728, 0.9855430343600728, 0.9855430343600728, 0.9855430343600728, 0.9855430343600728, 0.9855430343600728, 0.9855430343600728, 0.9855430343600728, 0.9855430343600728, 0.9865359620189411, 0.9865359620189411, 0.9865359620189411, 0.9865359620189411, 0.9878114722230229, 0.9878114722230229, 0.9984756097560976, 0.9984756097560976, 0.9984756097560976, 0.9984756097560976, 0.9984756097560976, 0.9984756097560976, 0.9984756097560976, 0.9984756097560976, 0.9984756097560976, 0.9984756097560976, 0.9984756097560976, 0.9984756097560976, 0.9984756097560976, 0.9984756097560976, 0.9984756097560976, 0.9984756097560976]}], \"f1_score_micro\": [{\"categories\": [\"0\", \"1\", \"2\", \"3\", \"4\", \"5\", \"6\", \"7\", \"8\", \"9\", \"10\", \"11\", \"12\", \"13\", \"14\", \"15\", \"16\", \"17\", \"18\", \"19\", \"20\", \"21\", \"22\", \"23\", \"24\", \"25\", \"26\", \"27\", \"28\", \"29\", \"30\", \"31\", \"32\", \"33\", \"34\", \"35\", \"36\", \"37\", \"38\", \"39\", \"40\", \"41\", \"43\", \"44\"], \"mode\": \"markers\", \"name\": \"f1_score_micro\", \"stepped\": false, \"type\": \"scatter\", \"data\": [0.9843226987447699, 0.9603425732217573, 0.757871338912134, 0.7412003138075314, 0.8549206764295676, 0.698352510460251, 0.9864365411436542, 0.9801691073919108, 0.9832941073919108, 0.6973369944211995, 0.9217834728033473, 0.7798552998605299, 0.9895528242677825, 0.7224023709902372, 0.9832941073919108, 0.7881755578800558, 0.9885198744769875, 0.987469490934449, 0.95619769874477, 0.9843357740585774, 0.9885155160390515, 0.987469490934449, 0.9906032078103209, 0.9634719316596931, 0.7203016039051604, 0.6534998256624825, 0.9916448744769875, 0.9853817991631799, 0.9989539748953975, 0.9759937238493723, 0.9916405160390517, 0.9895615411436541, 0.9499389818688982, 0.9812064156206417, 0.9853817991631799, 0.9968662831241284, 0.9718096234309623, 0.9718096234309623, 0.9812107740585774, 0.9801691073919108, 0.7672812064156207, 0.9895528242677825, 0.9989539748953975, 0.9989539748953975]}, {\"categories\": [\"0\", \"1\", \"2\", \"3\", \"4\", \"5\", \"6\", \"7\", \"8\", \"9\", \"10\", \"11\", \"12\", \"13\", \"14\", \"15\", \"16\", \"17\", \"18\", \"19\", \"20\", \"21\", \"22\", \"23\", \"24\", \"25\", \"26\", \"27\", \"28\", \"29\", \"30\", \"31\", \"32\", \"33\", \"34\", \"35\", \"36\", \"37\", \"38\", \"39\", \"40\", \"41\", \"43\", \"44\"], \"mode\": \"lines\", \"name\": \"f1_score_micro_max\", \"stepped\": true, \"type\": \"scatter\", \"data\": [0.9843226987447699, 0.9843226987447699, 0.9843226987447699, 0.9843226987447699, 0.9843226987447699, 0.9843226987447699, 0.9864365411436542, 0.9864365411436542, 0.9864365411436542, 0.9864365411436542, 0.9864365411436542, 0.9864365411436542, 0.9895528242677825, 0.9895528242677825, 0.9895528242677825, 0.9895528242677825, 0.9895528242677825, 0.9895528242677825, 0.9895528242677825, 0.9895528242677825, 0.9895528242677825, 0.9895528242677825, 0.9906032078103209, 0.9906032078103209, 0.9906032078103209, 0.9906032078103209, 0.9916448744769875, 0.9916448744769875, 0.9989539748953975, 0.9989539748953975, 0.9989539748953975, 0.9989539748953975, 0.9989539748953975, 0.9989539748953975, 0.9989539748953975, 0.9989539748953975, 0.9989539748953975, 0.9989539748953975, 0.9989539748953975, 0.9989539748953975, 0.9989539748953975, 0.9989539748953975, 0.9989539748953975, 0.9989539748953975]}], \"precision_score_weighted\": [{\"categories\": [\"0\", \"1\", \"2\", \"3\", \"4\", \"5\", \"6\", \"7\", \"8\", \"9\", \"10\", \"11\", \"12\", \"13\", \"14\", \"15\", \"16\", \"17\", \"18\", \"19\", \"20\", \"21\", \"22\", \"23\", \"24\", \"25\", \"26\", \"27\", \"28\", \"29\", \"30\", \"31\", \"32\", \"33\", \"34\", \"35\", \"36\", \"37\", \"38\", \"39\", \"40\", \"41\", \"43\", \"44\"], \"mode\": \"markers\", \"name\": \"precision_score_weighted\", \"stepped\": false, \"type\": \"scatter\", \"data\": [0.9844425974640644, 0.9617938027099419, 0.7746472472685567, 0.7635603667859214, 0.8652438935161108, 0.7175473816538679, 0.9868690643491099, 0.9805262035028497, 0.983755869792253, 0.7058615931737076, 0.9281958583666743, 0.7993498396908929, 0.9896896584546013, 0.7295280999412869, 0.983755869792253, 0.8126086925612226, 0.9887869903562018, 0.9877190327823473, 0.9597377919451582, 0.9847170278895083, 0.9887346162894785, 0.9877460620067031, 0.9907578246669375, 0.9642527304579283, 0.7901523619624853, 0.428651812128469, 0.9917637713463756, 0.9857599610108493, 0.998960595307452, 0.9762818785702551, 0.9917682037030103, 0.9897355275007885, 0.953782150638218, 0.9817186219301277, 0.9857774706363909, 0.9968863774161275, 0.9720091106861675, 0.9720091106861675, 0.9816466565417354, 0.9805262035028497, 0.7729060465318709, 0.9896566458403497, 0.998960595307452, 0.998960595307452]}, {\"categories\": [\"0\", \"1\", \"2\", \"3\", \"4\", \"5\", \"6\", \"7\", \"8\", \"9\", \"10\", \"11\", \"12\", \"13\", \"14\", \"15\", \"16\", \"17\", \"18\", \"19\", \"20\", \"21\", \"22\", \"23\", \"24\", \"25\", \"26\", \"27\", \"28\", \"29\", \"30\", \"31\", \"32\", \"33\", \"34\", \"35\", \"36\", \"37\", \"38\", \"39\", \"40\", \"41\", \"43\", \"44\"], \"mode\": \"lines\", \"name\": \"precision_score_weighted_max\", \"stepped\": true, \"type\": \"scatter\", \"data\": [0.9844425974640644, 0.9844425974640644, 0.9844425974640644, 0.9844425974640644, 0.9844425974640644, 0.9844425974640644, 0.9868690643491099, 0.9868690643491099, 0.9868690643491099, 0.9868690643491099, 0.9868690643491099, 0.9868690643491099, 0.9896896584546013, 0.9896896584546013, 0.9896896584546013, 0.9896896584546013, 0.9896896584546013, 0.9896896584546013, 0.9896896584546013, 0.9896896584546013, 0.9896896584546013, 0.9896896584546013, 0.9907578246669375, 0.9907578246669375, 0.9907578246669375, 0.9907578246669375, 0.9917637713463756, 0.9917637713463756, 0.998960595307452, 0.998960595307452, 0.998960595307452, 0.998960595307452, 0.998960595307452, 0.998960595307452, 0.998960595307452, 0.998960595307452, 0.998960595307452, 0.998960595307452, 0.998960595307452, 0.998960595307452, 0.998960595307452, 0.998960595307452, 0.998960595307452, 0.998960595307452]}], \"weighted_accuracy\": [{\"categories\": [\"0\", \"1\", \"2\", \"3\", \"4\", \"5\", \"6\", \"7\", \"8\", \"9\", \"10\", \"11\", \"12\", \"13\", \"14\", \"15\", \"16\", \"17\", \"18\", \"19\", \"20\", \"21\", \"22\", \"23\", \"24\", \"25\", \"26\", \"27\", \"28\", \"29\", \"30\", \"31\", \"32\", \"33\", \"34\", \"35\", \"36\", \"37\", \"38\", \"39\", \"40\", \"41\", \"43\", \"44\"], \"mode\": \"markers\", \"name\": \"weighted_accuracy\", \"stepped\": false, \"type\": \"scatter\", \"data\": [0.9882448155888092, 0.9698931234729117, 0.8228001798008143, 0.8165448856260319, 0.8571711469035888, 0.7071010723518872, 0.990575355326562, 0.9855221635155217, 0.9892114217485389, 0.7665145616698712, 0.9431518697683781, 0.8363427234233491, 0.992774496129366, 0.7775122301188822, 0.9892114217485389, 0.8461010302035, 0.9922214182128829, 0.992044506609259, 0.9684126463301277, 0.9902215321193143, 0.9925781004766873, 0.9919246723697163, 0.9938674810992038, 0.9713023552383216, 0.8115469810523381, 0.7763644954520676, 0.9946905125423643, 0.9906352917471999, 0.999346571893029, 0.9805233095155121, 0.9949799501180966, 0.9932315285836583, 0.9628464923633101, 0.987058557311279, 0.990448212819585, 0.9979899465824404, 0.9755074939121271, 0.9755074939121271, 0.986714719280101, 0.9855221635155217, 0.8108237016760277, 0.9929058429091502, 0.999346571893029, 0.999346571893029]}, {\"categories\": [\"0\", \"1\", \"2\", \"3\", \"4\", \"5\", \"6\", \"7\", \"8\", \"9\", \"10\", \"11\", \"12\", \"13\", \"14\", \"15\", \"16\", \"17\", \"18\", \"19\", \"20\", \"21\", \"22\", \"23\", \"24\", \"25\", \"26\", \"27\", \"28\", \"29\", \"30\", \"31\", \"32\", \"33\", \"34\", \"35\", \"36\", \"37\", \"38\", \"39\", \"40\", \"41\", \"43\", \"44\"], \"mode\": \"lines\", \"name\": \"weighted_accuracy_max\", \"stepped\": true, \"type\": \"scatter\", \"data\": [0.9882448155888092, 0.9882448155888092, 0.9882448155888092, 0.9882448155888092, 0.9882448155888092, 0.9882448155888092, 0.990575355326562, 0.990575355326562, 0.990575355326562, 0.990575355326562, 0.990575355326562, 0.990575355326562, 0.992774496129366, 0.992774496129366, 0.992774496129366, 0.992774496129366, 0.992774496129366, 0.992774496129366, 0.992774496129366, 0.992774496129366, 0.992774496129366, 0.992774496129366, 0.9938674810992038, 0.9938674810992038, 0.9938674810992038, 0.9938674810992038, 0.9946905125423643, 0.9946905125423643, 0.999346571893029, 0.999346571893029, 0.999346571893029, 0.999346571893029, 0.999346571893029, 0.999346571893029, 0.999346571893029, 0.999346571893029, 0.999346571893029, 0.999346571893029, 0.999346571893029, 0.999346571893029, 0.999346571893029, 0.999346571893029, 0.999346571893029, 0.999346571893029]}], \"AUC_weighted\": [{\"categories\": [\"0\", \"1\", \"2\", \"3\", \"4\", \"5\", \"6\", \"7\", \"8\", \"9\", \"10\", \"11\", \"12\", \"13\", \"14\", \"15\", \"16\", \"17\", \"18\", \"19\", \"20\", \"21\", \"22\", \"23\", \"24\", \"25\", \"26\", \"27\", \"28\", \"29\", \"30\", \"31\", \"32\", \"33\", \"34\", \"35\", \"36\", \"37\", \"38\", \"39\", \"40\", \"41\", \"43\", \"44\"], \"mode\": \"markers\", \"name\": \"AUC_weighted\", \"stepped\": false, \"type\": \"scatter\", \"data\": [0.9984439946007746, 0.994354815686902, 0.8528811000505113, 0.8341049336648771, 0.9476185132418058, 0.7558044632194583, 0.9987383821855117, 0.9966461692270093, 0.9964783244194958, 0.7592168767410412, 0.9835609045747017, 0.8765806069985063, 0.999384064508968, 0.7973644125813447, 0.9928364731537025, 0.8787556041008061, 0.9989969667759102, 0.9969634334919675, 0.9966055875956827, 0.9951436585196085, 0.9961049940298679, 0.9972822303217765, 0.9988596024534042, 0.9909557742294093, 0.8254791773354619, 0.5, 0.9991196486343604, 0.995946525553895, 1.0, 0.9966518993808822, 0.9998252291440112, 0.9972184623790036, 0.9907792887187052, 0.997662871787389, 0.9959773081311174, 1.0, 0.9965351273199452, 0.9965141682320847, 0.9954978839784537, 0.996605877207465, 0.8372636225489956, 0.997651183478742, 1.0, 1.0]}, {\"categories\": [\"0\", \"1\", \"2\", \"3\", \"4\", \"5\", \"6\", \"7\", \"8\", \"9\", \"10\", \"11\", \"12\", \"13\", \"14\", \"15\", \"16\", \"17\", \"18\", \"19\", \"20\", \"21\", \"22\", \"23\", \"24\", \"25\", \"26\", \"27\", \"28\", \"29\", \"30\", \"31\", \"32\", \"33\", \"34\", \"35\", \"36\", \"37\", \"38\", \"39\", \"40\", \"41\", \"43\", \"44\"], \"mode\": \"lines\", \"name\": \"AUC_weighted_max\", \"stepped\": true, \"type\": \"scatter\", \"data\": [0.9984439946007746, 0.9984439946007746, 0.9984439946007746, 0.9984439946007746, 0.9984439946007746, 0.9984439946007746, 0.9987383821855117, 0.9987383821855117, 0.9987383821855117, 0.9987383821855117, 0.9987383821855117, 0.9987383821855117, 0.999384064508968, 0.999384064508968, 0.999384064508968, 0.999384064508968, 0.999384064508968, 0.999384064508968, 0.999384064508968, 0.999384064508968, 0.999384064508968, 0.999384064508968, 0.999384064508968, 0.999384064508968, 0.999384064508968, 0.999384064508968, 0.999384064508968, 0.999384064508968, 1.0, 1.0, 1.0, 1.0, 1.0, 1.0, 1.0, 1.0, 1.0, 1.0, 1.0, 1.0, 1.0, 1.0, 1.0, 1.0]}], \"precision_score_macro\": [{\"categories\": [\"0\", \"1\", \"2\", \"3\", \"4\", \"5\", \"6\", \"7\", \"8\", \"9\", \"10\", \"11\", \"12\", \"13\", \"14\", \"15\", \"16\", \"17\", \"18\", \"19\", \"20\", \"21\", \"22\", \"23\", \"24\", \"25\", \"26\", \"27\", \"28\", \"29\", \"30\", \"31\", \"32\", \"33\", \"34\", \"35\", \"36\", \"37\", \"38\", \"39\", \"40\", \"41\", \"43\", \"44\"], \"mode\": \"markers\", \"name\": \"precision_score_macro\", \"stepped\": false, \"type\": \"scatter\", \"data\": [0.9855328032493126, 0.9649902274433815, 0.7798411211976704, 0.7733220556604825, 0.841194093372046, 0.6775170869829048, 0.9895319285432294, 0.9829656426154936, 0.9874305028531278, 0.6914261233831861, 0.937448264255936, 0.8046923302660912, 0.9911120446002344, 0.7142513724479581, 0.9874305028531278, 0.8220166001261577, 0.9911527110844338, 0.9905624255541403, 0.9660336850797935, 0.9883339768530894, 0.9912848197749864, 0.9905323851457402, 0.9928182048681542, 0.9655185547375136, 0.8192917849998262, 0.3267499128312413, 0.9936683006535948, 0.9890271630594744, 0.9992088607594937, 0.9767951540684976, 0.9938078916697338, 0.9920466598370983, 0.9598778867020867, 0.9847412841443881, 0.9889507322055384, 0.9975950899149536, 0.9704078829331468, 0.9704078829331468, 0.9843245510870722, 0.9829656426154936, 0.7610918952551963, 0.9913686658667107, 0.9992088607594937, 0.9992088607594937]}, {\"categories\": [\"0\", \"1\", \"2\", \"3\", \"4\", \"5\", \"6\", \"7\", \"8\", \"9\", \"10\", \"11\", \"12\", \"13\", \"14\", \"15\", \"16\", \"17\", \"18\", \"19\", \"20\", \"21\", \"22\", \"23\", \"24\", \"25\", \"26\", \"27\", \"28\", \"29\", \"30\", \"31\", \"32\", \"33\", \"34\", \"35\", \"36\", \"37\", \"38\", \"39\", \"40\", \"41\", \"43\", \"44\"], \"mode\": \"lines\", \"name\": \"precision_score_macro_max\", \"stepped\": true, \"type\": \"scatter\", \"data\": [0.9855328032493126, 0.9855328032493126, 0.9855328032493126, 0.9855328032493126, 0.9855328032493126, 0.9855328032493126, 0.9895319285432294, 0.9895319285432294, 0.9895319285432294, 0.9895319285432294, 0.9895319285432294, 0.9895319285432294, 0.9911120446002344, 0.9911120446002344, 0.9911120446002344, 0.9911120446002344, 0.9911527110844338, 0.9911527110844338, 0.9911527110844338, 0.9911527110844338, 0.9912848197749864, 0.9912848197749864, 0.9928182048681542, 0.9928182048681542, 0.9928182048681542, 0.9928182048681542, 0.9936683006535948, 0.9936683006535948, 0.9992088607594937, 0.9992088607594937, 0.9992088607594937, 0.9992088607594937, 0.9992088607594937, 0.9992088607594937, 0.9992088607594937, 0.9992088607594937, 0.9992088607594937, 0.9992088607594937, 0.9992088607594937, 0.9992088607594937, 0.9992088607594937, 0.9992088607594937, 0.9992088607594937, 0.9992088607594937]}], \"recall_score_macro\": [{\"categories\": [\"0\", \"1\", \"2\", \"3\", \"4\", \"5\", \"6\", \"7\", \"8\", \"9\", \"10\", \"11\", \"12\", \"13\", \"14\", \"15\", \"16\", \"17\", \"18\", \"19\", \"20\", \"21\", \"22\", \"23\", \"24\", \"25\", \"26\", \"27\", \"28\", \"29\", \"30\", \"31\", \"32\", \"33\", \"34\", \"35\", \"36\", \"37\", \"38\", \"39\", \"40\", \"41\", \"43\", \"44\"], \"mode\": \"markers\", \"name\": \"recall_score_macro\", \"stepped\": false, \"type\": \"scatter\", \"data\": [0.9794090334765497, 0.9487472554829175, 0.6776542373995103, 0.6481507311624439, 0.8531690181571981, 0.6883224942639011, 0.9814339212026146, 0.9734192157517005, 0.9758718244858664, 0.612559047437626, 0.8959353837662023, 0.7111071440802843, 0.9855430343600728, 0.6550452818499989, 0.9758718244858664, 0.7173732300191358, 0.983984941610778, 0.9817077985182139, 0.9416487066027602, 0.9768796350174864, 0.9834683618984955, 0.981943971654593, 0.9865359620189411, 0.9537476920318706, 0.6077254205211482, 0.5, 0.9878114722230229, 0.9788763715341474, 0.9984756097560976, 0.9702545320197772, 0.9873264190468227, 0.984992752142398, 0.934621325712523, 0.9738837931988196, 0.979144071206609, 0.9954395361717343, 0.9671219493688825, 0.9671219493688825, 0.9742994974418413, 0.9734192157517005, 0.7140153206601052, 0.9852547304987922, 0.9984756097560976, 0.9984756097560976]}, {\"categories\": [\"0\", \"1\", \"2\", \"3\", \"4\", \"5\", \"6\", \"7\", \"8\", \"9\", \"10\", \"11\", \"12\", \"13\", \"14\", \"15\", \"16\", \"17\", \"18\", \"19\", \"20\", \"21\", \"22\", \"23\", \"24\", \"25\", \"26\", \"27\", \"28\", \"29\", \"30\", \"31\", \"32\", \"33\", \"34\", \"35\", \"36\", \"37\", \"38\", \"39\", \"40\", \"41\", \"43\", \"44\"], \"mode\": \"lines\", \"name\": \"recall_score_macro_max\", \"stepped\": true, \"type\": \"scatter\", \"data\": [0.9794090334765497, 0.9794090334765497, 0.9794090334765497, 0.9794090334765497, 0.9794090334765497, 0.9794090334765497, 0.9814339212026146, 0.9814339212026146, 0.9814339212026146, 0.9814339212026146, 0.9814339212026146, 0.9814339212026146, 0.9855430343600728, 0.9855430343600728, 0.9855430343600728, 0.9855430343600728, 0.9855430343600728, 0.9855430343600728, 0.9855430343600728, 0.9855430343600728, 0.9855430343600728, 0.9855430343600728, 0.9865359620189411, 0.9865359620189411, 0.9865359620189411, 0.9865359620189411, 0.9878114722230229, 0.9878114722230229, 0.9984756097560976, 0.9984756097560976, 0.9984756097560976, 0.9984756097560976, 0.9984756097560976, 0.9984756097560976, 0.9984756097560976, 0.9984756097560976, 0.9984756097560976, 0.9984756097560976, 0.9984756097560976, 0.9984756097560976, 0.9984756097560976, 0.9984756097560976, 0.9984756097560976, 0.9984756097560976]}], \"AUC_micro\": [{\"categories\": [\"0\", \"1\", \"2\", \"3\", \"4\", \"5\", \"6\", \"7\", \"8\", \"9\", \"10\", \"11\", \"12\", \"13\", \"14\", \"15\", \"16\", \"17\", \"18\", \"19\", \"20\", \"21\", \"22\", \"23\", \"24\", \"25\", \"26\", \"27\", \"28\", \"29\", \"30\", \"31\", \"32\", \"33\", \"34\", \"35\", \"36\", \"37\", \"38\", \"39\", \"40\", \"41\", \"43\", \"44\"], \"mode\": \"markers\", \"name\": \"AUC_micro\", \"stepped\": false, \"type\": \"scatter\", \"data\": [0.9985352336396276, 0.993382505038646, 0.8519343285525462, 0.8349463630993368, 0.9464013646135445, 0.7452342428639545, 0.9982757268804623, 0.9981013150507501, 0.9980796864544612, 0.7837549168438004, 0.9756519426840489, 0.8714724842755827, 0.9993703776698928, 0.8093986695245132, 0.992753010133581, 0.8894776122635137, 0.9987124479844444, 0.9966042286239591, 0.9915359124648164, 0.995342026745369, 0.995893378490276, 0.9973099013649631, 0.9986761243250195, 0.9913821557253462, 0.8149754261907958, 0.6534998256624825, 0.9989259223141567, 0.9961364067676025, 0.9999781166296109, 0.9980931440433952, 0.999694506325753, 0.9967255380239366, 0.9844428431592098, 0.9974939036577324, 0.9960345694641395, 0.9999695452629555, 0.9978661393321487, 0.9978225909691707, 0.9972673720983866, 0.9980749094210828, 0.8497194127165968, 0.9974496637650533, 0.9999693632814551, 0.9999868699777665]}, {\"categories\": [\"0\", \"1\", \"2\", \"3\", \"4\", \"5\", \"6\", \"7\", \"8\", \"9\", \"10\", \"11\", \"12\", \"13\", \"14\", \"15\", \"16\", \"17\", \"18\", \"19\", \"20\", \"21\", \"22\", \"23\", \"24\", \"25\", \"26\", \"27\", \"28\", \"29\", \"30\", \"31\", \"32\", \"33\", \"34\", \"35\", \"36\", \"37\", \"38\", \"39\", \"40\", \"41\", \"43\", \"44\"], \"mode\": \"lines\", \"name\": \"AUC_micro_max\", \"stepped\": true, \"type\": \"scatter\", \"data\": [0.9985352336396276, 0.9985352336396276, 0.9985352336396276, 0.9985352336396276, 0.9985352336396276, 0.9985352336396276, 0.9985352336396276, 0.9985352336396276, 0.9985352336396276, 0.9985352336396276, 0.9985352336396276, 0.9985352336396276, 0.9993703776698928, 0.9993703776698928, 0.9993703776698928, 0.9993703776698928, 0.9993703776698928, 0.9993703776698928, 0.9993703776698928, 0.9993703776698928, 0.9993703776698928, 0.9993703776698928, 0.9993703776698928, 0.9993703776698928, 0.9993703776698928, 0.9993703776698928, 0.9993703776698928, 0.9993703776698928, 0.9999781166296109, 0.9999781166296109, 0.9999781166296109, 0.9999781166296109, 0.9999781166296109, 0.9999781166296109, 0.9999781166296109, 0.9999781166296109, 0.9999781166296109, 0.9999781166296109, 0.9999781166296109, 0.9999781166296109, 0.9999781166296109, 0.9999781166296109, 0.9999781166296109, 0.9999868699777665]}], \"f1_score_macro\": [{\"categories\": [\"0\", \"1\", \"2\", \"3\", \"4\", \"5\", \"6\", \"7\", \"8\", \"9\", \"10\", \"11\", \"12\", \"13\", \"14\", \"15\", \"16\", \"17\", \"18\", \"19\", \"20\", \"21\", \"22\", \"23\", \"24\", \"25\", \"26\", \"27\", \"28\", \"29\", \"30\", \"31\", \"32\", \"33\", \"34\", \"35\", \"36\", \"37\", \"38\", \"39\", \"40\", \"41\", \"43\", \"44\"], \"mode\": \"markers\", \"name\": \"f1_score_macro\", \"stepped\": false, \"type\": \"scatter\", \"data\": [0.9823050020092863, 0.9556105028445295, 0.6858200576894685, 0.6491172200034051, 0.8423029405567599, 0.6765607270782403, 0.9851577333704313, 0.9778469946361648, 0.9812375270332571, 0.6059413875108964, 0.9101056873927142, 0.7194945052436745, 0.988199306130724, 0.6573438996191722, 0.9812375270332571, 0.7288630036420582, 0.9873593547856085, 0.9859052611486843, 0.9509334712625798, 0.9822398178444335, 0.98718393830944, 0.9859912000944994, 0.9895446104618881, 0.9588983223638499, 0.5857386906690257, 0.39486626213341564, 0.9906314501843543, 0.983607715045324, 0.9988363034375305, 0.9732541832643895, 0.9904359365592852, 0.9883691075071968, 0.9439337632491248, 0.9788572584671662, 0.9837000275230557, 0.9964992366012762, 0.9686000912460426, 0.9686000912460426, 0.9789225302361455, 0.9778469946361648, 0.7211751197849159, 0.9881962326357678, 0.9988363034375305, 0.9988363034375305]}, {\"categories\": [\"0\", \"1\", \"2\", \"3\", \"4\", \"5\", \"6\", \"7\", \"8\", \"9\", \"10\", \"11\", \"12\", \"13\", \"14\", \"15\", \"16\", \"17\", \"18\", \"19\", \"20\", \"21\", \"22\", \"23\", \"24\", \"25\", \"26\", \"27\", \"28\", \"29\", \"30\", \"31\", \"32\", \"33\", \"34\", \"35\", \"36\", \"37\", \"38\", \"39\", \"40\", \"41\", \"43\", \"44\"], \"mode\": \"lines\", \"name\": \"f1_score_macro_max\", \"stepped\": true, \"type\": \"scatter\", \"data\": [0.9823050020092863, 0.9823050020092863, 0.9823050020092863, 0.9823050020092863, 0.9823050020092863, 0.9823050020092863, 0.9851577333704313, 0.9851577333704313, 0.9851577333704313, 0.9851577333704313, 0.9851577333704313, 0.9851577333704313, 0.988199306130724, 0.988199306130724, 0.988199306130724, 0.988199306130724, 0.988199306130724, 0.988199306130724, 0.988199306130724, 0.988199306130724, 0.988199306130724, 0.988199306130724, 0.9895446104618881, 0.9895446104618881, 0.9895446104618881, 0.9895446104618881, 0.9906314501843543, 0.9906314501843543, 0.9988363034375305, 0.9988363034375305, 0.9988363034375305, 0.9988363034375305, 0.9988363034375305, 0.9988363034375305, 0.9988363034375305, 0.9988363034375305, 0.9988363034375305, 0.9988363034375305, 0.9988363034375305, 0.9988363034375305, 0.9988363034375305, 0.9988363034375305, 0.9988363034375305, 0.9988363034375305]}], \"average_precision_score_macro\": [{\"categories\": [\"0\", \"1\", \"2\", \"3\", \"4\", \"5\", \"6\", \"7\", \"8\", \"9\", \"10\", \"11\", \"12\", \"13\", \"14\", \"15\", \"16\", \"17\", \"18\", \"19\", \"20\", \"21\", \"22\", \"23\", \"24\", \"25\", \"26\", \"27\", \"28\", \"29\", \"30\", \"31\", \"32\", \"33\", \"34\", \"35\", \"36\", \"37\", \"38\", \"39\", \"40\", \"41\", \"43\", \"44\"], \"mode\": \"markers\", \"name\": \"average_precision_score_macro\", \"stepped\": false, \"type\": \"scatter\", \"data\": [0.9981998282915072, 0.9939497677473674, 0.8421402568178414, 0.8223547105339242, 0.9410569451154366, 0.7277838189216917, 0.998586864796993, 0.9963009944752872, 0.9961060917802407, 0.7529468718975026, 0.9825636533198652, 0.8719422614462744, 0.9992561557166566, 0.787000905542247, 0.9931627985156958, 0.8776486954425958, 0.998867432904629, 0.9968630352053381, 0.9962281119998821, 0.995250473235513, 0.9960785322010253, 0.9971706982231588, 0.9986966615280524, 0.9909138139173937, 0.8168602966447561, 0.5, 0.9989862104112242, 0.9959764073645178, 1.0, 0.9962826970131018, 0.999795042521795, 0.9970958000169156, 0.9901188211954078, 0.9974205909256474, 0.9960099292113354, 1.0, 0.9961573691075873, 0.9961357409511363, 0.995342256310167, 0.9962676473292571, 0.8276077414598981, 0.9974934789073496, 1.0, 1.0]}, {\"categories\": [\"0\", \"1\", \"2\", \"3\", \"4\", \"5\", \"6\", \"7\", \"8\", \"9\", \"10\", \"11\", \"12\", \"13\", \"14\", \"15\", \"16\", \"17\", \"18\", \"19\", \"20\", \"21\", \"22\", \"23\", \"24\", \"25\", \"26\", \"27\", \"28\", \"29\", \"30\", \"31\", \"32\", \"33\", \"34\", \"35\", \"36\", \"37\", \"38\", \"39\", \"40\", \"41\", \"43\", \"44\"], \"mode\": \"lines\", \"name\": \"average_precision_score_macro_max\", \"stepped\": true, \"type\": \"scatter\", \"data\": [0.9981998282915072, 0.9981998282915072, 0.9981998282915072, 0.9981998282915072, 0.9981998282915072, 0.9981998282915072, 0.998586864796993, 0.998586864796993, 0.998586864796993, 0.998586864796993, 0.998586864796993, 0.998586864796993, 0.9992561557166566, 0.9992561557166566, 0.9992561557166566, 0.9992561557166566, 0.9992561557166566, 0.9992561557166566, 0.9992561557166566, 0.9992561557166566, 0.9992561557166566, 0.9992561557166566, 0.9992561557166566, 0.9992561557166566, 0.9992561557166566, 0.9992561557166566, 0.9992561557166566, 0.9992561557166566, 1.0, 1.0, 1.0, 1.0, 1.0, 1.0, 1.0, 1.0, 1.0, 1.0, 1.0, 1.0, 1.0, 1.0, 1.0, 1.0]}], \"recall_score_weighted\": [{\"categories\": [\"0\", \"1\", \"2\", \"3\", \"4\", \"5\", \"6\", \"7\", \"8\", \"9\", \"10\", \"11\", \"12\", \"13\", \"14\", \"15\", \"16\", \"17\", \"18\", \"19\", \"20\", \"21\", \"22\", \"23\", \"24\", \"25\", \"26\", \"27\", \"28\", \"29\", \"30\", \"31\", \"32\", \"33\", \"34\", \"35\", \"36\", \"37\", \"38\", \"39\", \"40\", \"41\", \"43\", \"44\"], \"mode\": \"markers\", \"name\": \"recall_score_weighted\", \"stepped\": false, \"type\": \"scatter\", \"data\": [0.9843226987447699, 0.9603425732217573, 0.7578713389121339, 0.7412003138075314, 0.8549206764295676, 0.698352510460251, 0.9864365411436542, 0.9801691073919108, 0.9832941073919108, 0.6973369944211995, 0.9217834728033473, 0.7798552998605299, 0.9895528242677825, 0.7224023709902372, 0.9832941073919108, 0.7881755578800558, 0.9885198744769875, 0.987469490934449, 0.95619769874477, 0.9843357740585774, 0.9885155160390515, 0.987469490934449, 0.9906032078103209, 0.9634719316596931, 0.7203016039051604, 0.6534998256624825, 0.9916448744769875, 0.9853817991631799, 0.9989539748953975, 0.9759937238493723, 0.9916405160390517, 0.9895615411436541, 0.9499389818688982, 0.9812064156206417, 0.9853817991631799, 0.9968662831241284, 0.9718096234309623, 0.9718096234309623, 0.9812107740585774, 0.9801691073919108, 0.7672812064156207, 0.9895528242677825, 0.9989539748953975, 0.9989539748953975]}, {\"categories\": [\"0\", \"1\", \"2\", \"3\", \"4\", \"5\", \"6\", \"7\", \"8\", \"9\", \"10\", \"11\", \"12\", \"13\", \"14\", \"15\", \"16\", \"17\", \"18\", \"19\", \"20\", \"21\", \"22\", \"23\", \"24\", \"25\", \"26\", \"27\", \"28\", \"29\", \"30\", \"31\", \"32\", \"33\", \"34\", \"35\", \"36\", \"37\", \"38\", \"39\", \"40\", \"41\", \"43\", \"44\"], \"mode\": \"lines\", \"name\": \"recall_score_weighted_max\", \"stepped\": true, \"type\": \"scatter\", \"data\": [0.9843226987447699, 0.9843226987447699, 0.9843226987447699, 0.9843226987447699, 0.9843226987447699, 0.9843226987447699, 0.9864365411436542, 0.9864365411436542, 0.9864365411436542, 0.9864365411436542, 0.9864365411436542, 0.9864365411436542, 0.9895528242677825, 0.9895528242677825, 0.9895528242677825, 0.9895528242677825, 0.9895528242677825, 0.9895528242677825, 0.9895528242677825, 0.9895528242677825, 0.9895528242677825, 0.9895528242677825, 0.9906032078103209, 0.9906032078103209, 0.9906032078103209, 0.9906032078103209, 0.9916448744769875, 0.9916448744769875, 0.9989539748953975, 0.9989539748953975, 0.9989539748953975, 0.9989539748953975, 0.9989539748953975, 0.9989539748953975, 0.9989539748953975, 0.9989539748953975, 0.9989539748953975, 0.9989539748953975, 0.9989539748953975, 0.9989539748953975, 0.9989539748953975, 0.9989539748953975, 0.9989539748953975, 0.9989539748953975]}]}, \"metricName\": null, \"primaryMetricName\": \"accuracy\", \"showLegend\": false}, \"run_metrics\": [{\"name\": \"experiment_status\", \"run_id\": \"AutoML_5d4d437f-5c73-4b68-abb9-c1951ccd9110\", \"categories\": [0, 1, 2, 3, 4, 5, 6, 7, 8, 9, 10, 11, 12, 13], \"series\": [{\"data\": [\"DatasetEvaluation\", \"FeaturesGeneration\", \"DatasetFeaturization\", \"DatasetFeaturizationCompleted\", \"DatasetCrossValidationSplit\", \"ModelSelection\", \"BestRunExplainModel\", \"ModelExplanationDataSetSetup\", \"PickSurrogateModel\", \"EngineeredFeatureExplanations\", \"EngineeredFeatureExplanations\", \"RawFeaturesExplanations\", \"RawFeaturesExplanations\", \"BestRunExplainModel\"]}]}, {\"name\": \"experiment_status_description\", \"run_id\": \"AutoML_5d4d437f-5c73-4b68-abb9-c1951ccd9110\", \"categories\": [0, 1, 2, 3, 4, 5, 6, 7, 8, 9, 10, 11, 12, 13], \"series\": [{\"data\": [\"Gathering dataset statistics.\", \"Generating features for the dataset.\", \"Beginning to fit featurizers and featurize the dataset.\", \"Completed fit featurizers and featurizing the dataset.\", \"Generating individually featurized CV splits.\", \"Beginning model selection.\", \"Best run model explanations started\", \"Model explanations data setup completed\", \"Choosing LightGBM as the surrogate model for explanations\", \"Computation of engineered features started\", \"Computation of engineered features completed\", \"Computation of raw features started\", \"Computation of raw features completed\", \"Best run model explanations completed\"]}]}, {\"name\": \"norm_macro_recall\", \"run_id\": \"AutoML_5d4d437f-5c73-4b68-abb9-c1951ccd9110\", \"categories\": [0], \"series\": [{\"data\": [0.9969512195121951]}]}, {\"name\": \"weighted_accuracy\", \"run_id\": \"AutoML_5d4d437f-5c73-4b68-abb9-c1951ccd9110\", \"categories\": [0], \"series\": [{\"data\": [0.999346571893029]}]}, {\"name\": \"f1_score_macro\", \"run_id\": \"AutoML_5d4d437f-5c73-4b68-abb9-c1951ccd9110\", \"categories\": [0], \"series\": [{\"data\": [0.9988363034375305]}]}, {\"name\": \"recall_score_micro\", \"run_id\": \"AutoML_5d4d437f-5c73-4b68-abb9-c1951ccd9110\", \"categories\": [0], \"series\": [{\"data\": [0.9989539748953975]}]}, {\"name\": \"balanced_accuracy\", \"run_id\": \"AutoML_5d4d437f-5c73-4b68-abb9-c1951ccd9110\", \"categories\": [0], \"series\": [{\"data\": [0.9984756097560976]}]}, {\"name\": \"precision_score_weighted\", \"run_id\": \"AutoML_5d4d437f-5c73-4b68-abb9-c1951ccd9110\", \"categories\": [0], \"series\": [{\"data\": [0.998960595307452]}]}, {\"name\": \"AUC_macro\", \"run_id\": \"AutoML_5d4d437f-5c73-4b68-abb9-c1951ccd9110\", \"categories\": [0], \"series\": [{\"data\": [1.0]}]}, {\"name\": \"recall_score_weighted\", \"run_id\": \"AutoML_5d4d437f-5c73-4b68-abb9-c1951ccd9110\", \"categories\": [0], \"series\": [{\"data\": [0.9989539748953975]}]}, {\"name\": \"f1_score_weighted\", \"run_id\": \"AutoML_5d4d437f-5c73-4b68-abb9-c1951ccd9110\", \"categories\": [0], \"series\": [{\"data\": [0.9989524265867413]}]}, {\"name\": \"recall_score_macro\", \"run_id\": \"AutoML_5d4d437f-5c73-4b68-abb9-c1951ccd9110\", \"categories\": [0], \"series\": [{\"data\": [0.9984756097560976]}]}, {\"name\": \"average_precision_score_weighted\", \"run_id\": \"AutoML_5d4d437f-5c73-4b68-abb9-c1951ccd9110\", \"categories\": [0], \"series\": [{\"data\": [1.0]}]}, {\"name\": \"matthews_correlation\", \"run_id\": \"AutoML_5d4d437f-5c73-4b68-abb9-c1951ccd9110\", \"categories\": [0], \"series\": [{\"data\": [0.9976833851463494]}]}, {\"name\": \"AUC_micro\", \"run_id\": \"AutoML_5d4d437f-5c73-4b68-abb9-c1951ccd9110\", \"categories\": [0], \"series\": [{\"data\": [0.9999781166296109]}]}, {\"name\": \"precision_score_micro\", \"run_id\": \"AutoML_5d4d437f-5c73-4b68-abb9-c1951ccd9110\", \"categories\": [0], \"series\": [{\"data\": [0.9989539748953975]}]}, {\"name\": \"precision_score_macro\", \"run_id\": \"AutoML_5d4d437f-5c73-4b68-abb9-c1951ccd9110\", \"categories\": [0], \"series\": [{\"data\": [0.9992088607594937]}]}, {\"name\": \"average_precision_score_micro\", \"run_id\": \"AutoML_5d4d437f-5c73-4b68-abb9-c1951ccd9110\", \"categories\": [0], \"series\": [{\"data\": [0.9999782610090945]}]}, {\"name\": \"average_precision_score_macro\", \"run_id\": \"AutoML_5d4d437f-5c73-4b68-abb9-c1951ccd9110\", \"categories\": [0], \"series\": [{\"data\": [1.0]}]}, {\"name\": \"accuracy\", \"run_id\": \"AutoML_5d4d437f-5c73-4b68-abb9-c1951ccd9110\", \"categories\": [0], \"series\": [{\"data\": [0.9989539748953975]}]}, {\"name\": \"log_loss\", \"run_id\": \"AutoML_5d4d437f-5c73-4b68-abb9-c1951ccd9110\", \"categories\": [0], \"series\": [{\"data\": [0.044674674986827034]}]}, {\"name\": \"f1_score_micro\", \"run_id\": \"AutoML_5d4d437f-5c73-4b68-abb9-c1951ccd9110\", \"categories\": [0], \"series\": [{\"data\": [0.9989539748953975]}]}, {\"name\": \"AUC_weighted\", \"run_id\": \"AutoML_5d4d437f-5c73-4b68-abb9-c1951ccd9110\", \"categories\": [0], \"series\": [{\"data\": [1.0]}]}], \"run_logs\": \"\\nRun is completed.\", \"graph\": {}, \"widget_settings\": {\"childWidgetDisplay\": \"popup\", \"send_telemetry\": false, \"log_level\": \"INFO\", \"sdk_version\": \"1.24.0\"}, \"loading\": false}"
          },
          "metadata": {}
        }
      ],
      "execution_count": 11,
      "metadata": {
        "gather": {
          "logged": 1617676882451
        },
        "jupyter": {
          "outputs_hidden": false,
          "source_hidden": false
        },
        "nteract": {
          "transient": {
            "deleting": false
          }
        }
      }
    },
    {
      "cell_type": "markdown",
      "source": [
        "## Best Model\n",
        "\n",
        "TODO: In the cell below, get the best model from the automl experiments and display all the properties of the model.\n",
        "\n"
      ],
      "metadata": {}
    },
    {
      "cell_type": "code",
      "source": [
        "bestRun, bestModel = remote_run.get_output()\r\n",
        "model_name = bestRun.properties['model_name']\r\n",
        "\r\n",
        "print('Best model: {}\\n\\n\\nProperties of best model:{}'.format(model_name,bestModel))"
      ],
      "outputs": [
        {
          "output_type": "stream",
          "name": "stdout",
          "text": [
            "Best model: AutoML5d4d437f528\n",
            "\n",
            "\n",
            "Properties of best model:Pipeline(memory=None,\n",
            "         steps=[('datatransformer',\n",
            "                 DataTransformer(enable_dnn=None, enable_feature_sweeping=None,\n",
            "                                 feature_sweeping_config=None,\n",
            "                                 feature_sweeping_timeout=None,\n",
            "                                 featurization_config=None, force_text_dnn=None,\n",
            "                                 is_cross_validation=None,\n",
            "                                 is_onnx_compatible=None, logger=None,\n",
            "                                 observer=None, task=None, working_dir=None)),\n",
            "                ('SparseNormalizer',\n",
            "                 <azureml.auto...\n",
            "                                   colsample_bytree=0.6, eta=0.001, gamma=0,\n",
            "                                   learning_rate=0.1, max_delta_step=0,\n",
            "                                   max_depth=3, max_leaves=0,\n",
            "                                   min_child_weight=1, missing=nan,\n",
            "                                   n_estimators=600, n_jobs=1, nthread=None,\n",
            "                                   objective='reg:logistic', random_state=0,\n",
            "                                   reg_alpha=0.10416666666666667,\n",
            "                                   reg_lambda=1.6666666666666667,\n",
            "                                   scale_pos_weight=1, seed=None, silent=None,\n",
            "                                   subsample=0.7, tree_method='auto',\n",
            "                                   verbose=-10, verbosity=0))],\n",
            "         verbose=False)\n",
            "Y_transformer(['LabelEncoder', LabelEncoder()])\n"
          ]
        }
      ],
      "execution_count": 12,
      "metadata": {
        "gather": {
          "logged": 1617676963895
        },
        "jupyter": {
          "outputs_hidden": false,
          "source_hidden": false
        },
        "nteract": {
          "transient": {
            "deleting": false
          }
        }
      }
    },
    {
      "cell_type": "code",
      "source": [
        "bestRun.properties"
      ],
      "outputs": [
        {
          "output_type": "execute_result",
          "execution_count": 30,
          "data": {
            "text/plain": "{'runTemplate': 'automl_child',\n 'pipeline_id': '1ad5ca83734cfe5fc2dba8ebf3308814f693d7de',\n 'pipeline_spec': '{\"objects\": [{\"class_name\": \"SparseNormalizer\", \"module\": \"automl.client.core.common.model_wrappers\", \"param_args\": [], \"param_kwargs\": {\"norm\": \"l2\"}, \"prepared_kwargs\": {}, \"spec_class\": \"preproc\"}, {\"class_name\": \"XGBoostClassifier\", \"module\": \"automl.client.core.common.model_wrappers\", \"param_args\": [], \"param_kwargs\": {\"booster\": \"gbtree\", \"colsample_bytree\": 0.6, \"eta\": 0.001, \"max_depth\": 3, \"max_leaves\": 0, \"n_estimators\": 600, \"objective\": \"reg:logistic\", \"reg_alpha\": 0.10416666666666667, \"reg_lambda\": 1.6666666666666667, \"subsample\": 0.7, \"tree_method\": \"auto\"}, \"prepared_kwargs\": {}, \"spec_class\": \"sklearn\"}], \"pipeline_id\": \"1ad5ca83734cfe5fc2dba8ebf3308814f693d7de\", \"module\": \"sklearn.pipeline\", \"class_name\": \"Pipeline\", \"pipeline_name\": \"{ SparseNormalizer, XGBoostClassifier }\"}',\n 'training_percent': '100',\n 'predicted_cost': '0.21480199125733757',\n 'iteration': '28',\n '_aml_system_scenario_identification': 'Remote.Child',\n '_azureml.ComputeTargetType': 'amlcompute',\n 'ContentSnapshotId': 'ec1d2c02-b887-4177-b93d-714c085aac02',\n 'ProcessInfoFile': 'azureml-logs/process_info.json',\n 'ProcessStatusFile': 'azureml-logs/process_status.json',\n 'run_template': 'automl_child',\n 'run_preprocessor': 'SparseNormalizer',\n 'run_algorithm': 'XGBoostClassifier',\n 'model_output_path': 'outputs/model.pkl',\n 'conda_env_data_location': 'aml://artifact/ExperimentRun/dcid.AutoML_5d4d437f-5c73-4b68-abb9-c1951ccd9110_28/outputs/conda_env_v_1_0_0.yml',\n 'model_data_location': 'aml://artifact/ExperimentRun/dcid.AutoML_5d4d437f-5c73-4b68-abb9-c1951ccd9110_28/outputs/model.pkl',\n 'model_size_on_disk': '405760',\n 'scoring_data_location': 'aml://artifact/ExperimentRun/dcid.AutoML_5d4d437f-5c73-4b68-abb9-c1951ccd9110_28/outputs/scoring_file_v_1_0_0.py',\n 'model_exp_support': 'True',\n 'pipeline_graph_version': '1.0.0',\n 'model_name': 'AutoML5d4d437f528',\n 'staticProperties': '{}',\n 'score': '0.9989539748953975',\n 'score_table': 'NaN',\n 'run_properties': '<azureml.automl.runtime.shared.model_wrappers.SparseNormalizer object at 0x7f2ac4765a90',\n 'pipeline_script': '{\"objects\": [{\"class_name\": \"SparseNormalizer\", \"module\": \"automl.client.core.common.model_wrappers\", \"param_args\": [], \"param_kwargs\": {\"norm\": \"l2\"}, \"prepared_kwargs\": {}, \"spec_class\": \"preproc\"}, {\"class_name\": \"XGBoostClassifier\", \"module\": \"automl.client.core.common.model_wrappers\", \"param_args\": [], \"param_kwargs\": {\"booster\": \"gbtree\", \"colsample_bytree\": 0.6, \"eta\": 0.001, \"max_depth\": 3, \"max_leaves\": 0, \"n_estimators\": 600, \"objective\": \"reg:logistic\", \"reg_alpha\": 0.10416666666666667, \"reg_lambda\": 1.6666666666666667, \"subsample\": 0.7, \"tree_method\": \"auto\"}, \"prepared_kwargs\": {}, \"spec_class\": \"sklearn\"}], \"pipeline_id\": \"1ad5ca83734cfe5fc2dba8ebf3308814f693d7de\", \"module\": \"sklearn.pipeline\", \"class_name\": \"Pipeline\", \"pipeline_name\": \"{ SparseNormalizer, XGBoostClassifier }\"}',\n 'training_type': 'MeanCrossValidation',\n 'num_classes': '',\n 'framework': 'sklearn',\n 'fit_time': '0.24027699999999996',\n 'goal': 'accuracy_max',\n 'class_labels': '',\n 'primary_metric': 'accuracy',\n 'errors': '{}',\n 'onnx_model_resource': '{}',\n 'error_code': '',\n 'failure_reason': '',\n 'feature_skus': 'automatedml_sdk_guardrails',\n 'dependencies_versions': '{\"azureml-train-automl-runtime\": \"1.24.0\", \"azureml-train-automl-client\": \"1.24.0\", \"azureml-telemetry\": \"1.24.0\", \"azureml-pipeline-core\": \"1.24.0\", \"azureml-model-management-sdk\": \"1.0.1b6.post1\", \"azureml-mlflow\": \"1.24.0\", \"azureml-interpret\": \"1.24.0\", \"azureml-defaults\": \"1.24.0\", \"azureml-dataset-runtime\": \"1.24.0\", \"azureml-dataprep\": \"2.11.2\", \"azureml-dataprep-rslex\": \"1.9.1\", \"azureml-dataprep-native\": \"30.0.0\", \"azureml-core\": \"1.24.0.post1\", \"azureml-automl-runtime\": \"1.24.0\", \"azureml-automl-core\": \"1.24.0\"}',\n 'num_cores': '2',\n 'num_logical_cores': '2',\n 'peak_memory_usage': '483304',\n 'vm_configuration': 'Intel(R) Xeon(R) CPU E5-2673 v4 @ 2.30GHz',\n 'core_hours': '0.0006986977777777776'}"
          },
          "metadata": {}
        }
      ],
      "execution_count": 30,
      "metadata": {
        "collapsed": true,
        "jupyter": {
          "source_hidden": false,
          "outputs_hidden": false
        },
        "nteract": {
          "transient": {
            "deleting": false
          }
        },
        "gather": {
          "logged": 1617682966532
        }
      }
    },
    {
      "cell_type": "code",
      "source": [
        "#TODO: Save the best model\r\n",
        "\r\n",
        "model_register= remote_run.register_model(model_name='bestmodel')\r\n",
        "\r\n",
        "model_register.download(target_dir=\"outputs\", exist_ok=True)"
      ],
      "outputs": [
        {
          "output_type": "execute_result",
          "execution_count": 13,
          "data": {
            "text/plain": "'outputs/model.pkl'"
          },
          "metadata": {}
        }
      ],
      "execution_count": 13,
      "metadata": {
        "gather": {
          "logged": 1617677007758
        },
        "jupyter": {
          "outputs_hidden": false,
          "source_hidden": false
        },
        "nteract": {
          "transient": {
            "deleting": false
          }
        }
      }
    },
    {
      "cell_type": "markdown",
      "source": [
        "## Model Deployment\n",
        "\n",
        "Remember you have to deploy only one of the two models you trained.. Perform the steps in the rest of this notebook only if you wish to deploy this model.\n",
        "\n",
        "TODO: In the cell below, register the model, create an inference config and deploy the model as a web service."
      ],
      "metadata": {}
    },
    {
      "cell_type": "code",
      "source": [
        "# Import Operational Libraries\r\n",
        "\r\n",
        "from azureml.core.webservice import AciWebservice, LocalWebservice\r\n",
        "from azureml.core import Environment\r\n",
        "from azureml.core.model import InferenceConfig\r\n",
        "from azureml.core.model import Model\r\n",
        "import requests\r\n",
        "import json"
      ],
      "outputs": [],
      "execution_count": 14,
      "metadata": {
        "collapsed": true,
        "jupyter": {
          "source_hidden": false,
          "outputs_hidden": false
        },
        "nteract": {
          "transient": {
            "deleting": false
          }
        },
        "gather": {
          "logged": 1617677053622
        }
      }
    },
    {
      "cell_type": "code",
      "source": [
        "config = AciWebservice.deploy_configuration(cpu_cores=1, \r\n",
        "                                            memory_gb=4, \r\n",
        "                                            enable_app_insights=True,\r\n",
        "                                            description='bestmodel')\r\n",
        "\r\n",
        "model = Model(ws, 'bestmodel')\r\n",
        "\r\n",
        "\r\n",
        "# Using the same environment for deployment\r\n",
        "env_deploy = Environment.get(workspace=ws, name='AzureML-AutoML')\r\n",
        "\r\n",
        "Inference_config = InferenceConfig(entry_script=\"score.py\", environment=env_deploy)\r\n",
        "\r\n",
        "\r\n",
        "# Deploy the best model\r\n",
        "service = Model.deploy(workspace=ws, \r\n",
        "                       name='bestmodel', \r\n",
        "                       models=[model], \r\n",
        "                       inference_config=Inference_config, \r\n",
        "                       deployment_config=config)"
      ],
      "outputs": [],
      "execution_count": 15,
      "metadata": {
        "gather": {
          "logged": 1617677097698
        },
        "jupyter": {
          "outputs_hidden": false,
          "source_hidden": false
        },
        "nteract": {
          "transient": {
            "deleting": false
          }
        }
      }
    },
    {
      "cell_type": "markdown",
      "source": [
        "TODO: In the cell below, send a request to the web service you deployed to test it."
      ],
      "metadata": {
        "collapsed": true,
        "gather": {
          "logged": 1598431657736
        },
        "jupyter": {
          "outputs_hidden": false,
          "source_hidden": false
        },
        "nteract": {
          "transient": {
            "deleting": false
          }
        }
      }
    },
    {
      "cell_type": "code",
      "source": [
        "service.wait_for_deployment(show_output=True)"
      ],
      "outputs": [
        {
          "output_type": "stream",
          "name": "stdout",
          "text": [
            "Tips: You can try get_logs(): https://aka.ms/debugimage#dockerlog or local deployment: https://aka.ms/debugimage#debug-locally to debug if deployment takes longer than 10 minutes.\n",
            "Running\n",
            "2021-04-06 02:39:14+00:00 Creating Container Registry if not exists.\n",
            "2021-04-06 02:39:15+00:00 Registering the environment.\n",
            "2021-04-06 02:39:16+00:00 Use the existing image.\n",
            "2021-04-06 02:39:17+00:00 Generating deployment configuration.\n",
            "2021-04-06 02:39:18+00:00 Submitting deployment to compute.\n",
            "2021-04-06 02:39:23+00:00 Checking the status of deployment bestmodel..\n",
            "2021-04-06 02:42:40+00:00 Checking the status of inference endpoint bestmodel.\n",
            "Succeeded\n",
            "ACI service creation operation finished, operation \"Succeeded\"\n"
          ]
        }
      ],
      "execution_count": 16,
      "metadata": {
        "gather": {
          "logged": 1617677320501
        },
        "jupyter": {
          "outputs_hidden": false,
          "source_hidden": false
        },
        "nteract": {
          "transient": {
            "deleting": false
          }
        }
      }
    },
    {
      "cell_type": "code",
      "source": [
        "print(service.scoring_uri)\r\n",
        "print(service.swagger_uri)"
      ],
      "outputs": [
        {
          "output_type": "stream",
          "name": "stdout",
          "text": [
            "http://f8ee2cee-2fd4-4fc4-8f2e-211839414d95.southcentralus.azurecontainer.io/score\n",
            "http://f8ee2cee-2fd4-4fc4-8f2e-211839414d95.southcentralus.azurecontainer.io/swagger.json\n"
          ]
        }
      ],
      "execution_count": 17,
      "metadata": {
        "collapsed": true,
        "jupyter": {
          "source_hidden": false,
          "outputs_hidden": false
        },
        "nteract": {
          "transient": {
            "deleting": false
          }
        },
        "gather": {
          "logged": 1617677396645
        }
      }
    },
    {
      "cell_type": "code",
      "source": [
        "# test the web service \r\n",
        "\r\n",
        "scoring_uri = service.scoring_uri\r\n",
        "\r\n",
        "# Ans should be positive\r\n",
        "data={'request':[\r\n",
        "    {\r\n",
        "        '1':'x',\r\n",
        "        '2':'x',\r\n",
        "        '3':'b',\r\n",
        "        '4':'o',\r\n",
        "        '5':'o',\r\n",
        "        '6':'o',\r\n",
        "        '7':'o',\r\n",
        "        '8':'b',\r\n",
        "        '9':'b',\r\n",
        "    }\r\n",
        "]}\r\n",
        "\r\n",
        "# Convert to json string\r\n",
        "data=json.dumps(data)\r\n",
        "headers = {'Content-Type': 'application/json'}\r\n",
        "\r\n",
        "\r\n",
        "# Make a request\r\n",
        "\r\n",
        "responce = requests.post(scoring_uri, data, headers=headers)\r\n",
        "print(responce.json())"
      ],
      "outputs": [
        {
          "output_type": "stream",
          "name": "stdout",
          "text": [
            "['negative']\n"
          ]
        }
      ],
      "execution_count": 29,
      "metadata": {
        "collapsed": true,
        "jupyter": {
          "source_hidden": false,
          "outputs_hidden": false
        },
        "nteract": {
          "transient": {
            "deleting": false
          }
        },
        "gather": {
          "logged": 1617682491383
        }
      }
    },
    {
      "cell_type": "code",
      "source": [],
      "outputs": [],
      "execution_count": null,
      "metadata": {
        "collapsed": true,
        "jupyter": {
          "source_hidden": false,
          "outputs_hidden": false
        },
        "nteract": {
          "transient": {
            "deleting": false
          }
        }
      }
    },
    {
      "cell_type": "markdown",
      "source": [
        "TODO: In the cell below, print the logs of the web service and delete the service"
      ],
      "metadata": {
        "collapsed": true,
        "gather": {
          "logged": 1598432765711
        },
        "jupyter": {
          "outputs_hidden": false,
          "source_hidden": false
        },
        "nteract": {
          "transient": {
            "deleting": false
          }
        }
      }
    },
    {
      "cell_type": "code",
      "source": [
        "\r\n",
        "print(service.scoring_uri)\r\n",
        "print(service.swagger_uri)"
      ],
      "outputs": [
        {
          "output_type": "stream",
          "name": "stdout",
          "text": [
            "http://f8ee2cee-2fd4-4fc4-8f2e-211839414d95.southcentralus.azurecontainer.io/score\n",
            "http://f8ee2cee-2fd4-4fc4-8f2e-211839414d95.southcentralus.azurecontainer.io/swagger.json\n"
          ]
        }
      ],
      "execution_count": 32,
      "metadata": {
        "jupyter": {
          "outputs_hidden": false,
          "source_hidden": false
        },
        "nteract": {
          "transient": {
            "deleting": false
          }
        },
        "gather": {
          "logged": 1617684126179
        }
      }
    },
    {
      "cell_type": "code",
      "source": [
        "\r\n",
        "# print the logs\r\n",
        "print(service.get_logs())"
      ],
      "outputs": [
        {
          "output_type": "stream",
          "name": "stdout",
          "text": [
            "2021-04-06T02:42:34,444590000+00:00 - iot-server/run \n",
            "2021-04-06T02:42:34,447291300+00:00 - gunicorn/run \n",
            "2021-04-06T02:42:34,451334300+00:00 - rsyslog/run \n",
            "2021-04-06T02:42:34,474278800+00:00 - nginx/run \n",
            "rsyslogd: /azureml-envs/azureml_b9c4b27f10281b0e6c0637301639810f/lib/libuuid.so.1: no version information available (required by rsyslogd)\n",
            "/usr/sbin/nginx: /azureml-envs/azureml_b9c4b27f10281b0e6c0637301639810f/lib/libcrypto.so.1.0.0: no version information available (required by /usr/sbin/nginx)\n",
            "/usr/sbin/nginx: /azureml-envs/azureml_b9c4b27f10281b0e6c0637301639810f/lib/libcrypto.so.1.0.0: no version information available (required by /usr/sbin/nginx)\n",
            "/usr/sbin/nginx: /azureml-envs/azureml_b9c4b27f10281b0e6c0637301639810f/lib/libssl.so.1.0.0: no version information available (required by /usr/sbin/nginx)\n",
            "/usr/sbin/nginx: /azureml-envs/azureml_b9c4b27f10281b0e6c0637301639810f/lib/libssl.so.1.0.0: no version information available (required by /usr/sbin/nginx)\n",
            "/usr/sbin/nginx: /azureml-envs/azureml_b9c4b27f10281b0e6c0637301639810f/lib/libssl.so.1.0.0: no version information available (required by /usr/sbin/nginx)\n",
            "EdgeHubConnectionString and IOTEDGE_IOTHUBHOSTNAME are not set. Exiting...\n",
            "2021-04-06T02:42:36,045712500+00:00 - iot-server/finish 1 0\n",
            "2021-04-06T02:42:36,056297900+00:00 - Exit code 1 is normal. Not restarting iot-server.\n",
            "Starting gunicorn 19.9.0\n",
            "Listening at: http://127.0.0.1:31311 (67)\n",
            "Using worker: sync\n",
            "worker timeout is set to 300\n",
            "Booting worker with pid: 97\n",
            "SPARK_HOME not set. Skipping PySpark Initialization.\n",
            "Generating new fontManager, this may take some time...\n",
            "Initializing logger\n",
            "2021-04-06 02:42:45,363 | root | INFO | Starting up app insights client\n",
            "2021-04-06 02:42:45,364 | root | INFO | Starting up request id generator\n",
            "2021-04-06 02:42:45,364 | root | INFO | Starting up app insight hooks\n",
            "2021-04-06 02:42:45,365 | root | INFO | Invoking user's init function\n",
            "2021-04-06 02:42:52,241 | root | INFO | Users's init has completed successfully\n",
            "2021-04-06 02:42:52,249 | root | INFO | Skipping middleware: dbg_model_info as it's not enabled.\n",
            "2021-04-06 02:42:52,250 | root | INFO | Skipping middleware: dbg_resource_usage as it's not enabled.\n",
            "2021-04-06 02:42:52,252 | root | INFO | Scoring timeout is found from os.environ: 60000 ms\n",
            "2021-04-06 02:42:52,303 | root | INFO | Swagger file not present\n",
            "2021-04-06 02:42:52,304 | root | INFO | 404\n",
            "127.0.0.1 - - [06/Apr/2021:02:42:52 +0000] \"GET /swagger.json HTTP/1.0\" 404 19 \"-\" \"Go-http-client/1.1\"\n",
            "2021-04-06 02:42:57,715 | root | INFO | Swagger file not present\n",
            "2021-04-06 02:42:57,715 | root | INFO | 404\n",
            "127.0.0.1 - - [06/Apr/2021:02:42:57 +0000] \"GET /swagger.json HTTP/1.0\" 404 19 \"-\" \"Go-http-client/1.1\"\n",
            "2021-04-06 02:44:26,855 | root | INFO | Validation Request Content-Type\n",
            "2021-04-06 02:44:26,856 | root | INFO | Scoring Timer is set to 60.0 seconds\n",
            "2021-04-06 02:44:26,900 | root | INFO | 200\n",
            "127.0.0.1 - - [06/Apr/2021:02:44:26 +0000] \"POST /score HTTP/1.0\" 200 12 \"-\" \"python-requests/2.25.1\"\n",
            "2021-04-06 03:32:17,414 | root | INFO | Swagger file not present\n",
            "2021-04-06 03:32:17,415 | root | INFO | 404\n",
            "127.0.0.1 - - [06/Apr/2021:03:32:17 +0000] \"GET /swagger.json HTTP/1.0\" 404 19 \"-\" \"Go-http-client/1.1\"\n",
            "2021-04-06 03:34:08,187 | root | INFO | Swagger file not present\n",
            "2021-04-06 03:34:08,187 | root | INFO | 404\n",
            "127.0.0.1 - - [06/Apr/2021:03:34:08 +0000] \"GET /swagger.json HTTP/1.0\" 404 19 \"-\" \"Go-http-client/1.1\"\n",
            "2021-04-06 03:46:07,034 | root | INFO | Validation Request Content-Type\n",
            "2021-04-06 03:46:07,036 | root | INFO | Scoring Timer is set to 60.0 seconds\n",
            "2021-04-06 03:46:07,065 | root | INFO | 200\n",
            "127.0.0.1 - - [06/Apr/2021:03:46:07 +0000] \"POST /score HTTP/1.0\" 200 12 \"-\" \"python-requests/2.25.1\"\n",
            "2021-04-06 03:46:19,996 | root | INFO | Swagger file not present\n",
            "2021-04-06 03:46:19,996 | root | INFO | 404\n",
            "127.0.0.1 - - [06/Apr/2021:03:46:19 +0000] \"GET /swagger.json HTTP/1.0\" 404 19 \"-\" \"Go-http-client/1.1\"\n",
            "127.0.0.1 - - [06/Apr/2021:03:51:36 +0000] \"GET /aaa9 HTTP/1.0\" 404 232 \"-\" \"Mozilla/5.0 (Windows NT 10.0; Win64; x64) AppleWebKit/537.36 (KHTML, like Gecko) Chrome/70.0.3538.77 Safari/537.36\"\n",
            "127.0.0.1 - - [06/Apr/2021:03:51:36 +0000] \"GET /aab9 HTTP/1.0\" 404 232 \"-\" \"Mozilla/5.0 (Windows NT 10.0; Win64; x64) AppleWebKit/537.36 (KHTML, like Gecko) Chrome/70.0.3538.77 Safari/537.36\"\n",
            "2021-04-06 03:55:43,424 | root | INFO | Swagger file not present\n",
            "2021-04-06 03:55:43,424 | root | INFO | 404\n",
            "127.0.0.1 - - [06/Apr/2021:03:55:43 +0000] \"GET /swagger.json HTTP/1.0\" 404 19 \"-\" \"Go-http-client/1.1\"\n",
            "2021-04-06 03:57:56,811 | root | INFO | Validation Request Content-Type\n",
            "2021-04-06 03:57:56,812 | root | INFO | Scoring Timer is set to 60.0 seconds\n",
            "2021-04-06 03:57:56,840 | root | INFO | 200\n",
            "127.0.0.1 - - [06/Apr/2021:03:57:56 +0000] \"POST /score HTTP/1.0\" 200 12 \"-\" \"python-requests/2.25.1\"\n",
            "2021-04-06 03:58:13,270 | root | INFO | Validation Request Content-Type\n",
            "2021-04-06 03:58:13,271 | root | INFO | Scoring Timer is set to 60.0 seconds\n",
            "2021-04-06 03:58:13,298 | root | INFO | 200\n",
            "127.0.0.1 - - [06/Apr/2021:03:58:13 +0000] \"POST /score HTTP/1.0\" 200 12 \"-\" \"python-requests/2.25.1\"\n",
            "2021-04-06 04:07:28,301 | root | INFO | Validation Request Content-Type\n",
            "2021-04-06 04:07:28,303 | root | INFO | Scoring Timer is set to 60.0 seconds\n",
            "2021-04-06 04:07:28,334 | root | INFO | 200\n",
            "127.0.0.1 - - [06/Apr/2021:04:07:28 +0000] \"POST /score HTTP/1.0\" 200 12 \"-\" \"python-requests/2.25.1\"\n",
            "2021-04-06 04:07:47,235 | root | INFO | Validation Request Content-Type\n",
            "2021-04-06 04:07:47,237 | root | INFO | Scoring Timer is set to 60.0 seconds\n",
            "2021-04-06 04:07:47,257 | root | INFO | 200\n",
            "127.0.0.1 - - [06/Apr/2021:04:07:47 +0000] \"POST /score HTTP/1.0\" 200 12 \"-\" \"python-requests/2.25.1\"\n",
            "2021-04-06 04:08:03,345 | root | INFO | Validation Request Content-Type\n",
            "2021-04-06 04:08:03,345 | root | INFO | Scoring Timer is set to 60.0 seconds\n",
            "2021-04-06 04:08:03,367 | root | INFO | 200\n",
            "127.0.0.1 - - [06/Apr/2021:04:08:03 +0000] \"POST /score HTTP/1.0\" 200 12 \"-\" \"python-requests/2.25.1\"\n",
            "2021-04-06 04:08:22,311 | root | INFO | Validation Request Content-Type\n",
            "2021-04-06 04:08:22,312 | root | INFO | Scoring Timer is set to 60.0 seconds\n",
            "2021-04-06 04:08:22,338 | root | INFO | 200\n",
            "127.0.0.1 - - [06/Apr/2021:04:08:22 +0000] \"POST /score HTTP/1.0\" 200 12 \"-\" \"python-requests/2.25.1\"\n",
            "2021-04-06 04:08:40,555 | root | INFO | Validation Request Content-Type\n",
            "2021-04-06 04:08:40,555 | root | INFO | Scoring Timer is set to 60.0 seconds\n",
            "2021-04-06 04:08:40,582 | root | INFO | 200\n",
            "127.0.0.1 - - [06/Apr/2021:04:08:40 +0000] \"POST /score HTTP/1.0\" 200 12 \"-\" \"python-requests/2.25.1\"\n",
            "2021-04-06 04:09:08,824 | root | INFO | Validation Request Content-Type\n",
            "2021-04-06 04:09:08,825 | root | INFO | Scoring Timer is set to 60.0 seconds\n",
            "2021-04-06 04:09:08,850 | root | INFO | 200\n",
            "127.0.0.1 - - [06/Apr/2021:04:09:08 +0000] \"POST /score HTTP/1.0\" 200 12 \"-\" \"python-requests/2.25.1\"\n",
            "\n"
          ]
        }
      ],
      "execution_count": 31,
      "metadata": {
        "collapsed": true,
        "jupyter": {
          "source_hidden": false,
          "outputs_hidden": false
        },
        "nteract": {
          "transient": {
            "deleting": false
          }
        },
        "gather": {
          "logged": 1617683956753
        }
      }
    },
    {
      "cell_type": "code",
      "source": [
        "# delete service\r\n",
        "service.delete()\r\n",
        "\r\n",
        "# delete compute cluster\r\n",
        "compute-cluster.delete()"
      ],
      "outputs": [],
      "execution_count": null,
      "metadata": {
        "collapsed": true,
        "jupyter": {
          "source_hidden": false,
          "outputs_hidden": false
        },
        "nteract": {
          "transient": {
            "deleting": false
          }
        }
      }
    }
  ],
  "metadata": {
    "kernel_info": {
      "name": "python3"
    },
    "kernelspec": {
      "name": "python3",
      "language": "python",
      "display_name": "Python 3"
    },
    "language_info": {
      "name": "python",
      "version": "3.6.9",
      "mimetype": "text/x-python",
      "codemirror_mode": {
        "name": "ipython",
        "version": 3
      },
      "pygments_lexer": "ipython3",
      "nbconvert_exporter": "python",
      "file_extension": ".py"
    },
    "nteract": {
      "version": "nteract-front-end@1.0.0"
    },
    "microsoft": {
      "host": {
        "AzureML": {
          "notebookHasBeenCompleted": true
        }
      }
    }
  },
  "nbformat": 4,
  "nbformat_minor": 2
}