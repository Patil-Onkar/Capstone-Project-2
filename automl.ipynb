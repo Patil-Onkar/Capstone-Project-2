{
  "cells": [
    {
      "cell_type": "markdown",
      "source": [
        "# Automated ML\n",
        "\n",
        "TODO: Import Dependencies. In the cell below, import all the dependencies that you will need to complete the project."
      ],
      "metadata": {}
    },
    {
      "cell_type": "code",
      "source": [],
      "outputs": [],
      "execution_count": null,
      "metadata": {
        "gather": {
          "logged": 1598423888013
        },
        "jupyter": {
          "outputs_hidden": false,
          "source_hidden": false
        },
        "nteract": {
          "transient": {
            "deleting": false
          }
        }
      }
    },
    {
      "cell_type": "markdown",
      "source": [
        "## Dataset\n",
        "\n",
        "### Overview\n",
        "TODO: In this markdown cell, give an overview of the dataset you are using. Also mention the task you will be performing.\n",
        "\n",
        "\n",
        "TODO: Get data. In the cell below, write code to access the data you will be using in this project. Remember that the dataset needs to be external."
      ],
      "metadata": {}
    },
    {
      "cell_type": "code",
      "source": [
        "from azureml.core.experiment import Experiment\n",
        "from azureml.core.workspace import Workspace\n",
        "\n",
        "ws = Workspace.from_config()\n",
        "\n",
        "# choose a name for experiment\n",
        "experiment_name = 'CapstoneProjectAutoML'\n",
        "\n",
        "experiment=Experiment(ws, experiment_name)"
      ],
      "outputs": [
        {
          "output_type": "stream",
          "name": "stdout",
          "text": [
            "Performing interactive authentication. Please follow the instructions on the terminal.\n",
            "To sign in, use a web browser to open the page https://microsoft.com/devicelogin and enter the code AXNSBUE8U to authenticate.\n",
            "You have logged in. Now let us find all the subscriptions to which you have access...\n",
            "Interactive authentication successfully completed.\n"
          ]
        }
      ],
      "execution_count": 1,
      "metadata": {
        "gather": {
          "logged": 1617615026413
        },
        "jupyter": {
          "outputs_hidden": false,
          "source_hidden": false
        },
        "nteract": {
          "transient": {
            "deleting": false
          }
        }
      }
    },
    {
      "cell_type": "code",
      "source": [
        "import pandas as pd\r\n",
        "df=pd.read_csv('train.csv',index_col=0)\r\n",
        "print(df.head())\r\n",
        "df.to_csv('trn.csv',index=False)\r\n",
        "d=pd.read_csv('trn.csv')\r\n",
        "d.head()"
      ],
      "outputs": [
        {
          "output_type": "execute_result",
          "execution_count": 2,
          "data": {
            "text/plain": "   1  2  3  4  5  6  7  8  9         y\n0  x  x  x  x  o  o  x  o  o  positive\n1  x  x  x  x  o  o  o  x  o  positive\n2  x  x  x  x  o  o  o  o  x  positive\n3  x  x  x  x  o  o  o  b  b  positive\n4  x  x  x  x  o  o  b  o  b  positive",
            "text/html": "<div>\n<style scoped>\n    .dataframe tbody tr th:only-of-type {\n        vertical-align: middle;\n    }\n\n    .dataframe tbody tr th {\n        vertical-align: top;\n    }\n\n    .dataframe thead th {\n        text-align: right;\n    }\n</style>\n<table border=\"1\" class=\"dataframe\">\n  <thead>\n    <tr style=\"text-align: right;\">\n      <th></th>\n      <th>1</th>\n      <th>2</th>\n      <th>3</th>\n      <th>4</th>\n      <th>5</th>\n      <th>6</th>\n      <th>7</th>\n      <th>8</th>\n      <th>9</th>\n      <th>y</th>\n    </tr>\n  </thead>\n  <tbody>\n    <tr>\n      <th>0</th>\n      <td>x</td>\n      <td>x</td>\n      <td>x</td>\n      <td>x</td>\n      <td>o</td>\n      <td>o</td>\n      <td>x</td>\n      <td>o</td>\n      <td>o</td>\n      <td>positive</td>\n    </tr>\n    <tr>\n      <th>1</th>\n      <td>x</td>\n      <td>x</td>\n      <td>x</td>\n      <td>x</td>\n      <td>o</td>\n      <td>o</td>\n      <td>o</td>\n      <td>x</td>\n      <td>o</td>\n      <td>positive</td>\n    </tr>\n    <tr>\n      <th>2</th>\n      <td>x</td>\n      <td>x</td>\n      <td>x</td>\n      <td>x</td>\n      <td>o</td>\n      <td>o</td>\n      <td>o</td>\n      <td>o</td>\n      <td>x</td>\n      <td>positive</td>\n    </tr>\n    <tr>\n      <th>3</th>\n      <td>x</td>\n      <td>x</td>\n      <td>x</td>\n      <td>x</td>\n      <td>o</td>\n      <td>o</td>\n      <td>o</td>\n      <td>b</td>\n      <td>b</td>\n      <td>positive</td>\n    </tr>\n    <tr>\n      <th>4</th>\n      <td>x</td>\n      <td>x</td>\n      <td>x</td>\n      <td>x</td>\n      <td>o</td>\n      <td>o</td>\n      <td>b</td>\n      <td>o</td>\n      <td>b</td>\n      <td>positive</td>\n    </tr>\n  </tbody>\n</table>\n</div>"
          },
          "metadata": {}
        }
      ],
      "execution_count": 2,
      "metadata": {
        "collapsed": true,
        "jupyter": {
          "source_hidden": false,
          "outputs_hidden": false
        },
        "nteract": {
          "transient": {
            "deleting": false
          }
        },
        "gather": {
          "logged": 1617615115696
        }
      }
    },
    {
      "cell_type": "code",
      "source": [],
      "outputs": [],
      "execution_count": null,
      "metadata": {
        "collapsed": true,
        "jupyter": {
          "source_hidden": false,
          "outputs_hidden": false
        },
        "nteract": {
          "transient": {
            "deleting": false
          }
        }
      }
    },
    {
      "cell_type": "code",
      "source": [],
      "outputs": [],
      "execution_count": null,
      "metadata": {
        "collapsed": true,
        "jupyter": {
          "source_hidden": false,
          "outputs_hidden": false
        },
        "nteract": {
          "transient": {
            "deleting": false
          }
        }
      }
    },
    {
      "cell_type": "code",
      "source": [
        "# Import the data\r\n",
        "from azureml.core.dataset import Dataset\r\n",
        "import pandas as pd\r\n",
        "\r\n",
        "\r\n",
        "key = 'TicTacToe data'\r\n",
        "if key in ws.datasets.keys():\r\n",
        "    dataset = ws.datasets[key]\r\n",
        "    print(\"Dataset found\")\r\n",
        "    datastore = ws.get_default_datastore()\r\n",
        "    #train = Dataset.Tabular.from_delimited_files([(datastore,'trn.csv')])\r\n",
        "\r\n",
        "else:\r\n",
        "    datastore = ws.get_default_datastore()\r\n",
        "    datastore.upload_files(files = ['./trn.csv'])\r\n",
        "    train = Dataset.Tabular.from_delimited_files([(datastore,'trn.csv')])\r\n",
        "    train = train.register(ws,key)\r\n"
      ],
      "outputs": [
        {
          "output_type": "stream",
          "name": "stdout",
          "text": [
            "Uploading an estimated of 1 files\n",
            "Uploading ./trn.csv\n",
            "Uploaded ./trn.csv, 1 files out of an estimated total of 1\n",
            "Uploaded 1 files\n"
          ]
        }
      ],
      "execution_count": 5,
      "metadata": {
        "collapsed": true,
        "jupyter": {
          "source_hidden": false,
          "outputs_hidden": false
        },
        "nteract": {
          "transient": {
            "deleting": false
          }
        },
        "gather": {
          "logged": 1617615256094
        }
      }
    },
    {
      "cell_type": "markdown",
      "source": [
        "# Define Compute instance"
      ],
      "metadata": {
        "nteract": {
          "transient": {
            "deleting": false
          }
        }
      }
    },
    {
      "cell_type": "code",
      "source": [
        "from azureml.core.compute import ComputeTarget, AmlCompute\r\n",
        "from azureml.core.compute_target import ComputeTargetException\r\n",
        "\r\n",
        "\r\n",
        "cpu_cluster_name = \"compute-cluster\"\r\n",
        "\r\n",
        "# Verify that cluster does not exist already\r\n",
        "try:\r\n",
        "    compute_target = ComputeTarget(workspace=ws, name=cpu_cluster_name)\r\n",
        "    print('Found existing cluster, use it.')\r\n",
        "except ComputeTargetException:\r\n",
        "    print('Creating a new compute cluster...')\r\n",
        "    compute_config = AmlCompute.provisioning_configuration(vm_size='STANDARD_D2_V2', max_nodes=4)\r\n",
        "    compute_target = ComputeTarget.create(ws, cpu_cluster_name, compute_config)\r\n",
        "\r\n",
        "# Can poll for a minimum number of nodes and for a specific timeout. \r\n",
        "# If no min node count is provided it uses the scale settings for the cluster.\r\n",
        "compute_target.wait_for_completion(show_output=True)"
      ],
      "outputs": [
        {
          "output_type": "stream",
          "name": "stdout",
          "text": [
            "Creating a new compute cluster...\n",
            "Creating....\n",
            "SucceededProvisioning operation finished, operation \"Succeeded\"\n",
            "Succeeded\n",
            "AmlCompute wait for completion finished\n",
            "\n",
            "Minimum number of nodes requested have been provisioned\n"
          ]
        }
      ],
      "execution_count": 6,
      "metadata": {
        "collapsed": true,
        "jupyter": {
          "source_hidden": false,
          "outputs_hidden": false
        },
        "nteract": {
          "transient": {
            "deleting": false
          }
        },
        "gather": {
          "logged": 1617615294097
        }
      }
    },
    {
      "cell_type": "code",
      "source": [],
      "outputs": [],
      "execution_count": null,
      "metadata": {
        "collapsed": true,
        "jupyter": {
          "source_hidden": false,
          "outputs_hidden": false
        },
        "nteract": {
          "transient": {
            "deleting": false
          }
        }
      }
    },
    {
      "cell_type": "markdown",
      "source": [
        "## AutoML Configuration\n",
        "\n",
        "TODO: Explain why you chose the automl settings and cofiguration you used below."
      ],
      "metadata": {}
    },
    {
      "cell_type": "code",
      "source": [
        "from azureml.train.automl import AutoMLConfig\n",
        "\n",
        "# TODO: Put your automl settings here\n",
        "automl_settings = {\"primary_metric\":\"accuracy\",\n",
        "                   \"experiment_timeout_minutes\":30,\n",
        "                   \"enable_early_stopping\":True,\n",
        "                   'n_cross_validations':4,\n",
        "                   \"max_concurrent_iterations\": 4}\n",
        "\n",
        "# TODO: Put your automl config here\n",
        "automl_config = AutoMLConfig(compute_target = compute_target, task = 'classification', training_data = train, label_column_name ='y',**automl_settings)"
      ],
      "outputs": [],
      "execution_count": 7,
      "metadata": {
        "gather": {
          "logged": 1617615307593
        },
        "jupyter": {
          "outputs_hidden": false,
          "source_hidden": false
        },
        "nteract": {
          "transient": {
            "deleting": false
          }
        }
      }
    },
    {
      "cell_type": "code",
      "source": [
        "# TODO: Submit your experiment\n",
        "remote_run = experiment.submit(automl_config, show_output=True)"
      ],
      "outputs": [
        {
          "output_type": "stream",
          "name": "stdout",
          "text": [
            "Running on remote.\n",
            "No run_configuration provided, running on compute-cluster with default configuration\n",
            "Running on remote compute: compute-cluster\n",
            "Parent Run ID: AutoML_217f0f70-4fe9-4b0e-8f7b-5282de6d783a\n",
            "\n",
            "Current status: FeaturesGeneration. Generating features for the dataset.\n",
            "Current status: DatasetFeaturization. Beginning to fit featurizers and featurize the dataset.\n",
            "Current status: DatasetCrossValidationSplit. Generating individually featurized CV splits.\n",
            "Current status: ModelSelection. Beginning model selection.\n",
            "\n",
            "****************************************************************************************************\n",
            "DATA GUARDRAILS: \n",
            "\n",
            "TYPE:         Class balancing detection\n",
            "STATUS:       PASSED\n",
            "DESCRIPTION:  Your inputs were analyzed, and all classes are balanced in your training data.\n",
            "              Learn more about imbalanced data: https://aka.ms/AutomatedMLImbalancedData\n",
            "\n",
            "****************************************************************************************************\n",
            "\n",
            "TYPE:         Missing feature values imputation\n",
            "STATUS:       PASSED\n",
            "DESCRIPTION:  No feature missing values were detected in the training data.\n",
            "              Learn more about missing value imputation: https://aka.ms/AutomatedMLFeaturization\n",
            "\n",
            "****************************************************************************************************\n",
            "\n",
            "TYPE:         High cardinality feature detection\n",
            "STATUS:       PASSED\n",
            "DESCRIPTION:  Your inputs were analyzed, and no high cardinality features were detected.\n",
            "              Learn more about high cardinality feature handling: https://aka.ms/AutomatedMLFeaturization\n",
            "\n",
            "****************************************************************************************************\n",
            "\n",
            "****************************************************************************************************\n",
            "ITERATION: The iteration being evaluated.\n",
            "PIPELINE: A summary description of the pipeline being evaluated.\n",
            "DURATION: Time taken for the current iteration.\n",
            "METRIC: The result of computing score on the fitted pipeline.\n",
            "BEST: The best observed score thus far.\n",
            "****************************************************************************************************\n",
            "\n",
            " ITERATION   PIPELINE                                       DURATION      METRIC      BEST\n",
            "         1   MaxAbsScaler XGBoostClassifier                 0:00:45       0.9603    0.9603\n",
            "         2   MaxAbsScaler RandomForest                      0:00:44       0.7725    0.9603\n",
            "         0   MaxAbsScaler LightGBM                          0:00:43       0.9843    0.9843\n",
            "         3   MaxAbsScaler RandomForest                      0:00:53       0.7307    0.9843\n",
            "         7   SparseNormalizer XGBoostClassifier             0:00:41       0.9864    0.9864\n",
            "         4   MaxAbsScaler RandomForest                      0:01:59       0.8685    0.9864\n",
            "         8   MaxAbsScaler LogisticRegression                0:00:39       0.9802    0.9864\n",
            "         6   TruncatedSVDWrapper XGBoostClassifier          0:03:00       0.9520    0.9864\n",
            "         9   MaxAbsScaler LogisticRegression                0:00:44       0.9833    0.9864\n",
            "        10   StandardScalerWrapper XGBoostClassifier        0:00:42       0.9218    0.9864\n",
            "         5   MaxAbsScaler RandomForest                      0:03:08       0.6932    0.9864\n",
            "        11   StandardScalerWrapper RandomForest             0:00:45       0.7850    0.9864\n",
            "        12   SparseNormalizer XGBoostClassifier             0:00:53       0.6973    0.9864\n",
            "        13   SparseNormalizer XGBoostClassifier             0:00:58       0.9916    0.9916\n",
            "        14   MaxAbsScaler ExtremeRandomTrees                0:00:45       0.7934    0.9916\n",
            "        15   MaxAbsScaler LightGBM                          0:00:54       0.7506    0.9916\n",
            "        16   StandardScalerWrapper LightGBM                 0:00:43       0.9812    0.9916\n",
            "        17   SparseNormalizer XGBoostClassifier             0:00:45       0.9770    0.9916\n",
            "        18   SparseNormalizer XGBoostClassifier             0:00:43       0.9833    0.9916\n",
            "        19   SparseNormalizer XGBoostClassifier             0:00:47       0.9906    0.9916\n",
            "        20   SparseNormalizer LightGBM                      0:00:41       0.9468    0.9916\n",
            "        21   SparseNormalizer LightGBM                      0:00:45       0.8362    0.9916\n",
            "        22   MaxAbsScaler LightGBM                          0:00:45       0.8049    0.9916\n",
            "        23   MaxAbsScaler ExtremeRandomTrees                0:00:46       0.6994    0.9916\n",
            "        24   MaxAbsScaler RandomForest                      0:00:47       0.7235    0.9916\n",
            "        25   StandardScalerWrapper XGBoostClassifier        0:00:41       0.6535    0.9916\n",
            "        26   StandardScalerWrapper XGBoostClassifier        0:00:49       0.9875    0.9916\n",
            "        27   SparseNormalizer XGBoostClassifier             0:00:47       0.9906    0.9916\n",
            "        28   SparseNormalizer XGBoostClassifier             0:00:47       0.9875    0.9916\n",
            "        29   SparseNormalizer XGBoostClassifier             0:00:43       0.7537    0.9916\n",
            "        30   StandardScalerWrapper XGBoostClassifier        0:00:43       0.9541    0.9916\n",
            "        31   StandardScalerWrapper XGBoostClassifier        0:00:43       0.9875    0.9916\n",
            "        32   StandardScalerWrapper XGBoostClassifier        0:00:43       0.9009    0.9916\n",
            "        33   MaxAbsScaler ExtremeRandomTrees                0:00:44       0.7245    0.9916\n",
            "        34   MaxAbsScaler LogisticRegression                0:00:41       0.9687    0.9916\n",
            "        35                                                  0:00:08          nan    0.9916\n",
            "        37    StackEnsemble                                 0:00:55       0.9896    0.9916\n",
            "        36    VotingEnsemble                                0:01:16       0.9916    0.9916\n"
          ]
        }
      ],
      "execution_count": 8,
      "metadata": {
        "gather": {
          "logged": 1617616656884
        },
        "jupyter": {
          "outputs_hidden": false,
          "source_hidden": false
        },
        "nteract": {
          "transient": {
            "deleting": false
          }
        }
      }
    },
    {
      "cell_type": "markdown",
      "source": [
        "## Run Details\n",
        "\n",
        "OPTIONAL: Write about the different models trained and their performance. Why do you think some models did better than others?\n",
        "\n",
        "TODO: In the cell below, use the `RunDetails` widget to show the different experiments."
      ],
      "metadata": {}
    },
    {
      "cell_type": "code",
      "source": [
        "from azureml.widgets import RunDetails\r\n",
        "RunDetails(remote_run).show()"
      ],
      "outputs": [
        {
          "output_type": "display_data",
          "data": {
            "text/plain": "_AutoMLWidget(widget_settings={'childWidgetDisplay': 'popup', 'send_telemetry': False, 'log_level': 'INFO', 's…",
            "application/vnd.jupyter.widget-view+json": {
              "version_major": 2,
              "version_minor": 0,
              "model_id": "ef827eb9cd7d48a897a5b97b6589189f"
            }
          },
          "metadata": {}
        },
        {
          "output_type": "display_data",
          "data": {
            "application/aml.mini.widget.v1": "{\"status\": \"Completed\", \"workbench_run_details_uri\": \"https://ml.azure.com/experiments/CapstoneProjectAutoML/runs/AutoML_217f0f70-4fe9-4b0e-8f7b-5282de6d783a?wsid=/subscriptions/48a74bb7-9950-4cc1-9caa-5d50f995cc55/resourcegroups/aml-quickstarts-141995/workspaces/quick-starts-ws-141995\", \"run_id\": \"AutoML_217f0f70-4fe9-4b0e-8f7b-5282de6d783a\", \"run_properties\": {\"run_id\": \"AutoML_217f0f70-4fe9-4b0e-8f7b-5282de6d783a\", \"created_utc\": \"2021-04-05T09:29:33.644958Z\", \"properties\": {\"num_iterations\": \"1000\", \"training_type\": \"TrainFull\", \"acquisition_function\": \"EI\", \"primary_metric\": \"accuracy\", \"train_split\": \"0\", \"acquisition_parameter\": \"0\", \"num_cross_validation\": \"4\", \"target\": \"compute-cluster\", \"AMLSettingsJsonString\": \"{\\\"path\\\":null,\\\"name\\\":\\\"CapstoneProjectAutoML\\\",\\\"subscription_id\\\":\\\"48a74bb7-9950-4cc1-9caa-5d50f995cc55\\\",\\\"resource_group\\\":\\\"aml-quickstarts-141995\\\",\\\"workspace_name\\\":\\\"quick-starts-ws-141995\\\",\\\"region\\\":\\\"southcentralus\\\",\\\"compute_target\\\":\\\"compute-cluster\\\",\\\"spark_service\\\":null,\\\"azure_service\\\":\\\"remote\\\",\\\"many_models\\\":false,\\\"pipeline_fetch_max_batch_size\\\":1,\\\"enable_batch_run\\\":false,\\\"iterations\\\":1000,\\\"primary_metric\\\":\\\"accuracy\\\",\\\"task_type\\\":\\\"classification\\\",\\\"data_script\\\":null,\\\"validation_size\\\":0.0,\\\"n_cross_validations\\\":4,\\\"y_min\\\":null,\\\"y_max\\\":null,\\\"num_classes\\\":null,\\\"featurization\\\":\\\"auto\\\",\\\"_ignore_package_version_incompatibilities\\\":false,\\\"is_timeseries\\\":false,\\\"max_cores_per_iteration\\\":1,\\\"max_concurrent_iterations\\\":4,\\\"iteration_timeout_minutes\\\":null,\\\"mem_in_mb\\\":null,\\\"enforce_time_on_windows\\\":false,\\\"experiment_timeout_minutes\\\":30,\\\"experiment_exit_score\\\":null,\\\"whitelist_models\\\":null,\\\"blacklist_algos\\\":[\\\"TensorFlowLinearClassifier\\\",\\\"TensorFlowDNN\\\"],\\\"supported_models\\\":[\\\"TensorFlowLinearClassifier\\\",\\\"SVM\\\",\\\"XGBoostClassifier\\\",\\\"LightGBM\\\",\\\"TensorFlowDNN\\\",\\\"RandomForest\\\",\\\"SGD\\\",\\\"LogisticRegression\\\",\\\"LinearSVM\\\",\\\"MultinomialNaiveBayes\\\",\\\"BernoulliNaiveBayes\\\",\\\"DecisionTree\\\",\\\"AveragedPerceptronClassifier\\\",\\\"KNN\\\",\\\"GradientBoosting\\\",\\\"ExtremeRandomTrees\\\"],\\\"private_models\\\":[],\\\"auto_blacklist\\\":true,\\\"blacklist_samples_reached\\\":false,\\\"exclude_nan_labels\\\":true,\\\"verbosity\\\":20,\\\"_debug_log\\\":\\\"azureml_automl.log\\\",\\\"show_warnings\\\":false,\\\"model_explainability\\\":true,\\\"service_url\\\":null,\\\"sdk_url\\\":null,\\\"sdk_packages\\\":null,\\\"enable_onnx_compatible_models\\\":false,\\\"enable_split_onnx_featurizer_estimator_models\\\":false,\\\"vm_type\\\":\\\"STANDARD_D2_V2\\\",\\\"telemetry_verbosity\\\":20,\\\"send_telemetry\\\":true,\\\"enable_dnn\\\":false,\\\"scenario\\\":\\\"SDK-1.13.0\\\",\\\"environment_label\\\":null,\\\"save_mlflow\\\":false,\\\"force_text_dnn\\\":false,\\\"enable_feature_sweeping\\\":true,\\\"enable_early_stopping\\\":true,\\\"early_stopping_n_iters\\\":10,\\\"metrics\\\":null,\\\"enable_metric_confidence\\\":false,\\\"enable_ensembling\\\":true,\\\"enable_stack_ensembling\\\":true,\\\"ensemble_iterations\\\":15,\\\"enable_tf\\\":false,\\\"enable_subsampling\\\":null,\\\"subsample_seed\\\":null,\\\"enable_nimbusml\\\":false,\\\"enable_streaming\\\":false,\\\"force_streaming\\\":false,\\\"track_child_runs\\\":true,\\\"allowed_private_models\\\":[],\\\"label_column_name\\\":\\\"y\\\",\\\"weight_column_name\\\":null,\\\"cv_split_column_names\\\":null,\\\"enable_local_managed\\\":false,\\\"_local_managed_run_id\\\":null,\\\"cost_mode\\\":1,\\\"lag_length\\\":0,\\\"metric_operation\\\":\\\"maximize\\\",\\\"preprocess\\\":true}\", \"DataPrepJsonString\": \"{\\\\\\\"training_data\\\\\\\": \\\\\\\"{\\\\\\\\\\\\\\\"blocks\\\\\\\\\\\\\\\": [{\\\\\\\\\\\\\\\"id\\\\\\\\\\\\\\\": \\\\\\\\\\\\\\\"27c27967-a4d8-4133-8693-a5ca3a85fad8\\\\\\\\\\\\\\\", \\\\\\\\\\\\\\\"type\\\\\\\\\\\\\\\": \\\\\\\\\\\\\\\"Microsoft.DPrep.GetDatastoreFilesBlock\\\\\\\\\\\\\\\", \\\\\\\\\\\\\\\"arguments\\\\\\\\\\\\\\\": {\\\\\\\\\\\\\\\"datastores\\\\\\\\\\\\\\\": [{\\\\\\\\\\\\\\\"datastoreName\\\\\\\\\\\\\\\": \\\\\\\\\\\\\\\"workspaceblobstore\\\\\\\\\\\\\\\", \\\\\\\\\\\\\\\"path\\\\\\\\\\\\\\\": \\\\\\\\\\\\\\\"trn.csv\\\\\\\\\\\\\\\", \\\\\\\\\\\\\\\"resourceGroup\\\\\\\\\\\\\\\": \\\\\\\\\\\\\\\"aml-quickstarts-141995\\\\\\\\\\\\\\\", \\\\\\\\\\\\\\\"subscription\\\\\\\\\\\\\\\": \\\\\\\\\\\\\\\"48a74bb7-9950-4cc1-9caa-5d50f995cc55\\\\\\\\\\\\\\\", \\\\\\\\\\\\\\\"workspaceName\\\\\\\\\\\\\\\": \\\\\\\\\\\\\\\"quick-starts-ws-141995\\\\\\\\\\\\\\\"}]}, \\\\\\\\\\\\\\\"localData\\\\\\\\\\\\\\\": {}, \\\\\\\\\\\\\\\"isEnabled\\\\\\\\\\\\\\\": true, \\\\\\\\\\\\\\\"name\\\\\\\\\\\\\\\": null, \\\\\\\\\\\\\\\"annotation\\\\\\\\\\\\\\\": null}, {\\\\\\\\\\\\\\\"id\\\\\\\\\\\\\\\": \\\\\\\\\\\\\\\"3797a42e-3d8e-46bf-94a3-4c128518c17c\\\\\\\\\\\\\\\", \\\\\\\\\\\\\\\"type\\\\\\\\\\\\\\\": \\\\\\\\\\\\\\\"Microsoft.DPrep.ParseDelimitedBlock\\\\\\\\\\\\\\\", \\\\\\\\\\\\\\\"arguments\\\\\\\\\\\\\\\": {\\\\\\\\\\\\\\\"columnHeadersMode\\\\\\\\\\\\\\\": 3, \\\\\\\\\\\\\\\"fileEncoding\\\\\\\\\\\\\\\": 0, \\\\\\\\\\\\\\\"handleQuotedLineBreaks\\\\\\\\\\\\\\\": false, \\\\\\\\\\\\\\\"preview\\\\\\\\\\\\\\\": false, \\\\\\\\\\\\\\\"separator\\\\\\\\\\\\\\\": \\\\\\\\\\\\\\\",\\\\\\\\\\\\\\\", \\\\\\\\\\\\\\\"skipRows\\\\\\\\\\\\\\\": 0, \\\\\\\\\\\\\\\"skipRowsMode\\\\\\\\\\\\\\\": 0}, \\\\\\\\\\\\\\\"localData\\\\\\\\\\\\\\\": {}, \\\\\\\\\\\\\\\"isEnabled\\\\\\\\\\\\\\\": true, \\\\\\\\\\\\\\\"name\\\\\\\\\\\\\\\": null, \\\\\\\\\\\\\\\"annotation\\\\\\\\\\\\\\\": null}, {\\\\\\\\\\\\\\\"id\\\\\\\\\\\\\\\": \\\\\\\\\\\\\\\"303667b0-e658-455b-aa5b-db7f29918e65\\\\\\\\\\\\\\\", \\\\\\\\\\\\\\\"type\\\\\\\\\\\\\\\": \\\\\\\\\\\\\\\"Microsoft.DPrep.DropColumnsBlock\\\\\\\\\\\\\\\", \\\\\\\\\\\\\\\"arguments\\\\\\\\\\\\\\\": {\\\\\\\\\\\\\\\"columns\\\\\\\\\\\\\\\": {\\\\\\\\\\\\\\\"type\\\\\\\\\\\\\\\": 0, \\\\\\\\\\\\\\\"details\\\\\\\\\\\\\\\": {\\\\\\\\\\\\\\\"selectedColumns\\\\\\\\\\\\\\\": [\\\\\\\\\\\\\\\"Path\\\\\\\\\\\\\\\"]}}}, \\\\\\\\\\\\\\\"localData\\\\\\\\\\\\\\\": {}, \\\\\\\\\\\\\\\"isEnabled\\\\\\\\\\\\\\\": true, \\\\\\\\\\\\\\\"name\\\\\\\\\\\\\\\": null, \\\\\\\\\\\\\\\"annotation\\\\\\\\\\\\\\\": null}, {\\\\\\\\\\\\\\\"id\\\\\\\\\\\\\\\": \\\\\\\\\\\\\\\"793b5198-3f5a-4a79-bd13-b60b791707e3\\\\\\\\\\\\\\\", \\\\\\\\\\\\\\\"type\\\\\\\\\\\\\\\": \\\\\\\\\\\\\\\"Microsoft.DPrep.SetColumnTypesBlock\\\\\\\\\\\\\\\", \\\\\\\\\\\\\\\"arguments\\\\\\\\\\\\\\\": {\\\\\\\\\\\\\\\"columnConversion\\\\\\\\\\\\\\\": [{\\\\\\\\\\\\\\\"column\\\\\\\\\\\\\\\": {\\\\\\\\\\\\\\\"type\\\\\\\\\\\\\\\": 2, \\\\\\\\\\\\\\\"details\\\\\\\\\\\\\\\": {\\\\\\\\\\\\\\\"selectedColumn\\\\\\\\\\\\\\\": \\\\\\\\\\\\\\\"1\\\\\\\\\\\\\\\"}}, \\\\\\\\\\\\\\\"typeProperty\\\\\\\\\\\\\\\": 0}, {\\\\\\\\\\\\\\\"column\\\\\\\\\\\\\\\": {\\\\\\\\\\\\\\\"type\\\\\\\\\\\\\\\": 2, \\\\\\\\\\\\\\\"details\\\\\\\\\\\\\\\": {\\\\\\\\\\\\\\\"selectedColumn\\\\\\\\\\\\\\\": \\\\\\\\\\\\\\\"2\\\\\\\\\\\\\\\"}}, \\\\\\\\\\\\\\\"typeProperty\\\\\\\\\\\\\\\": 0}, {\\\\\\\\\\\\\\\"column\\\\\\\\\\\\\\\": {\\\\\\\\\\\\\\\"type\\\\\\\\\\\\\\\": 2, \\\\\\\\\\\\\\\"details\\\\\\\\\\\\\\\": {\\\\\\\\\\\\\\\"selectedColumn\\\\\\\\\\\\\\\": \\\\\\\\\\\\\\\"3\\\\\\\\\\\\\\\"}}, \\\\\\\\\\\\\\\"typeProperty\\\\\\\\\\\\\\\": 0}, {\\\\\\\\\\\\\\\"column\\\\\\\\\\\\\\\": {\\\\\\\\\\\\\\\"type\\\\\\\\\\\\\\\": 2, \\\\\\\\\\\\\\\"details\\\\\\\\\\\\\\\": {\\\\\\\\\\\\\\\"selectedColumn\\\\\\\\\\\\\\\": \\\\\\\\\\\\\\\"4\\\\\\\\\\\\\\\"}}, \\\\\\\\\\\\\\\"typeProperty\\\\\\\\\\\\\\\": 0}, {\\\\\\\\\\\\\\\"column\\\\\\\\\\\\\\\": {\\\\\\\\\\\\\\\"type\\\\\\\\\\\\\\\": 2, \\\\\\\\\\\\\\\"details\\\\\\\\\\\\\\\": {\\\\\\\\\\\\\\\"selectedColumn\\\\\\\\\\\\\\\": \\\\\\\\\\\\\\\"5\\\\\\\\\\\\\\\"}}, \\\\\\\\\\\\\\\"typeProperty\\\\\\\\\\\\\\\": 0}, {\\\\\\\\\\\\\\\"column\\\\\\\\\\\\\\\": {\\\\\\\\\\\\\\\"type\\\\\\\\\\\\\\\": 2, \\\\\\\\\\\\\\\"details\\\\\\\\\\\\\\\": {\\\\\\\\\\\\\\\"selectedColumn\\\\\\\\\\\\\\\": \\\\\\\\\\\\\\\"6\\\\\\\\\\\\\\\"}}, \\\\\\\\\\\\\\\"typeProperty\\\\\\\\\\\\\\\": 0}, {\\\\\\\\\\\\\\\"column\\\\\\\\\\\\\\\": {\\\\\\\\\\\\\\\"type\\\\\\\\\\\\\\\": 2, \\\\\\\\\\\\\\\"details\\\\\\\\\\\\\\\": {\\\\\\\\\\\\\\\"selectedColumn\\\\\\\\\\\\\\\": \\\\\\\\\\\\\\\"7\\\\\\\\\\\\\\\"}}, \\\\\\\\\\\\\\\"typeProperty\\\\\\\\\\\\\\\": 0}, {\\\\\\\\\\\\\\\"column\\\\\\\\\\\\\\\": {\\\\\\\\\\\\\\\"type\\\\\\\\\\\\\\\": 2, \\\\\\\\\\\\\\\"details\\\\\\\\\\\\\\\": {\\\\\\\\\\\\\\\"selectedColumn\\\\\\\\\\\\\\\": \\\\\\\\\\\\\\\"8\\\\\\\\\\\\\\\"}}, \\\\\\\\\\\\\\\"typeProperty\\\\\\\\\\\\\\\": 0}, {\\\\\\\\\\\\\\\"column\\\\\\\\\\\\\\\": {\\\\\\\\\\\\\\\"type\\\\\\\\\\\\\\\": 2, \\\\\\\\\\\\\\\"details\\\\\\\\\\\\\\\": {\\\\\\\\\\\\\\\"selectedColumn\\\\\\\\\\\\\\\": \\\\\\\\\\\\\\\"9\\\\\\\\\\\\\\\"}}, \\\\\\\\\\\\\\\"typeProperty\\\\\\\\\\\\\\\": 0}, {\\\\\\\\\\\\\\\"column\\\\\\\\\\\\\\\": {\\\\\\\\\\\\\\\"type\\\\\\\\\\\\\\\": 2, \\\\\\\\\\\\\\\"details\\\\\\\\\\\\\\\": {\\\\\\\\\\\\\\\"selectedColumn\\\\\\\\\\\\\\\": \\\\\\\\\\\\\\\"y\\\\\\\\\\\\\\\"}}, \\\\\\\\\\\\\\\"typeProperty\\\\\\\\\\\\\\\": 0}]}, \\\\\\\\\\\\\\\"localData\\\\\\\\\\\\\\\": {}, \\\\\\\\\\\\\\\"isEnabled\\\\\\\\\\\\\\\": true, \\\\\\\\\\\\\\\"name\\\\\\\\\\\\\\\": null, \\\\\\\\\\\\\\\"annotation\\\\\\\\\\\\\\\": null}], \\\\\\\\\\\\\\\"inspectors\\\\\\\\\\\\\\\": [], \\\\\\\\\\\\\\\"meta\\\\\\\\\\\\\\\": {\\\\\\\\\\\\\\\"savedDatasetId\\\\\\\\\\\\\\\": \\\\\\\\\\\\\\\"43c31f81-cf09-4233-bdee-ae44c62fecaa\\\\\\\\\\\\\\\", \\\\\\\\\\\\\\\"datasetType\\\\\\\\\\\\\\\": \\\\\\\\\\\\\\\"tabular\\\\\\\\\\\\\\\", \\\\\\\\\\\\\\\"subscriptionId\\\\\\\\\\\\\\\": \\\\\\\\\\\\\\\"48a74bb7-9950-4cc1-9caa-5d50f995cc55\\\\\\\\\\\\\\\", \\\\\\\\\\\\\\\"workspaceId\\\\\\\\\\\\\\\": \\\\\\\\\\\\\\\"c7e422af-8f7c-462b-9897-ec4e8e5515a9\\\\\\\\\\\\\\\", \\\\\\\\\\\\\\\"workspaceLocation\\\\\\\\\\\\\\\": \\\\\\\\\\\\\\\"southcentralus\\\\\\\\\\\\\\\", \\\\\\\\\\\\\\\"partition_keys\\\\\\\\\\\\\\\": \\\\\\\\\\\\\\\"true\\\\\\\\\\\\\\\"}}\\\\\\\", \\\\\\\"activities\\\\\\\": 0}\", \"EnableSubsampling\": null, \"runTemplate\": \"AutoML\", \"azureml.runsource\": \"automl\", \"display_task_type\": \"classification\", \"dependencies_versions\": \"{\\\"azureml-widgets\\\": \\\"1.24.0\\\", \\\"azureml-train\\\": \\\"1.24.0\\\", \\\"azureml-train-restclients-hyperdrive\\\": \\\"1.24.0\\\", \\\"azureml-train-core\\\": \\\"1.24.0\\\", \\\"azureml-train-automl\\\": \\\"1.24.0\\\", \\\"azureml-train-automl-runtime\\\": \\\"1.24.0\\\", \\\"azureml-train-automl-client\\\": \\\"1.24.0\\\", \\\"azureml-tensorboard\\\": \\\"1.24.0\\\", \\\"azureml-telemetry\\\": \\\"1.24.0\\\", \\\"azureml-sdk\\\": \\\"1.24.0\\\", \\\"azureml-samples\\\": \\\"0+unknown\\\", \\\"azureml-pipeline\\\": \\\"1.24.0\\\", \\\"azureml-pipeline-steps\\\": \\\"1.24.0\\\", \\\"azureml-pipeline-core\\\": \\\"1.24.0\\\", \\\"azureml-opendatasets\\\": \\\"1.24.0\\\", \\\"azureml-model-management-sdk\\\": \\\"1.0.1b6.post1\\\", \\\"azureml-mlflow\\\": \\\"1.24.0\\\", \\\"azureml-interpret\\\": \\\"1.24.0\\\", \\\"azureml-explain-model\\\": \\\"1.24.0\\\", \\\"azureml-defaults\\\": \\\"1.24.0\\\", \\\"azureml-dataset-runtime\\\": \\\"1.24.0\\\", \\\"azureml-dataprep\\\": \\\"2.11.1\\\", \\\"azureml-dataprep-rslex\\\": \\\"1.9.0\\\", \\\"azureml-dataprep-native\\\": \\\"30.0.0\\\", \\\"azureml-datadrift\\\": \\\"1.24.0\\\", \\\"azureml-core\\\": \\\"1.24.0\\\", \\\"azureml-contrib-services\\\": \\\"1.24.0\\\", \\\"azureml-contrib-server\\\": \\\"1.24.0\\\", \\\"azureml-contrib-reinforcementlearning\\\": \\\"1.24.0\\\", \\\"azureml-contrib-pipeline-steps\\\": \\\"1.24.0\\\", \\\"azureml-contrib-notebook\\\": \\\"1.24.0\\\", \\\"azureml-contrib-gbdt\\\": \\\"1.24.0\\\", \\\"azureml-contrib-fairness\\\": \\\"1.24.0\\\", \\\"azureml-contrib-dataset\\\": \\\"1.24.0\\\", \\\"azureml-cli-common\\\": \\\"1.24.0\\\", \\\"azureml-automl-runtime\\\": \\\"1.24.0\\\", \\\"azureml-automl-dnn-nlp\\\": \\\"1.24.0\\\", \\\"azureml-automl-core\\\": \\\"1.24.0\\\", \\\"azureml-accel-models\\\": \\\"1.24.0\\\"}\", \"_aml_system_scenario_identification\": \"Remote.Parent\", \"ClientType\": \"SDK\", \"environment_cpu_name\": \"AzureML-AutoML\", \"environment_cpu_label\": \"prod\", \"environment_gpu_name\": \"AzureML-AutoML-GPU\", \"environment_gpu_label\": \"prod\", \"root_attribution\": \"automl\", \"attribution\": \"AutoML\", \"Orchestrator\": \"AutoML\", \"CancelUri\": \"https://southcentralus.experiments.azureml.net/jasmine/v1.0/subscriptions/48a74bb7-9950-4cc1-9caa-5d50f995cc55/resourceGroups/aml-quickstarts-141995/providers/Microsoft.MachineLearningServices/workspaces/quick-starts-ws-141995/experimentids/55e1c2c6-f6f2-4547-af2c-4e4c06d2d4b2/cancel/AutoML_217f0f70-4fe9-4b0e-8f7b-5282de6d783a\", \"ClientSdkVersion\": \"1.24.0\", \"snapshotId\": \"00000000-0000-0000-0000-000000000000\", \"SetupRunId\": \"AutoML_217f0f70-4fe9-4b0e-8f7b-5282de6d783a_setup\", \"SetupRunContainerId\": \"dcid.AutoML_217f0f70-4fe9-4b0e-8f7b-5282de6d783a_setup\", \"FeaturizationRunJsonPath\": \"featurizer_container.json\", \"FeaturizationRunId\": \"AutoML_217f0f70-4fe9-4b0e-8f7b-5282de6d783a_featurize\", \"ProblemInfoJsonString\": \"{\\\"dataset_num_categorical\\\": 0, \\\"is_sparse\\\": true, \\\"subsampling\\\": false, \\\"dataset_classes\\\": 2, \\\"dataset_features\\\": 27, \\\"dataset_samples\\\": 958, \\\"single_frequency_class_detected\\\": false}\", \"ModelExplainRunId\": \"AutoML_217f0f70-4fe9-4b0e-8f7b-5282de6d783a_ModelExplain\"}, \"tags\": {\"model_explain_run\": \"best_run\", \"_aml_system_azureml.automlComponent\": \"AutoML\", \"pipeline_id\": \"\", \"score\": \"\", \"predicted_cost\": \"\", \"fit_time\": \"\", \"training_percent\": \"\", \"iteration\": \"\", \"run_preprocessor\": \"\", \"run_algorithm\": \"\", \"dynamic_whitelisting_iterations\": \"<25>;<30>;<35>;\", \"automl_best_child_run_id\": \"AutoML_217f0f70-4fe9-4b0e-8f7b-5282de6d783a_13\", \"model_explain_best_run_child_id\": \"AutoML_217f0f70-4fe9-4b0e-8f7b-5282de6d783a_13\"}, \"end_time_utc\": \"2021-04-05T09:51:39.766085Z\", \"status\": \"Completed\", \"log_files\": {}, \"log_groups\": [], \"run_duration\": \"0:22:06\", \"run_number\": \"1\", \"run_queued_details\": {\"status\": \"Completed\", \"details\": null}}, \"child_runs\": [{\"run_id\": \"AutoML_217f0f70-4fe9-4b0e-8f7b-5282de6d783a_0\", \"run_number\": 5, \"metric\": null, \"status\": \"Completed\", \"run_type\": \"azureml.scriptrun\", \"training_percent\": \"100\", \"start_time\": \"2021-04-05T09:39:23.808101Z\", \"end_time\": \"2021-04-05T09:40:07.03644Z\", \"created_time\": \"2021-04-05T09:37:15.926283Z\", \"created_time_dt\": \"2021-04-05T09:37:15.926283Z\", \"duration\": \"0:02:51\", \"iteration\": \"0\", \"goal\": \"accuracy_max\", \"run_name\": \"MaxAbsScaler, LightGBM\", \"run_properties\": \"copy=True\", \"primary_metric\": 0.9843227, \"best_metric\": 0.9843227}, {\"run_id\": \"AutoML_217f0f70-4fe9-4b0e-8f7b-5282de6d783a_1\", \"run_number\": 6, \"metric\": null, \"status\": \"Completed\", \"run_type\": \"azureml.scriptrun\", \"training_percent\": \"100\", \"start_time\": \"2021-04-05T09:37:26.622888Z\", \"end_time\": \"2021-04-05T09:38:11.890806Z\", \"created_time\": \"2021-04-05T09:37:15.954275Z\", \"created_time_dt\": \"2021-04-05T09:37:15.954275Z\", \"duration\": \"0:00:55\", \"iteration\": \"1\", \"goal\": \"accuracy_max\", \"run_name\": \"MaxAbsScaler, XGBoostClassifier\", \"run_properties\": \"copy=True\", \"primary_metric\": 0.96034257, \"best_metric\": 0.9843227}, {\"run_id\": \"AutoML_217f0f70-4fe9-4b0e-8f7b-5282de6d783a_2\", \"run_number\": 7, \"metric\": null, \"status\": \"Completed\", \"run_type\": \"azureml.scriptrun\", \"training_percent\": \"100\", \"start_time\": \"2021-04-05T09:38:25.851655Z\", \"end_time\": \"2021-04-05T09:39:10.021832Z\", \"created_time\": \"2021-04-05T09:37:16.100497Z\", \"created_time_dt\": \"2021-04-05T09:37:16.100497Z\", \"duration\": \"0:01:53\", \"iteration\": \"2\", \"goal\": \"accuracy_max\", \"run_name\": \"MaxAbsScaler, RandomForest\", \"run_properties\": \"copy=True\", \"primary_metric\": 0.77248954, \"best_metric\": 0.9843227}, {\"run_id\": \"AutoML_217f0f70-4fe9-4b0e-8f7b-5282de6d783a_3\", \"run_number\": 8, \"metric\": null, \"status\": \"Completed\", \"run_type\": \"azureml.scriptrun\", \"training_percent\": \"100\", \"start_time\": \"2021-04-05T09:40:22.176431Z\", \"end_time\": \"2021-04-05T09:41:14.981023Z\", \"created_time\": \"2021-04-05T09:37:16.141114Z\", \"created_time_dt\": \"2021-04-05T09:37:16.141114Z\", \"duration\": \"0:03:58\", \"iteration\": \"3\", \"goal\": \"accuracy_max\", \"run_name\": \"MaxAbsScaler, RandomForest\", \"run_properties\": \"copy=True\", \"primary_metric\": 0.73074878, \"best_metric\": 0.9843227}, {\"run_id\": \"AutoML_217f0f70-4fe9-4b0e-8f7b-5282de6d783a_4\", \"run_number\": 9, \"metric\": null, \"status\": \"Completed\", \"run_type\": \"azureml.scriptrun\", \"training_percent\": \"100\", \"start_time\": \"2021-04-05T09:40:44.840361Z\", \"end_time\": \"2021-04-05T09:42:43.968374Z\", \"created_time\": \"2021-04-05T09:38:13.463982Z\", \"created_time_dt\": \"2021-04-05T09:38:13.463982Z\", \"duration\": \"0:04:30\", \"iteration\": \"4\", \"goal\": \"accuracy_max\", \"run_name\": \"MaxAbsScaler, RandomForest\", \"run_properties\": \"copy=True\", \"primary_metric\": 0.86854515, \"best_metric\": 0.9843227}, {\"run_id\": \"AutoML_217f0f70-4fe9-4b0e-8f7b-5282de6d783a_5\", \"run_number\": 10, \"metric\": null, \"status\": \"Completed\", \"run_type\": \"azureml.scriptrun\", \"training_percent\": \"100\", \"start_time\": \"2021-04-05T09:40:42.494324Z\", \"end_time\": \"2021-04-05T09:43:50.945428Z\", \"created_time\": \"2021-04-05T09:39:13.518507Z\", \"created_time_dt\": \"2021-04-05T09:39:13.518507Z\", \"duration\": \"0:04:37\", \"iteration\": \"5\", \"goal\": \"accuracy_max\", \"run_name\": \"MaxAbsScaler, RandomForest\", \"run_properties\": \"copy=True\", \"primary_metric\": 0.69315289, \"best_metric\": 0.9843227}, {\"run_id\": \"AutoML_217f0f70-4fe9-4b0e-8f7b-5282de6d783a_6\", \"run_number\": 11, \"metric\": null, \"status\": \"Completed\", \"run_type\": \"azureml.scriptrun\", \"training_percent\": \"100\", \"start_time\": \"2021-04-05T09:40:42.876795Z\", \"end_time\": \"2021-04-05T09:43:42.77354Z\", \"created_time\": \"2021-04-05T09:40:13.105669Z\", \"created_time_dt\": \"2021-04-05T09:40:13.105669Z\", \"duration\": \"0:03:29\", \"iteration\": \"6\", \"goal\": \"accuracy_max\", \"run_name\": \"TruncatedSVDWrapper, XGBoostClassifier\", \"run_properties\": \"n_components=0.7026315789473684, random_state=None\", \"primary_metric\": 0.95199181, \"best_metric\": 0.9843227}, {\"run_id\": \"AutoML_217f0f70-4fe9-4b0e-8f7b-5282de6d783a_7\", \"run_number\": 12, \"metric\": null, \"status\": \"Completed\", \"run_type\": \"azureml.scriptrun\", \"training_percent\": \"100\", \"start_time\": \"2021-04-05T09:41:29.65533Z\", \"end_time\": \"2021-04-05T09:42:11.075045Z\", \"created_time\": \"2021-04-05T09:41:18.52593Z\", \"created_time_dt\": \"2021-04-05T09:41:18.52593Z\", \"duration\": \"0:00:52\", \"iteration\": \"7\", \"goal\": \"accuracy_max\", \"run_name\": \"SparseNormalizer, XGBoostClassifier\", \"run_properties\": \"<azureml.automl.runtime.shared.model_wrappers.SparseNormalizer object at 0x7f9cb1190a20\", \"primary_metric\": 0.98643654, \"best_metric\": 0.98643654}, {\"run_id\": \"AutoML_217f0f70-4fe9-4b0e-8f7b-5282de6d783a_8\", \"run_number\": 13, \"metric\": null, \"status\": \"Completed\", \"run_type\": \"azureml.scriptrun\", \"training_percent\": \"100\", \"start_time\": \"2021-04-05T09:42:26.932424Z\", \"end_time\": \"2021-04-05T09:43:06.310555Z\", \"created_time\": \"2021-04-05T09:42:15.562085Z\", \"created_time_dt\": \"2021-04-05T09:42:15.562085Z\", \"duration\": \"0:00:50\", \"iteration\": \"8\", \"goal\": \"accuracy_max\", \"run_name\": \"MaxAbsScaler, LogisticRegression\", \"run_properties\": \"copy=True\", \"primary_metric\": 0.98016911, \"best_metric\": 0.98643654}, {\"run_id\": \"AutoML_217f0f70-4fe9-4b0e-8f7b-5282de6d783a_9\", \"run_number\": 14, \"metric\": null, \"status\": \"Completed\", \"run_type\": \"azureml.scriptrun\", \"training_percent\": \"100\", \"start_time\": \"2021-04-05T09:42:55.514211Z\", \"end_time\": \"2021-04-05T09:43:39.728273Z\", \"created_time\": \"2021-04-05T09:42:46.32622Z\", \"created_time_dt\": \"2021-04-05T09:42:46.32622Z\", \"duration\": \"0:00:53\", \"iteration\": \"9\", \"goal\": \"accuracy_max\", \"run_name\": \"MaxAbsScaler, LogisticRegression\", \"run_properties\": \"copy=True\", \"primary_metric\": 0.98329411, \"best_metric\": 0.98643654}, {\"run_id\": \"AutoML_217f0f70-4fe9-4b0e-8f7b-5282de6d783a_10\", \"run_number\": 15, \"metric\": null, \"status\": \"Completed\", \"run_type\": \"azureml.scriptrun\", \"training_percent\": \"100\", \"start_time\": \"2021-04-05T09:43:18.61155Z\", \"end_time\": \"2021-04-05T09:44:00.629788Z\", \"created_time\": \"2021-04-05T09:43:09.176495Z\", \"created_time_dt\": \"2021-04-05T09:43:09.176495Z\", \"duration\": \"0:00:51\", \"iteration\": \"10\", \"goal\": \"accuracy_max\", \"run_name\": \"StandardScalerWrapper, XGBoostClassifier\", \"run_properties\": \"<azureml.automl.runtime.shared.model_wrappers.StandardScalerWrapper object at 0x7fcb6f3202e8\", \"primary_metric\": 0.92178347, \"best_metric\": 0.98643654}, {\"run_id\": \"AutoML_217f0f70-4fe9-4b0e-8f7b-5282de6d783a_11\", \"run_number\": 16, \"metric\": null, \"status\": \"Completed\", \"run_type\": \"azureml.scriptrun\", \"training_percent\": \"100\", \"start_time\": \"2021-04-05T09:43:53.520464Z\", \"end_time\": \"2021-04-05T09:44:38.486462Z\", \"created_time\": \"2021-04-05T09:43:42.500998Z\", \"created_time_dt\": \"2021-04-05T09:43:42.500998Z\", \"duration\": \"0:00:55\", \"iteration\": \"11\", \"goal\": \"accuracy_max\", \"run_name\": \"StandardScalerWrapper, RandomForest\", \"run_properties\": \"<azureml.automl.runtime.shared.model_wrappers.StandardScalerWrapper object at 0x7fdaf8051908\", \"primary_metric\": 0.78503312, \"best_metric\": 0.98643654}, {\"run_id\": \"AutoML_217f0f70-4fe9-4b0e-8f7b-5282de6d783a_12\", \"run_number\": 17, \"metric\": null, \"status\": \"Completed\", \"run_type\": \"azureml.scriptrun\", \"training_percent\": \"100\", \"start_time\": \"2021-04-05T09:43:56.10394Z\", \"end_time\": \"2021-04-05T09:44:48.765244Z\", \"created_time\": \"2021-04-05T09:43:46.903245Z\", \"created_time_dt\": \"2021-04-05T09:43:46.903245Z\", \"duration\": \"0:01:01\", \"iteration\": \"12\", \"goal\": \"accuracy_max\", \"run_name\": \"SparseNormalizer, XGBoostClassifier\", \"run_properties\": \"<azureml.automl.runtime.shared.model_wrappers.SparseNormalizer object at 0x7fc07d430f60\", \"primary_metric\": 0.69733699, \"best_metric\": 0.98643654}, {\"run_id\": \"AutoML_217f0f70-4fe9-4b0e-8f7b-5282de6d783a_13\", \"run_number\": 18, \"metric\": null, \"status\": \"Completed\", \"run_type\": \"azureml.scriptrun\", \"training_percent\": \"100\", \"start_time\": \"2021-04-05T09:44:05.545649Z\", \"end_time\": \"2021-04-05T09:45:03.445475Z\", \"created_time\": \"2021-04-05T09:43:53.222527Z\", \"created_time_dt\": \"2021-04-05T09:43:53.222527Z\", \"duration\": \"0:01:10\", \"iteration\": \"13\", \"goal\": \"accuracy_max\", \"run_name\": \"SparseNormalizer, XGBoostClassifier\", \"run_properties\": \"<azureml.automl.runtime.shared.model_wrappers.SparseNormalizer object at 0x7f2a52ddac18\", \"primary_metric\": 0.99164487, \"best_metric\": 0.99164487}, {\"run_id\": \"AutoML_217f0f70-4fe9-4b0e-8f7b-5282de6d783a_14\", \"run_number\": 19, \"metric\": null, \"status\": \"Completed\", \"run_type\": \"azureml.scriptrun\", \"training_percent\": \"100\", \"start_time\": \"2021-04-05T09:44:14.463354Z\", \"end_time\": \"2021-04-05T09:44:59.726446Z\", \"created_time\": \"2021-04-05T09:44:02.881167Z\", \"created_time_dt\": \"2021-04-05T09:44:02.881167Z\", \"duration\": \"0:00:56\", \"iteration\": \"14\", \"goal\": \"accuracy_max\", \"run_name\": \"MaxAbsScaler, ExtremeRandomTrees\", \"run_properties\": \"copy=True\", \"primary_metric\": 0.79340132, \"best_metric\": 0.99164487}, {\"run_id\": \"AutoML_217f0f70-4fe9-4b0e-8f7b-5282de6d783a_15\", \"run_number\": 20, \"metric\": null, \"status\": \"Completed\", \"run_type\": \"azureml.scriptrun\", \"training_percent\": \"100\", \"start_time\": \"2021-04-05T09:44:49.420277Z\", \"end_time\": \"2021-04-05T09:45:43.039451Z\", \"created_time\": \"2021-04-05T09:44:40.763548Z\", \"created_time_dt\": \"2021-04-05T09:44:40.763548Z\", \"duration\": \"0:01:02\", \"iteration\": \"15\", \"goal\": \"accuracy_max\", \"run_name\": \"MaxAbsScaler, LightGBM\", \"run_properties\": \"copy=True\", \"primary_metric\": 0.75060146, \"best_metric\": 0.99164487}, {\"run_id\": \"AutoML_217f0f70-4fe9-4b0e-8f7b-5282de6d783a_16\", \"run_number\": 21, \"metric\": null, \"status\": \"Completed\", \"run_type\": \"azureml.scriptrun\", \"training_percent\": \"100\", \"start_time\": \"2021-04-05T09:45:03.207755Z\", \"end_time\": \"2021-04-05T09:45:46.189624Z\", \"created_time\": \"2021-04-05T09:44:51.084441Z\", \"created_time_dt\": \"2021-04-05T09:44:51.084441Z\", \"duration\": \"0:00:55\", \"iteration\": \"16\", \"goal\": \"accuracy_max\", \"run_name\": \"StandardScalerWrapper, LightGBM\", \"run_properties\": \"<azureml.automl.runtime.shared.model_wrappers.StandardScalerWrapper object at 0x7f63a8b53ac8\", \"primary_metric\": 0.98121513, \"best_metric\": 0.99164487}, {\"run_id\": \"AutoML_217f0f70-4fe9-4b0e-8f7b-5282de6d783a_17\", \"run_number\": 22, \"metric\": null, \"status\": \"Completed\", \"run_type\": \"azureml.scriptrun\", \"training_percent\": \"100\", \"start_time\": \"2021-04-05T09:45:14.443007Z\", \"end_time\": \"2021-04-05T09:45:59.640323Z\", \"created_time\": \"2021-04-05T09:45:02.147806Z\", \"created_time_dt\": \"2021-04-05T09:45:02.147806Z\", \"duration\": \"0:00:57\", \"iteration\": \"17\", \"goal\": \"accuracy_max\", \"run_name\": \"SparseNormalizer, XGBoostClassifier\", \"run_properties\": \"<azureml.automl.runtime.shared.model_wrappers.SparseNormalizer object at 0x7fb3144e0da0\", \"primary_metric\": 0.97703539, \"best_metric\": 0.99164487}, {\"run_id\": \"AutoML_217f0f70-4fe9-4b0e-8f7b-5282de6d783a_18\", \"run_number\": 23, \"metric\": null, \"status\": \"Completed\", \"run_type\": \"azureml.scriptrun\", \"training_percent\": \"100\", \"start_time\": \"2021-04-05T09:45:18.392557Z\", \"end_time\": \"2021-04-05T09:46:01.140623Z\", \"created_time\": \"2021-04-05T09:45:06.593062Z\", \"created_time_dt\": \"2021-04-05T09:45:06.593062Z\", \"duration\": \"0:00:54\", \"iteration\": \"18\", \"goal\": \"accuracy_max\", \"run_name\": \"SparseNormalizer, XGBoostClassifier\", \"run_properties\": \"<azureml.automl.runtime.shared.model_wrappers.SparseNormalizer object at 0x7f5f2f14eac8\", \"primary_metric\": 0.98329411, \"best_metric\": 0.99164487}, {\"run_id\": \"AutoML_217f0f70-4fe9-4b0e-8f7b-5282de6d783a_19\", \"run_number\": 24, \"metric\": null, \"status\": \"Completed\", \"run_type\": \"azureml.scriptrun\", \"training_percent\": \"100\", \"start_time\": \"2021-04-05T09:45:59.71733Z\", \"end_time\": \"2021-04-05T09:46:46.908058Z\", \"created_time\": \"2021-04-05T09:45:45.552461Z\", \"created_time_dt\": \"2021-04-05T09:45:45.552461Z\", \"duration\": \"0:01:01\", \"iteration\": \"19\", \"goal\": \"accuracy_max\", \"run_name\": \"SparseNormalizer, XGBoostClassifier\", \"run_properties\": \"<azureml.automl.runtime.shared.model_wrappers.SparseNormalizer object at 0x7ff44f1eeac8\", \"primary_metric\": 0.99060321, \"best_metric\": 0.99164487}, {\"run_id\": \"AutoML_217f0f70-4fe9-4b0e-8f7b-5282de6d783a_20\", \"run_number\": 25, \"metric\": null, \"status\": \"Completed\", \"run_type\": \"azureml.scriptrun\", \"training_percent\": \"100\", \"start_time\": \"2021-04-05T09:46:01.429089Z\", \"end_time\": \"2021-04-05T09:46:42.849726Z\", \"created_time\": \"2021-04-05T09:45:50.888764Z\", \"created_time_dt\": \"2021-04-05T09:45:50.888764Z\", \"duration\": \"0:00:51\", \"iteration\": \"20\", \"goal\": \"accuracy_max\", \"run_name\": \"SparseNormalizer, LightGBM\", \"run_properties\": \"<azureml.automl.runtime.shared.model_wrappers.SparseNormalizer object at 0x7f44db4c2908\", \"primary_metric\": 0.94681398, \"best_metric\": 0.99164487}, {\"run_id\": \"AutoML_217f0f70-4fe9-4b0e-8f7b-5282de6d783a_21\", \"run_number\": 26, \"metric\": null, \"status\": \"Completed\", \"run_type\": \"azureml.scriptrun\", \"training_percent\": \"100\", \"start_time\": \"2021-04-05T09:46:12.571329Z\", \"end_time\": \"2021-04-05T09:46:57.894762Z\", \"created_time\": \"2021-04-05T09:46:02.002983Z\", \"created_time_dt\": \"2021-04-05T09:46:02.002983Z\", \"duration\": \"0:00:55\", \"iteration\": \"21\", \"goal\": \"accuracy_max\", \"run_name\": \"SparseNormalizer, LightGBM\", \"run_properties\": \"<azureml.automl.runtime.shared.model_wrappers.SparseNormalizer object at 0x7f06966a3978\", \"primary_metric\": 0.83620554, \"best_metric\": 0.99164487}, {\"run_id\": \"AutoML_217f0f70-4fe9-4b0e-8f7b-5282de6d783a_22\", \"run_number\": 27, \"metric\": null, \"status\": \"Completed\", \"run_type\": \"azureml.scriptrun\", \"training_percent\": \"100\", \"start_time\": \"2021-04-05T09:46:18.085861Z\", \"end_time\": \"2021-04-05T09:47:03.413876Z\", \"created_time\": \"2021-04-05T09:46:06.874695Z\", \"created_time_dt\": \"2021-04-05T09:46:06.874695Z\", \"duration\": \"0:00:56\", \"iteration\": \"22\", \"goal\": \"accuracy_max\", \"run_name\": \"MaxAbsScaler, LightGBM\", \"run_properties\": \"copy=True\", \"primary_metric\": 0.80485966, \"best_metric\": 0.99164487}, {\"run_id\": \"AutoML_217f0f70-4fe9-4b0e-8f7b-5282de6d783a_23\", \"run_number\": 28, \"metric\": null, \"status\": \"Completed\", \"run_type\": \"azureml.scriptrun\", \"training_percent\": \"100\", \"start_time\": \"2021-04-05T09:46:56.702047Z\", \"end_time\": \"2021-04-05T09:47:42.878533Z\", \"created_time\": \"2021-04-05T09:46:45.837275Z\", \"created_time_dt\": \"2021-04-05T09:46:45.837275Z\", \"duration\": \"0:00:57\", \"iteration\": \"23\", \"goal\": \"accuracy_max\", \"run_name\": \"MaxAbsScaler, ExtremeRandomTrees\", \"run_properties\": \"copy=True\", \"primary_metric\": 0.69939854, \"best_metric\": 0.99164487}, {\"run_id\": \"AutoML_217f0f70-4fe9-4b0e-8f7b-5282de6d783a_24\", \"run_number\": 29, \"metric\": null, \"status\": \"Completed\", \"run_type\": \"azureml.scriptrun\", \"training_percent\": \"100\", \"start_time\": \"2021-04-05T09:47:03.716333Z\", \"end_time\": \"2021-04-05T09:47:50.448512Z\", \"created_time\": \"2021-04-05T09:46:51.407174Z\", \"created_time_dt\": \"2021-04-05T09:46:51.407174Z\", \"duration\": \"0:00:59\", \"iteration\": \"24\", \"goal\": \"accuracy_max\", \"run_name\": \"MaxAbsScaler, RandomForest\", \"run_properties\": \"copy=True\", \"primary_metric\": 0.72345711, \"best_metric\": 0.99164487}, {\"run_id\": \"AutoML_217f0f70-4fe9-4b0e-8f7b-5282de6d783a_25\", \"run_number\": 30, \"metric\": null, \"status\": \"Completed\", \"run_type\": \"azureml.scriptrun\", \"training_percent\": \"100\", \"start_time\": \"2021-04-05T09:47:18.060976Z\", \"end_time\": \"2021-04-05T09:47:59.066041Z\", \"created_time\": \"2021-04-05T09:47:01.262144Z\", \"created_time_dt\": \"2021-04-05T09:47:01.262144Z\", \"duration\": \"0:00:57\", \"iteration\": \"25\", \"goal\": \"accuracy_max\", \"run_name\": \"StandardScalerWrapper, XGBoostClassifier\", \"run_properties\": \"<azureml.automl.runtime.shared.model_wrappers.StandardScalerWrapper object at 0x7f81e20a6d30\", \"primary_metric\": 0.65349983, \"best_metric\": 0.99164487}, {\"run_id\": \"AutoML_217f0f70-4fe9-4b0e-8f7b-5282de6d783a_26\", \"run_number\": 31, \"metric\": null, \"status\": \"Completed\", \"run_type\": \"azureml.scriptrun\", \"training_percent\": \"100\", \"start_time\": \"2021-04-05T09:47:18.84732Z\", \"end_time\": \"2021-04-05T09:48:08.084192Z\", \"created_time\": \"2021-04-05T09:47:06.295942Z\", \"created_time_dt\": \"2021-04-05T09:47:06.295942Z\", \"duration\": \"0:01:01\", \"iteration\": \"26\", \"goal\": \"accuracy_max\", \"run_name\": \"StandardScalerWrapper, XGBoostClassifier\", \"run_properties\": \"<azureml.automl.runtime.shared.model_wrappers.StandardScalerWrapper object at 0x7fe195329ac8\", \"primary_metric\": 0.98746949, \"best_metric\": 0.99164487}, {\"run_id\": \"AutoML_217f0f70-4fe9-4b0e-8f7b-5282de6d783a_27\", \"run_number\": 32, \"metric\": null, \"status\": \"Completed\", \"run_type\": \"azureml.scriptrun\", \"training_percent\": \"100\", \"start_time\": \"2021-04-05T09:47:55.141182Z\", \"end_time\": \"2021-04-05T09:48:42.43032Z\", \"created_time\": \"2021-04-05T09:47:46.880481Z\", \"created_time_dt\": \"2021-04-05T09:47:46.880481Z\", \"duration\": \"0:00:55\", \"iteration\": \"27\", \"goal\": \"accuracy_max\", \"run_name\": \"SparseNormalizer, XGBoostClassifier\", \"run_properties\": \"<azureml.automl.runtime.shared.model_wrappers.SparseNormalizer object at 0x7f90b98e4828\", \"primary_metric\": 0.99060321, \"best_metric\": 0.99164487}, {\"run_id\": \"AutoML_217f0f70-4fe9-4b0e-8f7b-5282de6d783a_28\", \"run_number\": 33, \"metric\": null, \"status\": \"Completed\", \"run_type\": \"azureml.scriptrun\", \"training_percent\": \"100\", \"start_time\": \"2021-04-05T09:48:08.432346Z\", \"end_time\": \"2021-04-05T09:48:55.109455Z\", \"created_time\": \"2021-04-05T09:47:53.104066Z\", \"created_time_dt\": \"2021-04-05T09:47:53.104066Z\", \"duration\": \"0:01:02\", \"iteration\": \"28\", \"goal\": \"accuracy_max\", \"run_name\": \"SparseNormalizer, XGBoostClassifier\", \"run_properties\": \"<azureml.automl.runtime.shared.model_wrappers.SparseNormalizer object at 0x7f2cc1404828\", \"primary_metric\": 0.98746513, \"best_metric\": 0.99164487}, {\"run_id\": \"AutoML_217f0f70-4fe9-4b0e-8f7b-5282de6d783a_29\", \"run_number\": 34, \"metric\": null, \"status\": \"Completed\", \"run_type\": \"azureml.scriptrun\", \"training_percent\": \"100\", \"start_time\": \"2021-04-05T09:48:15.650093Z\", \"end_time\": \"2021-04-05T09:48:58.893049Z\", \"created_time\": \"2021-04-05T09:48:01.59133Z\", \"created_time_dt\": \"2021-04-05T09:48:01.59133Z\", \"duration\": \"0:00:57\", \"iteration\": \"29\", \"goal\": \"accuracy_max\", \"run_name\": \"SparseNormalizer, XGBoostClassifier\", \"run_properties\": \"<azureml.automl.runtime.shared.model_wrappers.SparseNormalizer object at 0x7f6fd5731898\", \"primary_metric\": 0.75372211, \"best_metric\": 0.99164487}, {\"run_id\": \"AutoML_217f0f70-4fe9-4b0e-8f7b-5282de6d783a_30\", \"run_number\": 35, \"metric\": null, \"status\": \"Completed\", \"run_type\": \"azureml.scriptrun\", \"training_percent\": \"100\", \"start_time\": \"2021-04-05T09:48:24.126221Z\", \"end_time\": \"2021-04-05T09:49:07.189097Z\", \"created_time\": \"2021-04-05T09:48:11.3923Z\", \"created_time_dt\": \"2021-04-05T09:48:11.3923Z\", \"duration\": \"0:00:55\", \"iteration\": \"30\", \"goal\": \"accuracy_max\", \"run_name\": \"StandardScalerWrapper, XGBoostClassifier\", \"run_properties\": \"<azureml.automl.runtime.shared.model_wrappers.StandardScalerWrapper object at 0x7f56a1864c88\", \"primary_metric\": 0.95410565, \"best_metric\": 0.99164487}, {\"run_id\": \"AutoML_217f0f70-4fe9-4b0e-8f7b-5282de6d783a_31\", \"run_number\": 36, \"metric\": null, \"status\": \"Completed\", \"run_type\": \"azureml.scriptrun\", \"training_percent\": \"100\", \"start_time\": \"2021-04-05T09:48:56.340427Z\", \"end_time\": \"2021-04-05T09:49:38.986551Z\", \"created_time\": \"2021-04-05T09:48:44.764578Z\", \"created_time_dt\": \"2021-04-05T09:48:44.764578Z\", \"duration\": \"0:00:54\", \"iteration\": \"31\", \"goal\": \"accuracy_max\", \"run_name\": \"StandardScalerWrapper, XGBoostClassifier\", \"run_properties\": \"<azureml.automl.runtime.shared.model_wrappers.StandardScalerWrapper object at 0x7f6135e63240\", \"primary_metric\": 0.98746949, \"best_metric\": 0.99164487}, {\"run_id\": \"AutoML_217f0f70-4fe9-4b0e-8f7b-5282de6d783a_32\", \"run_number\": 37, \"metric\": null, \"status\": \"Completed\", \"run_type\": \"azureml.scriptrun\", \"training_percent\": \"100\", \"start_time\": \"2021-04-05T09:49:11.249128Z\", \"end_time\": \"2021-04-05T09:49:53.888202Z\", \"created_time\": \"2021-04-05T09:48:58.571855Z\", \"created_time_dt\": \"2021-04-05T09:48:58.571855Z\", \"duration\": \"0:00:55\", \"iteration\": \"32\", \"goal\": \"accuracy_max\", \"run_name\": \"StandardScalerWrapper, XGBoostClassifier\", \"run_properties\": \"<azureml.automl.runtime.shared.model_wrappers.StandardScalerWrapper object at 0x7fed8feb51d0\", \"primary_metric\": 0.90087605, \"best_metric\": 0.99164487}, {\"run_id\": \"AutoML_217f0f70-4fe9-4b0e-8f7b-5282de6d783a_33\", \"run_number\": 38, \"metric\": null, \"status\": \"Canceled\", \"run_type\": \"azureml.scriptrun\", \"training_percent\": \"100\", \"start_time\": \"2021-04-05T09:49:13.387775Z\", \"end_time\": \"2021-04-05T09:49:57.546707Z\", \"created_time\": \"2021-04-05T09:49:04.095691Z\", \"created_time_dt\": \"2021-04-05T09:49:04.095691Z\", \"duration\": \"0:00:53\", \"iteration\": \"33\", \"goal\": \"accuracy_max\", \"run_name\": \"MaxAbsScaler, ExtremeRandomTrees\", \"run_properties\": \"copy=True\", \"primary_metric\": 0.72445955, \"best_metric\": 0.99164487}, {\"run_id\": \"AutoML_217f0f70-4fe9-4b0e-8f7b-5282de6d783a_34\", \"run_number\": 39, \"metric\": null, \"status\": \"Canceled\", \"run_type\": \"azureml.scriptrun\", \"training_percent\": \"100\", \"start_time\": \"2021-04-05T09:49:22.578215Z\", \"end_time\": \"2021-04-05T09:50:03.681729Z\", \"created_time\": \"2021-04-05T09:49:11.175323Z\", \"created_time_dt\": \"2021-04-05T09:49:11.175323Z\", \"duration\": \"0:00:52\", \"iteration\": \"34\", \"goal\": \"accuracy_max\", \"run_name\": \"MaxAbsScaler, LogisticRegression\", \"run_properties\": \"copy=True\", \"primary_metric\": 0.96867591, \"best_metric\": 0.99164487}, {\"run_id\": \"AutoML_217f0f70-4fe9-4b0e-8f7b-5282de6d783a_35\", \"run_number\": 40, \"metric\": null, \"status\": \"Canceled\", \"run_type\": \"azureml.scriptrun\", \"training_percent\": \"100\", \"start_time\": \"2021-04-05T09:49:54.983138Z\", \"end_time\": \"2021-04-05T09:50:02.527109Z\", \"created_time\": \"2021-04-05T09:49:42.711669Z\", \"created_time_dt\": \"2021-04-05T09:49:42.711669Z\", \"duration\": \"0:00:19\", \"iteration\": \"35\", \"goal\": null, \"run_name\": \"Canceled\", \"run_properties\": null}, {\"run_id\": \"AutoML_217f0f70-4fe9-4b0e-8f7b-5282de6d783a_36\", \"run_number\": 41, \"metric\": null, \"status\": \"Completed\", \"run_type\": \"azureml.scriptrun\", \"training_percent\": \"100\", \"start_time\": \"2021-04-05T09:50:16.822846Z\", \"end_time\": \"2021-04-05T09:51:32.41546Z\", \"created_time\": \"2021-04-05T09:50:06.28701Z\", \"created_time_dt\": \"2021-04-05T09:50:06.28701Z\", \"duration\": \"0:01:26\", \"iteration\": \"36\", \"goal\": \"accuracy_max\", \"run_name\": \"VotingEnsemble\", \"run_properties\": \"classification_labels=None,\\n                              estimators=[('13',\\n                                           Pipeline(memory=None,\\n                                                    steps=[('sparsenormalizer',\\n                                                            <azureml.automl.runtime.shared.model_wrappers.SparseNormalizer object at 0x7fdb703da240>\", \"primary_metric\": 0.99164487, \"best_metric\": 0.99164487}, {\"run_id\": \"AutoML_217f0f70-4fe9-4b0e-8f7b-5282de6d783a_37\", \"run_number\": 42, \"metric\": null, \"status\": \"Completed\", \"run_type\": \"azureml.scriptrun\", \"training_percent\": \"100\", \"start_time\": \"2021-04-05T09:50:19.869441Z\", \"end_time\": \"2021-04-05T09:51:15.281094Z\", \"created_time\": \"2021-04-05T09:50:06.425418Z\", \"created_time_dt\": \"2021-04-05T09:50:06.425418Z\", \"duration\": \"0:01:08\", \"iteration\": \"37\", \"goal\": \"accuracy_max\", \"run_name\": \"StackEnsemble\", \"run_properties\": \"base_learners=[('13',\\n                                        Pipeline(memory=None,\\n                                                 steps=[('sparsenormalizer',\\n                                                         <azureml.automl.runtime.shared.model_wrappers.SparseNormalizer object at 0x7ff49c6a8198>\", \"primary_metric\": 0.98956154, \"best_metric\": 0.99164487}], \"children_metrics\": {\"categories\": [0], \"series\": {\"AUC_weighted\": [{\"categories\": [\"0\", \"1\", \"2\", \"3\", \"4\", \"5\", \"6\", \"7\", \"8\", \"9\", \"10\", \"11\", \"12\", \"13\", \"14\", \"15\", \"16\", \"17\", \"18\", \"19\", \"20\", \"21\", \"22\", \"23\", \"24\", \"25\", \"26\", \"27\", \"28\", \"29\", \"30\", \"31\", \"32\", \"33\", \"34\", \"36\", \"37\"], \"mode\": \"markers\", \"name\": \"AUC_weighted\", \"stepped\": false, \"type\": \"scatter\", \"data\": [0.9984439946007746, 0.994354815686902, 0.8838432231382667, 0.8197781275466569, 0.9492697234596166, 0.7543189211416961, 0.9868115210657302, 0.9987383821855117, 0.9966461692270093, 0.9964783244194958, 0.9835609045747017, 0.8872981802531288, 0.7592168767410412, 0.998850354291223, 0.8769207371892721, 0.8296129782056794, 0.9973144594115353, 0.9958345361591667, 0.9958477379192461, 0.9988922649279333, 0.9884270045998539, 0.9320597398054674, 0.8748819094617487, 0.7129013030986926, 0.8058132159785155, 0.5, 0.9972822303217765, 0.9988596024534042, 0.9981932675562929, 0.8345577878396426, 0.9977332787582679, 0.9946678535055896, 0.9670204670028604, 0.8198117001093213, 0.9963570105602775, 0.9985380319300772, 0.9986576260417932]}, {\"categories\": [\"0\", \"1\", \"2\", \"3\", \"4\", \"5\", \"6\", \"7\", \"8\", \"9\", \"10\", \"11\", \"12\", \"13\", \"14\", \"15\", \"16\", \"17\", \"18\", \"19\", \"20\", \"21\", \"22\", \"23\", \"24\", \"25\", \"26\", \"27\", \"28\", \"29\", \"30\", \"31\", \"32\", \"33\", \"34\", \"36\", \"37\"], \"mode\": \"lines\", \"name\": \"AUC_weighted_max\", \"stepped\": true, \"type\": \"scatter\", \"data\": [0.9984439946007746, 0.9984439946007746, 0.9984439946007746, 0.9984439946007746, 0.9984439946007746, 0.9984439946007746, 0.9984439946007746, 0.9987383821855117, 0.9987383821855117, 0.9987383821855117, 0.9987383821855117, 0.9987383821855117, 0.9987383821855117, 0.998850354291223, 0.998850354291223, 0.998850354291223, 0.998850354291223, 0.998850354291223, 0.998850354291223, 0.9988922649279333, 0.9988922649279333, 0.9988922649279333, 0.9988922649279333, 0.9988922649279333, 0.9988922649279333, 0.9988922649279333, 0.9988922649279333, 0.9988922649279333, 0.9988922649279333, 0.9988922649279333, 0.9988922649279333, 0.9988922649279333, 0.9988922649279333, 0.9988922649279333, 0.9988922649279333, 0.9988922649279333, 0.9988922649279333]}], \"recall_score_micro\": [{\"categories\": [\"0\", \"1\", \"2\", \"3\", \"4\", \"5\", \"6\", \"7\", \"8\", \"9\", \"10\", \"11\", \"12\", \"13\", \"14\", \"15\", \"16\", \"17\", \"18\", \"19\", \"20\", \"21\", \"22\", \"23\", \"24\", \"25\", \"26\", \"27\", \"28\", \"29\", \"30\", \"31\", \"32\", \"33\", \"34\", \"36\", \"37\"], \"mode\": \"markers\", \"name\": \"recall_score_micro\", \"stepped\": false, \"type\": \"scatter\", \"data\": [0.9843226987447699, 0.9603425732217573, 0.772489539748954, 0.7307487796373779, 0.8685451534170153, 0.6931528940027895, 0.9519918061366807, 0.9864365411436542, 0.9801691073919108, 0.9832941073919108, 0.9217834728033473, 0.7850331241283124, 0.6973369944211995, 0.9916448744769875, 0.7934013249651325, 0.7506014644351464, 0.9812151324965133, 0.977035390516039, 0.9832941073919108, 0.9906032078103209, 0.9468139818688982, 0.8362055439330545, 0.8048596582984658, 0.6993985355648535, 0.7234571129707112, 0.6534998256624825, 0.987469490934449, 0.9906032078103209, 0.9874651324965134, 0.7537221059972106, 0.9541056485355649, 0.987469490934449, 0.9008760460251046, 0.7244595536959553, 0.9686759065550906, 0.9916448744769875, 0.9895615411436541]}, {\"categories\": [\"0\", \"1\", \"2\", \"3\", \"4\", \"5\", \"6\", \"7\", \"8\", \"9\", \"10\", \"11\", \"12\", \"13\", \"14\", \"15\", \"16\", \"17\", \"18\", \"19\", \"20\", \"21\", \"22\", \"23\", \"24\", \"25\", \"26\", \"27\", \"28\", \"29\", \"30\", \"31\", \"32\", \"33\", \"34\", \"36\", \"37\"], \"mode\": \"lines\", \"name\": \"recall_score_micro_max\", \"stepped\": true, \"type\": \"scatter\", \"data\": [0.9843226987447699, 0.9843226987447699, 0.9843226987447699, 0.9843226987447699, 0.9843226987447699, 0.9843226987447699, 0.9843226987447699, 0.9864365411436542, 0.9864365411436542, 0.9864365411436542, 0.9864365411436542, 0.9864365411436542, 0.9864365411436542, 0.9916448744769875, 0.9916448744769875, 0.9916448744769875, 0.9916448744769875, 0.9916448744769875, 0.9916448744769875, 0.9916448744769875, 0.9916448744769875, 0.9916448744769875, 0.9916448744769875, 0.9916448744769875, 0.9916448744769875, 0.9916448744769875, 0.9916448744769875, 0.9916448744769875, 0.9916448744769875, 0.9916448744769875, 0.9916448744769875, 0.9916448744769875, 0.9916448744769875, 0.9916448744769875, 0.9916448744769875, 0.9916448744769875, 0.9916448744769875]}], \"AUC_macro\": [{\"categories\": [\"0\", \"1\", \"2\", \"3\", \"4\", \"5\", \"6\", \"7\", \"8\", \"9\", \"10\", \"11\", \"12\", \"13\", \"14\", \"15\", \"16\", \"17\", \"18\", \"19\", \"20\", \"21\", \"22\", \"23\", \"24\", \"25\", \"26\", \"27\", \"28\", \"29\", \"30\", \"31\", \"32\", \"33\", \"34\", \"36\", \"37\"], \"mode\": \"markers\", \"name\": \"AUC_macro\", \"stepped\": false, \"type\": \"scatter\", \"data\": [0.9984439946007746, 0.994354815686902, 0.8838432231382667, 0.8197781275466569, 0.9492697234596166, 0.7543189211416961, 0.9868115210657302, 0.9987383821855117, 0.9966461692270094, 0.9964783244194957, 0.9835609045747017, 0.8872981802531288, 0.7592168767410413, 0.998850354291223, 0.8769207371892722, 0.8296129782056794, 0.9973144594115351, 0.9958345361591667, 0.995847737919246, 0.9988922649279333, 0.9884270045998539, 0.9320597398054673, 0.8748819094617487, 0.7129013030986926, 0.8058132159785155, 0.5, 0.9972822303217765, 0.9988596024534042, 0.9981932675562929, 0.8345577878396429, 0.997733278758268, 0.9946678535055897, 0.9670204670028604, 0.8198117001093213, 0.9963570105602775, 0.9985380319300772, 0.9986576260417932]}, {\"categories\": [\"0\", \"1\", \"2\", \"3\", \"4\", \"5\", \"6\", \"7\", \"8\", \"9\", \"10\", \"11\", \"12\", \"13\", \"14\", \"15\", \"16\", \"17\", \"18\", \"19\", \"20\", \"21\", \"22\", \"23\", \"24\", \"25\", \"26\", \"27\", \"28\", \"29\", \"30\", \"31\", \"32\", \"33\", \"34\", \"36\", \"37\"], \"mode\": \"lines\", \"name\": \"AUC_macro_max\", \"stepped\": true, \"type\": \"scatter\", \"data\": [0.9984439946007746, 0.9984439946007746, 0.9984439946007746, 0.9984439946007746, 0.9984439946007746, 0.9984439946007746, 0.9984439946007746, 0.9987383821855117, 0.9987383821855117, 0.9987383821855117, 0.9987383821855117, 0.9987383821855117, 0.9987383821855117, 0.998850354291223, 0.998850354291223, 0.998850354291223, 0.998850354291223, 0.998850354291223, 0.998850354291223, 0.9988922649279333, 0.9988922649279333, 0.9988922649279333, 0.9988922649279333, 0.9988922649279333, 0.9988922649279333, 0.9988922649279333, 0.9988922649279333, 0.9988922649279333, 0.9988922649279333, 0.9988922649279333, 0.9988922649279333, 0.9988922649279333, 0.9988922649279333, 0.9988922649279333, 0.9988922649279333, 0.9988922649279333, 0.9988922649279333]}], \"accuracy\": [{\"categories\": [\"0\", \"1\", \"2\", \"3\", \"4\", \"5\", \"6\", \"7\", \"8\", \"9\", \"10\", \"11\", \"12\", \"13\", \"14\", \"15\", \"16\", \"17\", \"18\", \"19\", \"20\", \"21\", \"22\", \"23\", \"24\", \"25\", \"26\", \"27\", \"28\", \"29\", \"30\", \"31\", \"32\", \"33\", \"34\", \"36\", \"37\"], \"mode\": \"markers\", \"name\": \"accuracy\", \"stepped\": false, \"type\": \"scatter\", \"data\": [0.9843226987447699, 0.9603425732217573, 0.772489539748954, 0.7307487796373779, 0.8685451534170153, 0.6931528940027895, 0.9519918061366807, 0.9864365411436542, 0.9801691073919108, 0.9832941073919108, 0.9217834728033473, 0.7850331241283124, 0.6973369944211995, 0.9916448744769875, 0.7934013249651325, 0.7506014644351464, 0.9812151324965133, 0.977035390516039, 0.9832941073919108, 0.9906032078103209, 0.9468139818688982, 0.8362055439330545, 0.8048596582984658, 0.6993985355648535, 0.7234571129707112, 0.6534998256624825, 0.987469490934449, 0.9906032078103209, 0.9874651324965134, 0.7537221059972106, 0.9541056485355649, 0.987469490934449, 0.9008760460251046, 0.7244595536959553, 0.9686759065550906, 0.9916448744769875, 0.9895615411436541]}, {\"categories\": [\"0\", \"1\", \"2\", \"3\", \"4\", \"5\", \"6\", \"7\", \"8\", \"9\", \"10\", \"11\", \"12\", \"13\", \"14\", \"15\", \"16\", \"17\", \"18\", \"19\", \"20\", \"21\", \"22\", \"23\", \"24\", \"25\", \"26\", \"27\", \"28\", \"29\", \"30\", \"31\", \"32\", \"33\", \"34\", \"36\", \"37\"], \"mode\": \"lines\", \"name\": \"accuracy_max\", \"stepped\": true, \"type\": \"scatter\", \"data\": [0.9843226987447699, 0.9843226987447699, 0.9843226987447699, 0.9843226987447699, 0.9843226987447699, 0.9843226987447699, 0.9843226987447699, 0.9864365411436542, 0.9864365411436542, 0.9864365411436542, 0.9864365411436542, 0.9864365411436542, 0.9864365411436542, 0.9916448744769875, 0.9916448744769875, 0.9916448744769875, 0.9916448744769875, 0.9916448744769875, 0.9916448744769875, 0.9916448744769875, 0.9916448744769875, 0.9916448744769875, 0.9916448744769875, 0.9916448744769875, 0.9916448744769875, 0.9916448744769875, 0.9916448744769875, 0.9916448744769875, 0.9916448744769875, 0.9916448744769875, 0.9916448744769875, 0.9916448744769875, 0.9916448744769875, 0.9916448744769875, 0.9916448744769875, 0.9916448744769875, 0.9916448744769875]}], \"balanced_accuracy\": [{\"categories\": [\"0\", \"1\", \"2\", \"3\", \"4\", \"5\", \"6\", \"7\", \"8\", \"9\", \"10\", \"11\", \"12\", \"13\", \"14\", \"15\", \"16\", \"17\", \"18\", \"19\", \"20\", \"21\", \"22\", \"23\", \"24\", \"25\", \"26\", \"27\", \"28\", \"29\", \"30\", \"31\", \"32\", \"33\", \"34\", \"36\", \"37\"], \"mode\": \"markers\", \"name\": \"balanced_accuracy\", \"stepped\": false, \"type\": \"scatter\", \"data\": [0.9794090334765497, 0.9487472554829175, 0.6859232221432499, 0.6524186864839884, 0.8715967233614725, 0.698273688072439, 0.9378038125183561, 0.9814339212026146, 0.9734192157517005, 0.9758718244858664, 0.8959353837662023, 0.7039073568024209, 0.612559047437626, 0.9878114722230229, 0.725587762491102, 0.6890645141402014, 0.9755127625179948, 0.9684382927344253, 0.9765891140385566, 0.9865359620189411, 0.9295964675689525, 0.7926230696759116, 0.7272690170217317, 0.6745044307715002, 0.6150293037631933, 0.5, 0.981943971654593, 0.9865359620189411, 0.9834192150871406, 0.6970337888220528, 0.9403528840419009, 0.9817077985182139, 0.8763455013797166, 0.7152556611880361, 0.9661131859909198, 0.9878114722230229, 0.9852604518148596]}, {\"categories\": [\"0\", \"1\", \"2\", \"3\", \"4\", \"5\", \"6\", \"7\", \"8\", \"9\", \"10\", \"11\", \"12\", \"13\", \"14\", \"15\", \"16\", \"17\", \"18\", \"19\", \"20\", \"21\", \"22\", \"23\", \"24\", \"25\", \"26\", \"27\", \"28\", \"29\", \"30\", \"31\", \"32\", \"33\", \"34\", \"36\", \"37\"], \"mode\": \"lines\", \"name\": \"balanced_accuracy_max\", \"stepped\": true, \"type\": \"scatter\", \"data\": [0.9794090334765497, 0.9794090334765497, 0.9794090334765497, 0.9794090334765497, 0.9794090334765497, 0.9794090334765497, 0.9794090334765497, 0.9814339212026146, 0.9814339212026146, 0.9814339212026146, 0.9814339212026146, 0.9814339212026146, 0.9814339212026146, 0.9878114722230229, 0.9878114722230229, 0.9878114722230229, 0.9878114722230229, 0.9878114722230229, 0.9878114722230229, 0.9878114722230229, 0.9878114722230229, 0.9878114722230229, 0.9878114722230229, 0.9878114722230229, 0.9878114722230229, 0.9878114722230229, 0.9878114722230229, 0.9878114722230229, 0.9878114722230229, 0.9878114722230229, 0.9878114722230229, 0.9878114722230229, 0.9878114722230229, 0.9878114722230229, 0.9878114722230229, 0.9878114722230229, 0.9878114722230229]}], \"norm_macro_recall\": [{\"categories\": [\"0\", \"1\", \"2\", \"3\", \"4\", \"5\", \"6\", \"7\", \"8\", \"9\", \"10\", \"11\", \"12\", \"13\", \"14\", \"15\", \"16\", \"17\", \"18\", \"19\", \"20\", \"21\", \"22\", \"23\", \"24\", \"25\", \"26\", \"27\", \"28\", \"29\", \"30\", \"31\", \"32\", \"33\", \"34\", \"36\", \"37\"], \"mode\": \"markers\", \"name\": \"norm_macro_recall\", \"stepped\": false, \"type\": \"scatter\", \"data\": [0.9588180669530993, 0.8974945109658349, 0.37184644428649966, 0.30483737296797675, 0.7431934467229452, 0.39654737614487795, 0.8756076250367123, 0.9628678424052294, 0.946838431503401, 0.9517436489717329, 0.7918707675324046, 0.40781471360484184, 0.22511809487525203, 0.9756229444460457, 0.4511755249822042, 0.378129028280403, 0.9510255250359896, 0.9368765854688504, 0.9531782280771133, 0.9730719240378823, 0.8591929351379052, 0.5852461393518232, 0.45453803404346366, 0.3490088615430005, 0.23005860752638674, 0.0, 0.9638879433091861, 0.9730719240378823, 0.9668384301742813, 0.39406757764410566, 0.8807057680838019, 0.9634155970364277, 0.7526910027594335, 0.43051132237607226, 0.9322263719818396, 0.9756229444460457, 0.9705209036297191]}, {\"categories\": [\"0\", \"1\", \"2\", \"3\", \"4\", \"5\", \"6\", \"7\", \"8\", \"9\", \"10\", \"11\", \"12\", \"13\", \"14\", \"15\", \"16\", \"17\", \"18\", \"19\", \"20\", \"21\", \"22\", \"23\", \"24\", \"25\", \"26\", \"27\", \"28\", \"29\", \"30\", \"31\", \"32\", \"33\", \"34\", \"36\", \"37\"], \"mode\": \"lines\", \"name\": \"norm_macro_recall_max\", \"stepped\": true, \"type\": \"scatter\", \"data\": [0.9588180669530993, 0.9588180669530993, 0.9588180669530993, 0.9588180669530993, 0.9588180669530993, 0.9588180669530993, 0.9588180669530993, 0.9628678424052294, 0.9628678424052294, 0.9628678424052294, 0.9628678424052294, 0.9628678424052294, 0.9628678424052294, 0.9756229444460457, 0.9756229444460457, 0.9756229444460457, 0.9756229444460457, 0.9756229444460457, 0.9756229444460457, 0.9756229444460457, 0.9756229444460457, 0.9756229444460457, 0.9756229444460457, 0.9756229444460457, 0.9756229444460457, 0.9756229444460457, 0.9756229444460457, 0.9756229444460457, 0.9756229444460457, 0.9756229444460457, 0.9756229444460457, 0.9756229444460457, 0.9756229444460457, 0.9756229444460457, 0.9756229444460457, 0.9756229444460457, 0.9756229444460457]}], \"average_precision_score_weighted\": [{\"categories\": [\"0\", \"1\", \"2\", \"3\", \"4\", \"5\", \"6\", \"7\", \"8\", \"9\", \"10\", \"11\", \"12\", \"13\", \"14\", \"15\", \"16\", \"17\", \"18\", \"19\", \"20\", \"21\", \"22\", \"23\", \"24\", \"25\", \"26\", \"27\", \"28\", \"29\", \"30\", \"31\", \"32\", \"33\", \"34\", \"36\", \"37\"], \"mode\": \"markers\", \"name\": \"average_precision_score_weighted\", \"stepped\": false, \"type\": \"scatter\", \"data\": [0.9985427709666189, 0.9949091102214555, 0.8959301661754403, 0.8381363554439832, 0.9526683633137015, 0.779686337294297, 0.9882366061301917, 0.9988456586907267, 0.9969334046910572, 0.9967682656500183, 0.9851252708498252, 0.8998942207797955, 0.7878044443337036, 0.9989284542044266, 0.8956741695391024, 0.8544711663486911, 0.9976307664945265, 0.9964395992457327, 0.9964689623850497, 0.9989728248099932, 0.9902617081900627, 0.9386802701434098, 0.8954752857571538, 0.7231857728977875, 0.8325307926895593, 0.5503039729319729, 0.9976312065843556, 0.998938803626139, 0.9984055730231906, 0.8550478348202512, 0.997799117521552, 0.9956737754276987, 0.9695913089538276, 0.8414499308182559, 0.9966619792890039, 0.9986645940304864, 0.9987651217081243]}, {\"categories\": [\"0\", \"1\", \"2\", \"3\", \"4\", \"5\", \"6\", \"7\", \"8\", \"9\", \"10\", \"11\", \"12\", \"13\", \"14\", \"15\", \"16\", \"17\", \"18\", \"19\", \"20\", \"21\", \"22\", \"23\", \"24\", \"25\", \"26\", \"27\", \"28\", \"29\", \"30\", \"31\", \"32\", \"33\", \"34\", \"36\", \"37\"], \"mode\": \"lines\", \"name\": \"average_precision_score_weighted_max\", \"stepped\": true, \"type\": \"scatter\", \"data\": [0.9985427709666189, 0.9985427709666189, 0.9985427709666189, 0.9985427709666189, 0.9985427709666189, 0.9985427709666189, 0.9985427709666189, 0.9988456586907267, 0.9988456586907267, 0.9988456586907267, 0.9988456586907267, 0.9988456586907267, 0.9988456586907267, 0.9989284542044266, 0.9989284542044266, 0.9989284542044266, 0.9989284542044266, 0.9989284542044266, 0.9989284542044266, 0.9989728248099932, 0.9989728248099932, 0.9989728248099932, 0.9989728248099932, 0.9989728248099932, 0.9989728248099932, 0.9989728248099932, 0.9989728248099932, 0.9989728248099932, 0.9989728248099932, 0.9989728248099932, 0.9989728248099932, 0.9989728248099932, 0.9989728248099932, 0.9989728248099932, 0.9989728248099932, 0.9989728248099932, 0.9989728248099932]}], \"precision_score_weighted\": [{\"categories\": [\"0\", \"1\", \"2\", \"3\", \"4\", \"5\", \"6\", \"7\", \"8\", \"9\", \"10\", \"11\", \"12\", \"13\", \"14\", \"15\", \"16\", \"17\", \"18\", \"19\", \"20\", \"21\", \"22\", \"23\", \"24\", \"25\", \"26\", \"27\", \"28\", \"29\", \"30\", \"31\", \"32\", \"33\", \"34\", \"36\", \"37\"], \"mode\": \"markers\", \"name\": \"precision_score_weighted\", \"stepped\": false, \"type\": \"scatter\", \"data\": [0.9844425974640644, 0.9617938027099419, 0.7986528380258613, 0.7514282530129441, 0.8782755300763652, 0.7275008994336215, 0.9527584959285551, 0.9868690643491099, 0.9805262035028497, 0.983755869792253, 0.9281958583666743, 0.8164514517083832, 0.7058615931737076, 0.9917637713463756, 0.8197286034871283, 0.7542931611766461, 0.981562294238284, 0.9778833682552491, 0.9836894717821005, 0.9907578246669375, 0.9517651605312254, 0.848093367059217, 0.841830341557331, 0.7075883028065322, 0.7670925119024917, 0.428651812128469, 0.9877460620067031, 0.9907578246669375, 0.9875612393797082, 0.7611862890353757, 0.9575371862953115, 0.9877190327823473, 0.9059317172624899, 0.7394799543828819, 0.9687887797446385, 0.9917637713463756, 0.9897656580789986]}, {\"categories\": [\"0\", \"1\", \"2\", \"3\", \"4\", \"5\", \"6\", \"7\", \"8\", \"9\", \"10\", \"11\", \"12\", \"13\", \"14\", \"15\", \"16\", \"17\", \"18\", \"19\", \"20\", \"21\", \"22\", \"23\", \"24\", \"25\", \"26\", \"27\", \"28\", \"29\", \"30\", \"31\", \"32\", \"33\", \"34\", \"36\", \"37\"], \"mode\": \"lines\", \"name\": \"precision_score_weighted_max\", \"stepped\": true, \"type\": \"scatter\", \"data\": [0.9844425974640644, 0.9844425974640644, 0.9844425974640644, 0.9844425974640644, 0.9844425974640644, 0.9844425974640644, 0.9844425974640644, 0.9868690643491099, 0.9868690643491099, 0.9868690643491099, 0.9868690643491099, 0.9868690643491099, 0.9868690643491099, 0.9917637713463756, 0.9917637713463756, 0.9917637713463756, 0.9917637713463756, 0.9917637713463756, 0.9917637713463756, 0.9917637713463756, 0.9917637713463756, 0.9917637713463756, 0.9917637713463756, 0.9917637713463756, 0.9917637713463756, 0.9917637713463756, 0.9917637713463756, 0.9917637713463756, 0.9917637713463756, 0.9917637713463756, 0.9917637713463756, 0.9917637713463756, 0.9917637713463756, 0.9917637713463756, 0.9917637713463756, 0.9917637713463756, 0.9917637713463756]}], \"average_precision_score_macro\": [{\"categories\": [\"0\", \"1\", \"2\", \"3\", \"4\", \"5\", \"6\", \"7\", \"8\", \"9\", \"10\", \"11\", \"12\", \"13\", \"14\", \"15\", \"16\", \"17\", \"18\", \"19\", \"20\", \"21\", \"22\", \"23\", \"24\", \"25\", \"26\", \"27\", \"28\", \"29\", \"30\", \"31\", \"32\", \"33\", \"34\", \"36\", \"37\"], \"mode\": \"markers\", \"name\": \"average_precision_score_macro\", \"stepped\": false, \"type\": \"scatter\", \"data\": [0.9981998282915072, 0.9939497677473674, 0.8760801161179044, 0.8087210496226231, 0.9434435799147184, 0.7484439717186875, 0.9861361924361165, 0.998586864796993, 0.9963009944752872, 0.9961060917802407, 0.9825636533198652, 0.8805235654067065, 0.7529468718975026, 0.9986646680906548, 0.8758219614833019, 0.8290201097815889, 0.9970577686662763, 0.9958762188521926, 0.9958547438004752, 0.9987272841625746, 0.9886368859648407, 0.9273691406886206, 0.8769824124981184, 0.6743757237619457, 0.8032502828965271, 0.5, 0.9971706982231588, 0.9986966615280524, 0.998091766172075, 0.8274958692539816, 0.9972668626031108, 0.9949648611388742, 0.9637583627801465, 0.8117576564481044, 0.995971973128998, 0.9983582118728933, 0.9984797059373556]}, {\"categories\": [\"0\", \"1\", \"2\", \"3\", \"4\", \"5\", \"6\", \"7\", \"8\", \"9\", \"10\", \"11\", \"12\", \"13\", \"14\", \"15\", \"16\", \"17\", \"18\", \"19\", \"20\", \"21\", \"22\", \"23\", \"24\", \"25\", \"26\", \"27\", \"28\", \"29\", \"30\", \"31\", \"32\", \"33\", \"34\", \"36\", \"37\"], \"mode\": \"lines\", \"name\": \"average_precision_score_macro_max\", \"stepped\": true, \"type\": \"scatter\", \"data\": [0.9981998282915072, 0.9981998282915072, 0.9981998282915072, 0.9981998282915072, 0.9981998282915072, 0.9981998282915072, 0.9981998282915072, 0.998586864796993, 0.998586864796993, 0.998586864796993, 0.998586864796993, 0.998586864796993, 0.998586864796993, 0.9986646680906548, 0.9986646680906548, 0.9986646680906548, 0.9986646680906548, 0.9986646680906548, 0.9986646680906548, 0.9987272841625746, 0.9987272841625746, 0.9987272841625746, 0.9987272841625746, 0.9987272841625746, 0.9987272841625746, 0.9987272841625746, 0.9987272841625746, 0.9987272841625746, 0.9987272841625746, 0.9987272841625746, 0.9987272841625746, 0.9987272841625746, 0.9987272841625746, 0.9987272841625746, 0.9987272841625746, 0.9987272841625746, 0.9987272841625746]}], \"matthews_correlation\": [{\"categories\": [\"0\", \"1\", \"2\", \"3\", \"4\", \"5\", \"6\", \"7\", \"8\", \"9\", \"10\", \"11\", \"12\", \"13\", \"14\", \"15\", \"16\", \"17\", \"18\", \"19\", \"20\", \"21\", \"22\", \"23\", \"24\", \"25\", \"26\", \"27\", \"28\", \"29\", \"30\", \"31\", \"32\", \"33\", \"34\", \"36\", \"37\"], \"mode\": \"markers\", \"name\": \"matthews_correlation\", \"stepped\": false, \"type\": \"scatter\", \"data\": [0.9649124117258856, 0.9135700134664907, 0.4848167370096309, 0.3832208649339205, 0.7251526014287202, 0.38152909928160755, 0.8927986675984442, 0.9709260173946985, 0.9563138160725476, 0.9632227732776123, 0.8321210214329641, 0.5225991306782466, 0.2899330312337561, 0.9814584448728518, 0.5419428694623366, 0.42809993051270845, 0.9588424047098522, 0.950049560770517, 0.9630002187372464, 0.9793310323876, 0.8878345658194539, 0.6393153461227874, 0.5754284352270844, 0.34611881251167265, 0.36156916220052693, 0.0, 0.9724301252125221, 0.9793310323876, 0.972294332150065, 0.44091261039420315, 0.9026294968833365, 0.97222401539078, 0.7825494514507583, 0.41620711165563906, 0.930572568398434, 0.9814584448728518, 0.977214403369337]}, {\"categories\": [\"0\", \"1\", \"2\", \"3\", \"4\", \"5\", \"6\", \"7\", \"8\", \"9\", \"10\", \"11\", \"12\", \"13\", \"14\", \"15\", \"16\", \"17\", \"18\", \"19\", \"20\", \"21\", \"22\", \"23\", \"24\", \"25\", \"26\", \"27\", \"28\", \"29\", \"30\", \"31\", \"32\", \"33\", \"34\", \"36\", \"37\"], \"mode\": \"lines\", \"name\": \"matthews_correlation_max\", \"stepped\": true, \"type\": \"scatter\", \"data\": [0.9649124117258856, 0.9649124117258856, 0.9649124117258856, 0.9649124117258856, 0.9649124117258856, 0.9649124117258856, 0.9649124117258856, 0.9709260173946985, 0.9709260173946985, 0.9709260173946985, 0.9709260173946985, 0.9709260173946985, 0.9709260173946985, 0.9814584448728518, 0.9814584448728518, 0.9814584448728518, 0.9814584448728518, 0.9814584448728518, 0.9814584448728518, 0.9814584448728518, 0.9814584448728518, 0.9814584448728518, 0.9814584448728518, 0.9814584448728518, 0.9814584448728518, 0.9814584448728518, 0.9814584448728518, 0.9814584448728518, 0.9814584448728518, 0.9814584448728518, 0.9814584448728518, 0.9814584448728518, 0.9814584448728518, 0.9814584448728518, 0.9814584448728518, 0.9814584448728518, 0.9814584448728518]}], \"recall_score_weighted\": [{\"categories\": [\"0\", \"1\", \"2\", \"3\", \"4\", \"5\", \"6\", \"7\", \"8\", \"9\", \"10\", \"11\", \"12\", \"13\", \"14\", \"15\", \"16\", \"17\", \"18\", \"19\", \"20\", \"21\", \"22\", \"23\", \"24\", \"25\", \"26\", \"27\", \"28\", \"29\", \"30\", \"31\", \"32\", \"33\", \"34\", \"36\", \"37\"], \"mode\": \"markers\", \"name\": \"recall_score_weighted\", \"stepped\": false, \"type\": \"scatter\", \"data\": [0.9843226987447699, 0.9603425732217573, 0.772489539748954, 0.7307487796373779, 0.8685451534170153, 0.6931528940027895, 0.9519918061366807, 0.9864365411436542, 0.9801691073919108, 0.9832941073919108, 0.9217834728033473, 0.7850331241283124, 0.6973369944211995, 0.9916448744769875, 0.7934013249651325, 0.7506014644351464, 0.9812151324965133, 0.977035390516039, 0.9832941073919108, 0.9906032078103209, 0.9468139818688982, 0.8362055439330545, 0.8048596582984658, 0.6993985355648535, 0.7234571129707112, 0.6534998256624825, 0.987469490934449, 0.9906032078103209, 0.9874651324965134, 0.7537221059972106, 0.9541056485355649, 0.987469490934449, 0.9008760460251046, 0.7244595536959553, 0.9686759065550906, 0.9916448744769875, 0.9895615411436541]}, {\"categories\": [\"0\", \"1\", \"2\", \"3\", \"4\", \"5\", \"6\", \"7\", \"8\", \"9\", \"10\", \"11\", \"12\", \"13\", \"14\", \"15\", \"16\", \"17\", \"18\", \"19\", \"20\", \"21\", \"22\", \"23\", \"24\", \"25\", \"26\", \"27\", \"28\", \"29\", \"30\", \"31\", \"32\", \"33\", \"34\", \"36\", \"37\"], \"mode\": \"lines\", \"name\": \"recall_score_weighted_max\", \"stepped\": true, \"type\": \"scatter\", \"data\": [0.9843226987447699, 0.9843226987447699, 0.9843226987447699, 0.9843226987447699, 0.9843226987447699, 0.9843226987447699, 0.9843226987447699, 0.9864365411436542, 0.9864365411436542, 0.9864365411436542, 0.9864365411436542, 0.9864365411436542, 0.9864365411436542, 0.9916448744769875, 0.9916448744769875, 0.9916448744769875, 0.9916448744769875, 0.9916448744769875, 0.9916448744769875, 0.9916448744769875, 0.9916448744769875, 0.9916448744769875, 0.9916448744769875, 0.9916448744769875, 0.9916448744769875, 0.9916448744769875, 0.9916448744769875, 0.9916448744769875, 0.9916448744769875, 0.9916448744769875, 0.9916448744769875, 0.9916448744769875, 0.9916448744769875, 0.9916448744769875, 0.9916448744769875, 0.9916448744769875, 0.9916448744769875]}], \"AUC_micro\": [{\"categories\": [\"0\", \"1\", \"2\", \"3\", \"4\", \"5\", \"6\", \"7\", \"8\", \"9\", \"10\", \"11\", \"12\", \"13\", \"14\", \"15\", \"16\", \"17\", \"18\", \"19\", \"20\", \"21\", \"22\", \"23\", \"24\", \"25\", \"26\", \"27\", \"28\", \"29\", \"30\", \"31\", \"32\", \"33\", \"34\", \"36\", \"37\"], \"mode\": \"markers\", \"name\": \"AUC_micro\", \"stepped\": false, \"type\": \"scatter\", \"data\": [0.9985352336396276, 0.993382505038646, 0.8768604797758754, 0.8221535629196743, 0.9471433335077925, 0.7564867174324388, 0.9873866069852447, 0.9982757268804623, 0.9981013150507501, 0.9980796864544612, 0.9756519426840489, 0.8758505506828583, 0.7837549168438004, 0.9986978985065086, 0.888284854829368, 0.8493652933575218, 0.9970834425982174, 0.9958819318159161, 0.9960516030085501, 0.9989029834510659, 0.9852253215913247, 0.9294562650356991, 0.8885001580161704, 0.7645507259716946, 0.8074862905243547, 0.6534998256624825, 0.9973099013649631, 0.9986761243250195, 0.9983728963394471, 0.8457331906233648, 0.9932498399170668, 0.9946731599337615, 0.963923875459186, 0.8220400243957029, 0.9975213647801013, 0.9984102026989734, 0.9985171354844443]}, {\"categories\": [\"0\", \"1\", \"2\", \"3\", \"4\", \"5\", \"6\", \"7\", \"8\", \"9\", \"10\", \"11\", \"12\", \"13\", \"14\", \"15\", \"16\", \"17\", \"18\", \"19\", \"20\", \"21\", \"22\", \"23\", \"24\", \"25\", \"26\", \"27\", \"28\", \"29\", \"30\", \"31\", \"32\", \"33\", \"34\", \"36\", \"37\"], \"mode\": \"lines\", \"name\": \"AUC_micro_max\", \"stepped\": true, \"type\": \"scatter\", \"data\": [0.9985352336396276, 0.9985352336396276, 0.9985352336396276, 0.9985352336396276, 0.9985352336396276, 0.9985352336396276, 0.9985352336396276, 0.9985352336396276, 0.9985352336396276, 0.9985352336396276, 0.9985352336396276, 0.9985352336396276, 0.9985352336396276, 0.9986978985065086, 0.9986978985065086, 0.9986978985065086, 0.9986978985065086, 0.9986978985065086, 0.9986978985065086, 0.9989029834510659, 0.9989029834510659, 0.9989029834510659, 0.9989029834510659, 0.9989029834510659, 0.9989029834510659, 0.9989029834510659, 0.9989029834510659, 0.9989029834510659, 0.9989029834510659, 0.9989029834510659, 0.9989029834510659, 0.9989029834510659, 0.9989029834510659, 0.9989029834510659, 0.9989029834510659, 0.9989029834510659, 0.9989029834510659]}], \"f1_score_macro\": [{\"categories\": [\"0\", \"1\", \"2\", \"3\", \"4\", \"5\", \"6\", \"7\", \"8\", \"9\", \"10\", \"11\", \"12\", \"13\", \"14\", \"15\", \"16\", \"17\", \"18\", \"19\", \"20\", \"21\", \"22\", \"23\", \"24\", \"25\", \"26\", \"27\", \"28\", \"29\", \"30\", \"31\", \"32\", \"33\", \"34\", \"36\", \"37\"], \"mode\": \"markers\", \"name\": \"f1_score_macro\", \"stepped\": false, \"type\": \"scatter\", \"data\": [0.9823050020092863, 0.9556105028445295, 0.69712269306463, 0.6469923867585827, 0.8586227860081976, 0.6787947096280931, 0.9454414956228469, 0.9851577333704313, 0.9778469946361648, 0.9812375270332571, 0.9101056873927142, 0.7170302632056247, 0.6059413875108964, 0.9906314501843543, 0.7362398953094502, 0.6969407277793516, 0.9791500450579524, 0.9743579649406853, 0.9811701030614725, 0.9895446104618881, 0.9400362313525256, 0.8040229564274926, 0.7448038468124446, 0.6698931162612054, 0.603973402288823, 0.39486626213341564, 0.9859912000944994, 0.9895446104618881, 0.9860537209570079, 0.7031488023293129, 0.9486816063384965, 0.9859052611486843, 0.8862339066758518, 0.7047156614158154, 0.96525591904367, 0.9906314501843543, 0.9884539580745169]}, {\"categories\": [\"0\", \"1\", \"2\", \"3\", \"4\", \"5\", \"6\", \"7\", \"8\", \"9\", \"10\", \"11\", \"12\", \"13\", \"14\", \"15\", \"16\", \"17\", \"18\", \"19\", \"20\", \"21\", \"22\", \"23\", \"24\", \"25\", \"26\", \"27\", \"28\", \"29\", \"30\", \"31\", \"32\", \"33\", \"34\", \"36\", \"37\"], \"mode\": \"lines\", \"name\": \"f1_score_macro_max\", \"stepped\": true, \"type\": \"scatter\", \"data\": [0.9823050020092863, 0.9823050020092863, 0.9823050020092863, 0.9823050020092863, 0.9823050020092863, 0.9823050020092863, 0.9823050020092863, 0.9851577333704313, 0.9851577333704313, 0.9851577333704313, 0.9851577333704313, 0.9851577333704313, 0.9851577333704313, 0.9906314501843543, 0.9906314501843543, 0.9906314501843543, 0.9906314501843543, 0.9906314501843543, 0.9906314501843543, 0.9906314501843543, 0.9906314501843543, 0.9906314501843543, 0.9906314501843543, 0.9906314501843543, 0.9906314501843543, 0.9906314501843543, 0.9906314501843543, 0.9906314501843543, 0.9906314501843543, 0.9906314501843543, 0.9906314501843543, 0.9906314501843543, 0.9906314501843543, 0.9906314501843543, 0.9906314501843543, 0.9906314501843543, 0.9906314501843543]}], \"f1_score_micro\": [{\"categories\": [\"0\", \"1\", \"2\", \"3\", \"4\", \"5\", \"6\", \"7\", \"8\", \"9\", \"10\", \"11\", \"12\", \"13\", \"14\", \"15\", \"16\", \"17\", \"18\", \"19\", \"20\", \"21\", \"22\", \"23\", \"24\", \"25\", \"26\", \"27\", \"28\", \"29\", \"30\", \"31\", \"32\", \"33\", \"34\", \"36\", \"37\"], \"mode\": \"markers\", \"name\": \"f1_score_micro\", \"stepped\": false, \"type\": \"scatter\", \"data\": [0.9843226987447699, 0.9603425732217573, 0.772489539748954, 0.7307487796373779, 0.8685451534170153, 0.6931528940027895, 0.9519918061366807, 0.9864365411436542, 0.9801691073919108, 0.9832941073919108, 0.9217834728033473, 0.7850331241283125, 0.6973369944211995, 0.9916448744769875, 0.7934013249651325, 0.7506014644351464, 0.9812151324965133, 0.977035390516039, 0.9832941073919108, 0.9906032078103209, 0.9468139818688982, 0.8362055439330545, 0.8048596582984657, 0.6993985355648535, 0.7234571129707112, 0.6534998256624825, 0.987469490934449, 0.9906032078103209, 0.9874651324965134, 0.7537221059972106, 0.9541056485355649, 0.987469490934449, 0.9008760460251046, 0.7244595536959554, 0.9686759065550906, 0.9916448744769875, 0.9895615411436541]}, {\"categories\": [\"0\", \"1\", \"2\", \"3\", \"4\", \"5\", \"6\", \"7\", \"8\", \"9\", \"10\", \"11\", \"12\", \"13\", \"14\", \"15\", \"16\", \"17\", \"18\", \"19\", \"20\", \"21\", \"22\", \"23\", \"24\", \"25\", \"26\", \"27\", \"28\", \"29\", \"30\", \"31\", \"32\", \"33\", \"34\", \"36\", \"37\"], \"mode\": \"lines\", \"name\": \"f1_score_micro_max\", \"stepped\": true, \"type\": \"scatter\", \"data\": [0.9843226987447699, 0.9843226987447699, 0.9843226987447699, 0.9843226987447699, 0.9843226987447699, 0.9843226987447699, 0.9843226987447699, 0.9864365411436542, 0.9864365411436542, 0.9864365411436542, 0.9864365411436542, 0.9864365411436542, 0.9864365411436542, 0.9916448744769875, 0.9916448744769875, 0.9916448744769875, 0.9916448744769875, 0.9916448744769875, 0.9916448744769875, 0.9916448744769875, 0.9916448744769875, 0.9916448744769875, 0.9916448744769875, 0.9916448744769875, 0.9916448744769875, 0.9916448744769875, 0.9916448744769875, 0.9916448744769875, 0.9916448744769875, 0.9916448744769875, 0.9916448744769875, 0.9916448744769875, 0.9916448744769875, 0.9916448744769875, 0.9916448744769875, 0.9916448744769875, 0.9916448744769875]}], \"log_loss\": [{\"categories\": [\"0\", \"1\", \"2\", \"3\", \"4\", \"5\", \"6\", \"7\", \"8\", \"9\", \"10\", \"11\", \"12\", \"13\", \"14\", \"15\", \"16\", \"17\", \"18\", \"19\", \"20\", \"21\", \"22\", \"23\", \"24\", \"25\", \"26\", \"27\", \"28\", \"29\", \"30\", \"31\", \"32\", \"33\", \"34\", \"36\", \"37\"], \"mode\": \"markers\", \"name\": \"log_loss\", \"stepped\": false, \"type\": \"scatter\", \"data\": [0.053886925959110085, 0.18405554616667102, 0.4780498965904622, 0.530967557252913, 0.4461703511363043, 0.6249516471316802, 0.17186336376624273, 0.11094532962675975, 0.07848415798886883, 0.060859668386748486, 0.30322416769625216, 0.48116578645156993, 0.5970180182361121, 0.09175215208274806, 0.43152156888975823, 0.48787201779469686, 0.1475495873938237, 0.10195621988067934, 0.10538419796919177, 0.08906910140702007, 0.2435591515900385, 0.4010038825691824, 0.44663046696269176, 0.5925863864471849, 0.5542283200377933, 0.647593821419246, 0.09887519230649683, 0.06758813440065295, 0.06275999057143598, 0.49039604932839004, 0.23243557113805577, 0.15846828697210041, 0.3128520161786208, 0.5422296786869756, 0.059991698688456066, 0.0910713596549438, 0.0668446011839313]}, {\"categories\": [\"0\", \"1\", \"2\", \"3\", \"4\", \"5\", \"6\", \"7\", \"8\", \"9\", \"10\", \"11\", \"12\", \"13\", \"14\", \"15\", \"16\", \"17\", \"18\", \"19\", \"20\", \"21\", \"22\", \"23\", \"24\", \"25\", \"26\", \"27\", \"28\", \"29\", \"30\", \"31\", \"32\", \"33\", \"34\", \"36\", \"37\"], \"mode\": \"lines\", \"name\": \"log_loss_min\", \"stepped\": true, \"type\": \"scatter\", \"data\": [0.053886925959110085, 0.053886925959110085, 0.053886925959110085, 0.053886925959110085, 0.053886925959110085, 0.053886925959110085, 0.053886925959110085, 0.053886925959110085, 0.053886925959110085, 0.053886925959110085, 0.053886925959110085, 0.053886925959110085, 0.053886925959110085, 0.053886925959110085, 0.053886925959110085, 0.053886925959110085, 0.053886925959110085, 0.053886925959110085, 0.053886925959110085, 0.053886925959110085, 0.053886925959110085, 0.053886925959110085, 0.053886925959110085, 0.053886925959110085, 0.053886925959110085, 0.053886925959110085, 0.053886925959110085, 0.053886925959110085, 0.053886925959110085, 0.053886925959110085, 0.053886925959110085, 0.053886925959110085, 0.053886925959110085, 0.053886925959110085, 0.053886925959110085, 0.053886925959110085, 0.053886925959110085]}], \"weighted_accuracy\": [{\"categories\": [\"0\", \"1\", \"2\", \"3\", \"4\", \"5\", \"6\", \"7\", \"8\", \"9\", \"10\", \"11\", \"12\", \"13\", \"14\", \"15\", \"16\", \"17\", \"18\", \"19\", \"20\", \"21\", \"22\", \"23\", \"24\", \"25\", \"26\", \"27\", \"28\", \"29\", \"30\", \"31\", \"32\", \"33\", \"34\", \"36\", \"37\"], \"mode\": \"markers\", \"name\": \"weighted_accuracy\", \"stepped\": false, \"type\": \"scatter\", \"data\": [0.9882448155888092, 0.9698931234729117, 0.8423329741493215, 0.7954492997014964, 0.866785147545084, 0.6894632781527226, 0.9631703980554637, 0.990575355326562, 0.9855221635155217, 0.9892114217485389, 0.9431518697683781, 0.850860170884799, 0.7665145616698712, 0.9946905125423643, 0.8490534975386229, 0.8006242506574153, 0.9858276340455541, 0.9841377689390434, 0.9887367509256271, 0.9938674810992038, 0.9613081591380926, 0.8723953338098418, 0.8676928593911444, 0.7201230933204374, 0.8108852131552339, 0.7763644954520676, 0.9919246723697163, 0.9938674810992038, 0.990711901460661, 0.8001962420468617, 0.9657086648110825, 0.992044506609259, 0.9212743344985895, 0.7321681822093713, 0.9707027553157164, 0.9946905125423643, 0.9930444496560434]}, {\"categories\": [\"0\", \"1\", \"2\", \"3\", \"4\", \"5\", \"6\", \"7\", \"8\", \"9\", \"10\", \"11\", \"12\", \"13\", \"14\", \"15\", \"16\", \"17\", \"18\", \"19\", \"20\", \"21\", \"22\", \"23\", \"24\", \"25\", \"26\", \"27\", \"28\", \"29\", \"30\", \"31\", \"32\", \"33\", \"34\", \"36\", \"37\"], \"mode\": \"lines\", \"name\": \"weighted_accuracy_max\", \"stepped\": true, \"type\": \"scatter\", \"data\": [0.9882448155888092, 0.9882448155888092, 0.9882448155888092, 0.9882448155888092, 0.9882448155888092, 0.9882448155888092, 0.9882448155888092, 0.990575355326562, 0.990575355326562, 0.990575355326562, 0.990575355326562, 0.990575355326562, 0.990575355326562, 0.9946905125423643, 0.9946905125423643, 0.9946905125423643, 0.9946905125423643, 0.9946905125423643, 0.9946905125423643, 0.9946905125423643, 0.9946905125423643, 0.9946905125423643, 0.9946905125423643, 0.9946905125423643, 0.9946905125423643, 0.9946905125423643, 0.9946905125423643, 0.9946905125423643, 0.9946905125423643, 0.9946905125423643, 0.9946905125423643, 0.9946905125423643, 0.9946905125423643, 0.9946905125423643, 0.9946905125423643, 0.9946905125423643, 0.9946905125423643]}], \"f1_score_weighted\": [{\"categories\": [\"0\", \"1\", \"2\", \"3\", \"4\", \"5\", \"6\", \"7\", \"8\", \"9\", \"10\", \"11\", \"12\", \"13\", \"14\", \"15\", \"16\", \"17\", \"18\", \"19\", \"20\", \"21\", \"22\", \"23\", \"24\", \"25\", \"26\", \"27\", \"28\", \"29\", \"30\", \"31\", \"32\", \"33\", \"34\", \"36\", \"37\"], \"mode\": \"markers\", \"name\": \"f1_score_weighted\", \"stepped\": false, \"type\": \"scatter\", \"data\": [0.9842452641798589, 0.9599529823409276, 0.742970626859888, 0.6978092742859162, 0.8698436328638884, 0.699206160170364, 0.9515206687760756, 0.986364466946543, 0.9800701329884285, 0.9831872068450025, 0.9193721654356656, 0.7583949019220976, 0.6631167274393144, 0.991616676236553, 0.7728349172753924, 0.7360599808280931, 0.9811371449757917, 0.9768441089358294, 0.9831924893475086, 0.9905705092070636, 0.945584390311105, 0.8269445029283655, 0.7823004550548336, 0.7006140725303549, 0.669243439915393, 0.5172671270581338, 0.9874050257540121, 0.9905705092070636, 0.9874279412485886, 0.7405638185983734, 0.9532909004119624, 0.9874090607142776, 0.8985960787975361, 0.7290050538329759, 0.968704820517298, 0.991616676236553, 0.9895223297599578]}, {\"categories\": [\"0\", \"1\", \"2\", \"3\", \"4\", \"5\", \"6\", \"7\", \"8\", \"9\", \"10\", \"11\", \"12\", \"13\", \"14\", \"15\", \"16\", \"17\", \"18\", \"19\", \"20\", \"21\", \"22\", \"23\", \"24\", \"25\", \"26\", \"27\", \"28\", \"29\", \"30\", \"31\", \"32\", \"33\", \"34\", \"36\", \"37\"], \"mode\": \"lines\", \"name\": \"f1_score_weighted_max\", \"stepped\": true, \"type\": \"scatter\", \"data\": [0.9842452641798589, 0.9842452641798589, 0.9842452641798589, 0.9842452641798589, 0.9842452641798589, 0.9842452641798589, 0.9842452641798589, 0.986364466946543, 0.986364466946543, 0.986364466946543, 0.986364466946543, 0.986364466946543, 0.986364466946543, 0.991616676236553, 0.991616676236553, 0.991616676236553, 0.991616676236553, 0.991616676236553, 0.991616676236553, 0.991616676236553, 0.991616676236553, 0.991616676236553, 0.991616676236553, 0.991616676236553, 0.991616676236553, 0.991616676236553, 0.991616676236553, 0.991616676236553, 0.991616676236553, 0.991616676236553, 0.991616676236553, 0.991616676236553, 0.991616676236553, 0.991616676236553, 0.991616676236553, 0.991616676236553, 0.991616676236553]}], \"precision_score_micro\": [{\"categories\": [\"0\", \"1\", \"2\", \"3\", \"4\", \"5\", \"6\", \"7\", \"8\", \"9\", \"10\", \"11\", \"12\", \"13\", \"14\", \"15\", \"16\", \"17\", \"18\", \"19\", \"20\", \"21\", \"22\", \"23\", \"24\", \"25\", \"26\", \"27\", \"28\", \"29\", \"30\", \"31\", \"32\", \"33\", \"34\", \"36\", \"37\"], \"mode\": \"markers\", \"name\": \"precision_score_micro\", \"stepped\": false, \"type\": \"scatter\", \"data\": [0.9843226987447699, 0.9603425732217573, 0.772489539748954, 0.7307487796373779, 0.8685451534170153, 0.6931528940027895, 0.9519918061366807, 0.9864365411436542, 0.9801691073919108, 0.9832941073919108, 0.9217834728033473, 0.7850331241283124, 0.6973369944211995, 0.9916448744769875, 0.7934013249651325, 0.7506014644351464, 0.9812151324965133, 0.977035390516039, 0.9832941073919108, 0.9906032078103209, 0.9468139818688982, 0.8362055439330545, 0.8048596582984658, 0.6993985355648535, 0.7234571129707112, 0.6534998256624825, 0.987469490934449, 0.9906032078103209, 0.9874651324965134, 0.7537221059972106, 0.9541056485355649, 0.987469490934449, 0.9008760460251046, 0.7244595536959553, 0.9686759065550906, 0.9916448744769875, 0.9895615411436541]}, {\"categories\": [\"0\", \"1\", \"2\", \"3\", \"4\", \"5\", \"6\", \"7\", \"8\", \"9\", \"10\", \"11\", \"12\", \"13\", \"14\", \"15\", \"16\", \"17\", \"18\", \"19\", \"20\", \"21\", \"22\", \"23\", \"24\", \"25\", \"26\", \"27\", \"28\", \"29\", \"30\", \"31\", \"32\", \"33\", \"34\", \"36\", \"37\"], \"mode\": \"lines\", \"name\": \"precision_score_micro_max\", \"stepped\": true, \"type\": \"scatter\", \"data\": [0.9843226987447699, 0.9843226987447699, 0.9843226987447699, 0.9843226987447699, 0.9843226987447699, 0.9843226987447699, 0.9843226987447699, 0.9864365411436542, 0.9864365411436542, 0.9864365411436542, 0.9864365411436542, 0.9864365411436542, 0.9864365411436542, 0.9916448744769875, 0.9916448744769875, 0.9916448744769875, 0.9916448744769875, 0.9916448744769875, 0.9916448744769875, 0.9916448744769875, 0.9916448744769875, 0.9916448744769875, 0.9916448744769875, 0.9916448744769875, 0.9916448744769875, 0.9916448744769875, 0.9916448744769875, 0.9916448744769875, 0.9916448744769875, 0.9916448744769875, 0.9916448744769875, 0.9916448744769875, 0.9916448744769875, 0.9916448744769875, 0.9916448744769875, 0.9916448744769875, 0.9916448744769875]}], \"average_precision_score_micro\": [{\"categories\": [\"0\", \"1\", \"2\", \"3\", \"4\", \"5\", \"6\", \"7\", \"8\", \"9\", \"10\", \"11\", \"12\", \"13\", \"14\", \"15\", \"16\", \"17\", \"18\", \"19\", \"20\", \"21\", \"22\", \"23\", \"24\", \"25\", \"26\", \"27\", \"28\", \"29\", \"30\", \"31\", \"32\", \"33\", \"34\", \"36\", \"37\"], \"mode\": \"markers\", \"name\": \"average_precision_score_micro\", \"stepped\": false, \"type\": \"scatter\", \"data\": [0.9985716835879372, 0.9935688836815564, 0.885067639107717, 0.8306630808592954, 0.950152156793372, 0.7622478931312053, 0.9875175990794964, 0.9983210822548594, 0.9981456688210639, 0.9981251680630161, 0.9767686076957842, 0.8841014309625888, 0.7900928681796379, 0.9987298848399786, 0.8980293809944193, 0.8590329878060197, 0.9971668275524859, 0.9958837561711694, 0.9960988784348392, 0.9989282764990848, 0.9856961108074389, 0.9346059853081535, 0.8968377157994476, 0.7599698120407472, 0.8190928037155811, 0.6019018992972277, 0.9973805324928873, 0.9987095487682043, 0.9984160008690263, 0.8556806903636658, 0.9935458797821826, 0.994727054053272, 0.9646871385641229, 0.8319677523733366, 0.9975835290347744, 0.9984516557930309, 0.9985540201647343]}, {\"categories\": [\"0\", \"1\", \"2\", \"3\", \"4\", \"5\", \"6\", \"7\", \"8\", \"9\", \"10\", \"11\", \"12\", \"13\", \"14\", \"15\", \"16\", \"17\", \"18\", \"19\", \"20\", \"21\", \"22\", \"23\", \"24\", \"25\", \"26\", \"27\", \"28\", \"29\", \"30\", \"31\", \"32\", \"33\", \"34\", \"36\", \"37\"], \"mode\": \"lines\", \"name\": \"average_precision_score_micro_max\", \"stepped\": true, \"type\": \"scatter\", \"data\": [0.9985716835879372, 0.9985716835879372, 0.9985716835879372, 0.9985716835879372, 0.9985716835879372, 0.9985716835879372, 0.9985716835879372, 0.9985716835879372, 0.9985716835879372, 0.9985716835879372, 0.9985716835879372, 0.9985716835879372, 0.9985716835879372, 0.9987298848399786, 0.9987298848399786, 0.9987298848399786, 0.9987298848399786, 0.9987298848399786, 0.9987298848399786, 0.9989282764990848, 0.9989282764990848, 0.9989282764990848, 0.9989282764990848, 0.9989282764990848, 0.9989282764990848, 0.9989282764990848, 0.9989282764990848, 0.9989282764990848, 0.9989282764990848, 0.9989282764990848, 0.9989282764990848, 0.9989282764990848, 0.9989282764990848, 0.9989282764990848, 0.9989282764990848, 0.9989282764990848, 0.9989282764990848]}], \"precision_score_macro\": [{\"categories\": [\"0\", \"1\", \"2\", \"3\", \"4\", \"5\", \"6\", \"7\", \"8\", \"9\", \"10\", \"11\", \"12\", \"13\", \"14\", \"15\", \"16\", \"17\", \"18\", \"19\", \"20\", \"21\", \"22\", \"23\", \"24\", \"25\", \"26\", \"27\", \"28\", \"29\", \"30\", \"31\", \"32\", \"33\", \"34\", \"36\", \"37\"], \"mode\": \"markers\", \"name\": \"precision_score_macro\", \"stepped\": false, \"type\": \"scatter\", \"data\": [0.9855328032493126, 0.9649902274433815, 0.8170309303726139, 0.747741102373523, 0.854065313028562, 0.6837258818968011, 0.9552321645598074, 0.9895319285432294, 0.9829656426154936, 0.9874305028531278, 0.937448264255936, 0.8363661085672345, 0.6914261233831861, 0.9936683006535948, 0.8291043868134138, 0.7432788544102648, 0.9833734246981678, 0.981734421828798, 0.9864800772204639, 0.9928182048681542, 0.9589382954471393, 0.850852514964584, 0.8659589039099982, 0.6719320017335422, 0.7873505771993901, 0.3267499128312413, 0.9905323851457402, 0.9928182048681542, 0.9888923007801038, 0.7484039443662391, 0.9626848104693764, 0.9905624255541403, 0.9071582183071735, 0.7013166490063594, 0.9644646762159015, 0.9936683006535948, 0.9919797542304593]}, {\"categories\": [\"0\", \"1\", \"2\", \"3\", \"4\", \"5\", \"6\", \"7\", \"8\", \"9\", \"10\", \"11\", \"12\", \"13\", \"14\", \"15\", \"16\", \"17\", \"18\", \"19\", \"20\", \"21\", \"22\", \"23\", \"24\", \"25\", \"26\", \"27\", \"28\", \"29\", \"30\", \"31\", \"32\", \"33\", \"34\", \"36\", \"37\"], \"mode\": \"lines\", \"name\": \"precision_score_macro_max\", \"stepped\": true, \"type\": \"scatter\", \"data\": [0.9855328032493126, 0.9855328032493126, 0.9855328032493126, 0.9855328032493126, 0.9855328032493126, 0.9855328032493126, 0.9855328032493126, 0.9895319285432294, 0.9895319285432294, 0.9895319285432294, 0.9895319285432294, 0.9895319285432294, 0.9895319285432294, 0.9936683006535948, 0.9936683006535948, 0.9936683006535948, 0.9936683006535948, 0.9936683006535948, 0.9936683006535948, 0.9936683006535948, 0.9936683006535948, 0.9936683006535948, 0.9936683006535948, 0.9936683006535948, 0.9936683006535948, 0.9936683006535948, 0.9936683006535948, 0.9936683006535948, 0.9936683006535948, 0.9936683006535948, 0.9936683006535948, 0.9936683006535948, 0.9936683006535948, 0.9936683006535948, 0.9936683006535948, 0.9936683006535948, 0.9936683006535948]}], \"recall_score_macro\": [{\"categories\": [\"0\", \"1\", \"2\", \"3\", \"4\", \"5\", \"6\", \"7\", \"8\", \"9\", \"10\", \"11\", \"12\", \"13\", \"14\", \"15\", \"16\", \"17\", \"18\", \"19\", \"20\", \"21\", \"22\", \"23\", \"24\", \"25\", \"26\", \"27\", \"28\", \"29\", \"30\", \"31\", \"32\", \"33\", \"34\", \"36\", \"37\"], \"mode\": \"markers\", \"name\": \"recall_score_macro\", \"stepped\": false, \"type\": \"scatter\", \"data\": [0.9794090334765497, 0.9487472554829175, 0.6859232221432499, 0.6524186864839884, 0.8715967233614725, 0.698273688072439, 0.9378038125183561, 0.9814339212026146, 0.9734192157517005, 0.9758718244858664, 0.8959353837662023, 0.7039073568024209, 0.612559047437626, 0.9878114722230229, 0.725587762491102, 0.6890645141402014, 0.9755127625179948, 0.9684382927344253, 0.9765891140385566, 0.9865359620189411, 0.9295964675689525, 0.7926230696759116, 0.7272690170217317, 0.6745044307715002, 0.6150293037631933, 0.5, 0.981943971654593, 0.9865359620189411, 0.9834192150871406, 0.6970337888220528, 0.9403528840419009, 0.9817077985182139, 0.8763455013797166, 0.7152556611880361, 0.9661131859909198, 0.9878114722230229, 0.9852604518148596]}, {\"categories\": [\"0\", \"1\", \"2\", \"3\", \"4\", \"5\", \"6\", \"7\", \"8\", \"9\", \"10\", \"11\", \"12\", \"13\", \"14\", \"15\", \"16\", \"17\", \"18\", \"19\", \"20\", \"21\", \"22\", \"23\", \"24\", \"25\", \"26\", \"27\", \"28\", \"29\", \"30\", \"31\", \"32\", \"33\", \"34\", \"36\", \"37\"], \"mode\": \"lines\", \"name\": \"recall_score_macro_max\", \"stepped\": true, \"type\": \"scatter\", \"data\": [0.9794090334765497, 0.9794090334765497, 0.9794090334765497, 0.9794090334765497, 0.9794090334765497, 0.9794090334765497, 0.9794090334765497, 0.9814339212026146, 0.9814339212026146, 0.9814339212026146, 0.9814339212026146, 0.9814339212026146, 0.9814339212026146, 0.9878114722230229, 0.9878114722230229, 0.9878114722230229, 0.9878114722230229, 0.9878114722230229, 0.9878114722230229, 0.9878114722230229, 0.9878114722230229, 0.9878114722230229, 0.9878114722230229, 0.9878114722230229, 0.9878114722230229, 0.9878114722230229, 0.9878114722230229, 0.9878114722230229, 0.9878114722230229, 0.9878114722230229, 0.9878114722230229, 0.9878114722230229, 0.9878114722230229, 0.9878114722230229, 0.9878114722230229, 0.9878114722230229, 0.9878114722230229]}]}, \"metricName\": null, \"primaryMetricName\": \"accuracy\", \"showLegend\": false}, \"run_metrics\": [{\"name\": \"experiment_status\", \"run_id\": \"AutoML_217f0f70-4fe9-4b0e-8f7b-5282de6d783a\", \"categories\": [0, 1, 2, 3, 4, 5, 6, 7, 8, 9, 10, 11, 12, 13], \"series\": [{\"data\": [\"DatasetEvaluation\", \"FeaturesGeneration\", \"DatasetFeaturization\", \"DatasetFeaturizationCompleted\", \"DatasetCrossValidationSplit\", \"ModelSelection\", \"BestRunExplainModel\", \"ModelExplanationDataSetSetup\", \"PickSurrogateModel\", \"EngineeredFeatureExplanations\", \"EngineeredFeatureExplanations\", \"RawFeaturesExplanations\", \"RawFeaturesExplanations\", \"BestRunExplainModel\"]}]}, {\"name\": \"experiment_status_description\", \"run_id\": \"AutoML_217f0f70-4fe9-4b0e-8f7b-5282de6d783a\", \"categories\": [0, 1, 2, 3, 4, 5, 6, 7, 8, 9, 10, 11, 12, 13], \"series\": [{\"data\": [\"Gathering dataset statistics.\", \"Generating features for the dataset.\", \"Beginning to fit featurizers and featurize the dataset.\", \"Completed fit featurizers and featurizing the dataset.\", \"Generating individually featurized CV splits.\", \"Beginning model selection.\", \"Best run model explanations started\", \"Model explanations data setup completed\", \"Choosing LightGBM as the surrogate model for explanations\", \"Computation of engineered features started\", \"Computation of engineered features completed\", \"Computation of raw features started\", \"Computation of raw features completed\", \"Best run model explanations completed\"]}]}, {\"name\": \"precision_score_macro\", \"run_id\": \"AutoML_217f0f70-4fe9-4b0e-8f7b-5282de6d783a\", \"categories\": [0], \"series\": [{\"data\": [0.9936683006535948]}]}, {\"name\": \"recall_score_micro\", \"run_id\": \"AutoML_217f0f70-4fe9-4b0e-8f7b-5282de6d783a\", \"categories\": [0], \"series\": [{\"data\": [0.9916448744769875]}]}, {\"name\": \"precision_score_weighted\", \"run_id\": \"AutoML_217f0f70-4fe9-4b0e-8f7b-5282de6d783a\", \"categories\": [0], \"series\": [{\"data\": [0.9917637713463756]}]}, {\"name\": \"balanced_accuracy\", \"run_id\": \"AutoML_217f0f70-4fe9-4b0e-8f7b-5282de6d783a\", \"categories\": [0], \"series\": [{\"data\": [0.9878114722230229]}]}, {\"name\": \"average_precision_score_weighted\", \"run_id\": \"AutoML_217f0f70-4fe9-4b0e-8f7b-5282de6d783a\", \"categories\": [0], \"series\": [{\"data\": [0.9989284542044266]}]}, {\"name\": \"recall_score_macro\", \"run_id\": \"AutoML_217f0f70-4fe9-4b0e-8f7b-5282de6d783a\", \"categories\": [0], \"series\": [{\"data\": [0.9878114722230229]}]}, {\"name\": \"precision_score_micro\", \"run_id\": \"AutoML_217f0f70-4fe9-4b0e-8f7b-5282de6d783a\", \"categories\": [0], \"series\": [{\"data\": [0.9916448744769875]}]}, {\"name\": \"weighted_accuracy\", \"run_id\": \"AutoML_217f0f70-4fe9-4b0e-8f7b-5282de6d783a\", \"categories\": [0], \"series\": [{\"data\": [0.9946905125423643]}]}, {\"name\": \"f1_score_macro\", \"run_id\": \"AutoML_217f0f70-4fe9-4b0e-8f7b-5282de6d783a\", \"categories\": [0], \"series\": [{\"data\": [0.9906314501843543]}]}, {\"name\": \"AUC_micro\", \"run_id\": \"AutoML_217f0f70-4fe9-4b0e-8f7b-5282de6d783a\", \"categories\": [0], \"series\": [{\"data\": [0.9986978985065086]}]}, {\"name\": \"AUC_weighted\", \"run_id\": \"AutoML_217f0f70-4fe9-4b0e-8f7b-5282de6d783a\", \"categories\": [0], \"series\": [{\"data\": [0.998850354291223]}]}, {\"name\": \"log_loss\", \"run_id\": \"AutoML_217f0f70-4fe9-4b0e-8f7b-5282de6d783a\", \"categories\": [0], \"series\": [{\"data\": [0.09175215208274806]}]}, {\"name\": \"matthews_correlation\", \"run_id\": \"AutoML_217f0f70-4fe9-4b0e-8f7b-5282de6d783a\", \"categories\": [0], \"series\": [{\"data\": [0.9814584448728518]}]}, {\"name\": \"f1_score_weighted\", \"run_id\": \"AutoML_217f0f70-4fe9-4b0e-8f7b-5282de6d783a\", \"categories\": [0], \"series\": [{\"data\": [0.991616676236553]}]}, {\"name\": \"f1_score_micro\", \"run_id\": \"AutoML_217f0f70-4fe9-4b0e-8f7b-5282de6d783a\", \"categories\": [0], \"series\": [{\"data\": [0.9916448744769875]}]}, {\"name\": \"average_precision_score_micro\", \"run_id\": \"AutoML_217f0f70-4fe9-4b0e-8f7b-5282de6d783a\", \"categories\": [0], \"series\": [{\"data\": [0.9987298848399786]}]}, {\"name\": \"average_precision_score_macro\", \"run_id\": \"AutoML_217f0f70-4fe9-4b0e-8f7b-5282de6d783a\", \"categories\": [0], \"series\": [{\"data\": [0.9986646680906548]}]}, {\"name\": \"accuracy\", \"run_id\": \"AutoML_217f0f70-4fe9-4b0e-8f7b-5282de6d783a\", \"categories\": [0], \"series\": [{\"data\": [0.9916448744769875]}]}, {\"name\": \"recall_score_weighted\", \"run_id\": \"AutoML_217f0f70-4fe9-4b0e-8f7b-5282de6d783a\", \"categories\": [0], \"series\": [{\"data\": [0.9916448744769875]}]}, {\"name\": \"AUC_macro\", \"run_id\": \"AutoML_217f0f70-4fe9-4b0e-8f7b-5282de6d783a\", \"categories\": [0], \"series\": [{\"data\": [0.998850354291223]}]}, {\"name\": \"norm_macro_recall\", \"run_id\": \"AutoML_217f0f70-4fe9-4b0e-8f7b-5282de6d783a\", \"categories\": [0], \"series\": [{\"data\": [0.9756229444460457]}]}], \"run_logs\": \"\\nRun is completed.\", \"graph\": {}, \"widget_settings\": {\"childWidgetDisplay\": \"popup\", \"send_telemetry\": false, \"log_level\": \"INFO\", \"sdk_version\": \"1.24.0\"}, \"loading\": false}"
          },
          "metadata": {}
        }
      ],
      "execution_count": 9,
      "metadata": {
        "gather": {
          "logged": 1617616718469
        },
        "jupyter": {
          "outputs_hidden": false,
          "source_hidden": false
        },
        "nteract": {
          "transient": {
            "deleting": false
          }
        }
      }
    },
    {
      "cell_type": "markdown",
      "source": [
        "## Best Model\n",
        "\n",
        "TODO: In the cell below, get the best model from the automl experiments and display all the properties of the model.\n",
        "\n"
      ],
      "metadata": {}
    },
    {
      "cell_type": "code",
      "source": [
        "bestRun, bestModel = remote_run.get_output()\r\n",
        "model_name = bestRun.properties['model_name']\r\n",
        "\r\n",
        "print('Best model: {}\\n\\n\\nProperties of best model:{}'.format(model_name,bestModel))"
      ],
      "outputs": [
        {
          "output_type": "error",
          "ename": "ConfigException",
          "evalue": "ConfigException:\n\tMessage: The model you attempted to retrieve requires 'xgboost' to be installed at '==0.90'. You have 'xgboost==1.3.3', please reinstall 'xgboost==0.90' (e.g. `pip install xgboost==0.90`) and rerun the previous command.\n\tInnerException: XGBoostError: [09:53:43] /mnt/xgboost/src/learner.cc:922: Check failed: header == serialisation_header_: \n\n  If you are loading a serialized model (like pickle in Python) generated by older\n  XGBoost, please export the model by calling `Booster.save_model` from that version\n  first, then load it back in current version.  There's a simple script for helping\n  the process. See:\n\n    https://xgboost.readthedocs.io/en/latest/tutorials/saving_model.html\n\n  for reference to the script, and more details about differences between saving model and\n  serializing.\n\n\nStack trace:\n  [bt] (0) /anaconda/envs/azureml_py36/lib/libxgboost.so(dmlc::LogMessageFatal::~LogMessageFatal()+0x7c) [0x7f01b9f8664c]\n  [bt] (1) /anaconda/envs/azureml_py36/lib/libxgboost.so(xgboost::LearnerIO::Load(dmlc::Stream*)+0x66b) [0x7f01ba090f0b]\n  [bt] (2) /anaconda/envs/azureml_py36/lib/libxgboost.so(XGBoosterUnserializeFromBuffer+0x5e) [0x7f01b9f7a7fe]\n  [bt] (3) /anaconda/envs/azureml_py36/lib/python3.6/lib-dynload/../../libffi.so.6(+0x69dd) [0x7f02a5f7d9dd]\n  [bt] (4) /anaconda/envs/azureml_py36/lib/python3.6/lib-dynload/../../libffi.so.6(+0x6067) [0x7f02a5f7d067]\n  [bt] (5) /anaconda/envs/azureml_py36/lib/python3.6/lib-dynload/_ctypes.cpython-36m-x86_64-linux-gnu.so(_ctypes_callproc+0x2ce) [0x7f02a5f95ede]\n  [bt] (6) /anaconda/envs/azureml_py36/lib/python3.6/lib-dynload/_ctypes.cpython-36m-x86_64-linux-gnu.so(+0x13915) [0x7f02a5f96915]\n  [bt] (7) /anaconda/envs/azureml_py36/bin/python(_PyObject_FastCallDict+0x8b) [0x565279b85e3b]\n  [bt] (8) /anaconda/envs/azureml_py36/bin/python(+0x199c0e) [0x565279c0dc0e]\n\n\n\tErrorResponse \n{\n    \"error\": {\n        \"code\": \"UserError\",\n        \"message\": \"The model you attempted to retrieve requires 'xgboost' to be installed at '==0.90'. You have 'xgboost==1.3.3', please reinstall 'xgboost==0.90' (e.g. `pip install xgboost==0.90`) and rerun the previous command.\",\n        \"target\": \"get_output\",\n        \"inner_error\": {\n            \"code\": \"NotSupported\",\n            \"inner_error\": {\n                \"code\": \"IncompatibleOrMissingDependency\"\n            }\n        },\n        \"reference_code\": \"910310e6-2433-40cd-b597-9ec2950bc1d8\"\n    }\n}",
          "traceback": [
            "\u001b[0;31m---------------------------------------------------------------------------\u001b[0m",
            "\u001b[0;31mXGBoostError\u001b[0m                              Traceback (most recent call last)",
            "\u001b[0;32m/anaconda/envs/azureml_py36/lib/python3.6/site-packages/azureml/train/automl/_model_download_utilities.py\u001b[0m in \u001b[0;36m_load_automl_model\u001b[0;34m(model_path, suffix)\u001b[0m\n\u001b[1;32m    176\u001b[0m             \u001b[0;32mwith\u001b[0m \u001b[0mopen\u001b[0m\u001b[0;34m(\u001b[0m\u001b[0mmodel_path\u001b[0m\u001b[0;34m,\u001b[0m \u001b[0;34m\"rb\"\u001b[0m\u001b[0;34m)\u001b[0m \u001b[0;32mas\u001b[0m \u001b[0mmodel_file\u001b[0m\u001b[0;34m:\u001b[0m\u001b[0;34m\u001b[0m\u001b[0;34m\u001b[0m\u001b[0m\n\u001b[0;32m--> 177\u001b[0;31m                 \u001b[0mfitted_model\u001b[0m \u001b[0;34m=\u001b[0m \u001b[0mpickle\u001b[0m\u001b[0;34m.\u001b[0m\u001b[0mload\u001b[0m\u001b[0;34m(\u001b[0m\u001b[0mmodel_file\u001b[0m\u001b[0;34m)\u001b[0m  \u001b[0;31m# type: Optional[Any]\u001b[0m\u001b[0;34m\u001b[0m\u001b[0;34m\u001b[0m\u001b[0m\n\u001b[0m\u001b[1;32m    178\u001b[0m                 \u001b[0;32mreturn\u001b[0m \u001b[0mfitted_model\u001b[0m\u001b[0;34m\u001b[0m\u001b[0;34m\u001b[0m\u001b[0m\n",
            "\u001b[0;32m/anaconda/envs/azureml_py36/lib/python3.6/site-packages/xgboost/core.py\u001b[0m in \u001b[0;36m__setstate__\u001b[0;34m(self, state)\u001b[0m\n\u001b[1;32m   1087\u001b[0m             _check_call(\n\u001b[0;32m-> 1088\u001b[0;31m                 _LIB.XGBoosterUnserializeFromBuffer(handle, ptr, length))\n\u001b[0m\u001b[1;32m   1089\u001b[0m             \u001b[0mstate\u001b[0m\u001b[0;34m[\u001b[0m\u001b[0;34m'handle'\u001b[0m\u001b[0;34m]\u001b[0m \u001b[0;34m=\u001b[0m \u001b[0mhandle\u001b[0m\u001b[0;34m\u001b[0m\u001b[0;34m\u001b[0m\u001b[0m\n",
            "\u001b[0;32m/anaconda/envs/azureml_py36/lib/python3.6/site-packages/xgboost/core.py\u001b[0m in \u001b[0;36m_check_call\u001b[0;34m(ret)\u001b[0m\n\u001b[1;32m    188\u001b[0m     \u001b[0;32mif\u001b[0m \u001b[0mret\u001b[0m \u001b[0;34m!=\u001b[0m \u001b[0;36m0\u001b[0m\u001b[0;34m:\u001b[0m\u001b[0;34m\u001b[0m\u001b[0;34m\u001b[0m\u001b[0m\n\u001b[0;32m--> 189\u001b[0;31m         \u001b[0;32mraise\u001b[0m \u001b[0mXGBoostError\u001b[0m\u001b[0;34m(\u001b[0m\u001b[0mpy_str\u001b[0m\u001b[0;34m(\u001b[0m\u001b[0m_LIB\u001b[0m\u001b[0;34m.\u001b[0m\u001b[0mXGBGetLastError\u001b[0m\u001b[0;34m(\u001b[0m\u001b[0;34m)\u001b[0m\u001b[0;34m)\u001b[0m\u001b[0;34m)\u001b[0m\u001b[0;34m\u001b[0m\u001b[0;34m\u001b[0m\u001b[0m\n\u001b[0m\u001b[1;32m    190\u001b[0m \u001b[0;34m\u001b[0m\u001b[0m\n",
            "\u001b[0;31mXGBoostError\u001b[0m: [09:53:43] /mnt/xgboost/src/learner.cc:922: Check failed: header == serialisation_header_: \n\n  If you are loading a serialized model (like pickle in Python) generated by older\n  XGBoost, please export the model by calling `Booster.save_model` from that version\n  first, then load it back in current version.  There's a simple script for helping\n  the process. See:\n\n    https://xgboost.readthedocs.io/en/latest/tutorials/saving_model.html\n\n  for reference to the script, and more details about differences between saving model and\n  serializing.\n\n\nStack trace:\n  [bt] (0) /anaconda/envs/azureml_py36/lib/libxgboost.so(dmlc::LogMessageFatal::~LogMessageFatal()+0x7c) [0x7f01b9f8664c]\n  [bt] (1) /anaconda/envs/azureml_py36/lib/libxgboost.so(xgboost::LearnerIO::Load(dmlc::Stream*)+0x66b) [0x7f01ba090f0b]\n  [bt] (2) /anaconda/envs/azureml_py36/lib/libxgboost.so(XGBoosterUnserializeFromBuffer+0x5e) [0x7f01b9f7a7fe]\n  [bt] (3) /anaconda/envs/azureml_py36/lib/python3.6/lib-dynload/../../libffi.so.6(+0x69dd) [0x7f02a5f7d9dd]\n  [bt] (4) /anaconda/envs/azureml_py36/lib/python3.6/lib-dynload/../../libffi.so.6(+0x6067) [0x7f02a5f7d067]\n  [bt] (5) /anaconda/envs/azureml_py36/lib/python3.6/lib-dynload/_ctypes.cpython-36m-x86_64-linux-gnu.so(_ctypes_callproc+0x2ce) [0x7f02a5f95ede]\n  [bt] (6) /anaconda/envs/azureml_py36/lib/python3.6/lib-dynload/_ctypes.cpython-36m-x86_64-linux-gnu.so(+0x13915) [0x7f02a5f96915]\n  [bt] (7) /anaconda/envs/azureml_py36/bin/python(_PyObject_FastCallDict+0x8b) [0x565279b85e3b]\n  [bt] (8) /anaconda/envs/azureml_py36/bin/python(+0x199c0e) [0x565279c0dc0e]\n\n",
            "\nThe above exception was the direct cause of the following exception:\n",
            "\u001b[0;31mConfigException\u001b[0m                           Traceback (most recent call last)",
            "\u001b[0;32m<ipython-input-10-dc225fe98b83>\u001b[0m in \u001b[0;36m<module>\u001b[0;34m\u001b[0m\n\u001b[0;32m----> 1\u001b[0;31m \u001b[0mbestRun\u001b[0m\u001b[0;34m,\u001b[0m \u001b[0mbestModel\u001b[0m \u001b[0;34m=\u001b[0m \u001b[0mremote_run\u001b[0m\u001b[0;34m.\u001b[0m\u001b[0mget_output\u001b[0m\u001b[0;34m(\u001b[0m\u001b[0;34m)\u001b[0m\u001b[0;34m\u001b[0m\u001b[0;34m\u001b[0m\u001b[0m\n\u001b[0m\u001b[1;32m      2\u001b[0m \u001b[0mmodel_name\u001b[0m \u001b[0;34m=\u001b[0m \u001b[0mbestRun\u001b[0m\u001b[0;34m.\u001b[0m\u001b[0mproperties\u001b[0m\u001b[0;34m[\u001b[0m\u001b[0;34m'model_name'\u001b[0m\u001b[0;34m]\u001b[0m\u001b[0;34m\u001b[0m\u001b[0;34m\u001b[0m\u001b[0m\n\u001b[1;32m      3\u001b[0m \u001b[0;34m\u001b[0m\u001b[0m\n\u001b[1;32m      4\u001b[0m \u001b[0mprint\u001b[0m\u001b[0;34m(\u001b[0m\u001b[0;34m'Best model: {}\\n\\n\\nProperties of best model:{}'\u001b[0m\u001b[0;34m.\u001b[0m\u001b[0mformat\u001b[0m\u001b[0;34m(\u001b[0m\u001b[0mmodel_name\u001b[0m\u001b[0;34m,\u001b[0m\u001b[0mbestModel\u001b[0m\u001b[0;34m)\u001b[0m\u001b[0;34m)\u001b[0m\u001b[0;34m\u001b[0m\u001b[0;34m\u001b[0m\u001b[0m\n",
            "\u001b[0;32m/anaconda/envs/azureml_py36/lib/python3.6/site-packages/azureml/train/automl/run.py\u001b[0m in \u001b[0;36mget_output\u001b[0;34m(self, iteration, metric, return_onnx_model, return_split_onnx_model, **kwargs)\u001b[0m\n\u001b[1;32m    702\u001b[0m                     \u001b[0mfitted_model\u001b[0m \u001b[0;34m=\u001b[0m \u001b[0m_download_automl_onnx_model\u001b[0m\u001b[0;34m(\u001b[0m\u001b[0mcurr_run\u001b[0m\u001b[0;34m,\u001b[0m \u001b[0mmodel_name\u001b[0m\u001b[0;34m)\u001b[0m\u001b[0;34m\u001b[0m\u001b[0;34m\u001b[0m\u001b[0m\n\u001b[1;32m    703\u001b[0m                 \u001b[0;32melse\u001b[0m\u001b[0;34m:\u001b[0m\u001b[0;34m\u001b[0m\u001b[0;34m\u001b[0m\u001b[0m\n\u001b[0;32m--> 704\u001b[0;31m                     \u001b[0mfitted_model\u001b[0m \u001b[0;34m=\u001b[0m \u001b[0m_download_automl_model\u001b[0m\u001b[0;34m(\u001b[0m\u001b[0mcurr_run\u001b[0m\u001b[0;34m,\u001b[0m \u001b[0mmodel_name\u001b[0m\u001b[0;34m)\u001b[0m\u001b[0;34m\u001b[0m\u001b[0;34m\u001b[0m\u001b[0m\n\u001b[0m\u001b[1;32m    705\u001b[0m \u001b[0;34m\u001b[0m\u001b[0m\n\u001b[1;32m    706\u001b[0m             \u001b[0;32mreturn\u001b[0m \u001b[0mcurr_run\u001b[0m\u001b[0;34m,\u001b[0m \u001b[0mfitted_model\u001b[0m\u001b[0;34m\u001b[0m\u001b[0;34m\u001b[0m\u001b[0m\n",
            "\u001b[0;32m/anaconda/envs/azureml_py36/lib/python3.6/site-packages/azureml/train/automl/_model_download_utilities.py\u001b[0m in \u001b[0;36m_download_automl_model\u001b[0;34m(run, model_name)\u001b[0m\n\u001b[1;32m     89\u001b[0m             \u001b[0;31m# Pass through any exceptions from loading the model.\u001b[0m\u001b[0;34m\u001b[0m\u001b[0;34m\u001b[0m\u001b[0;34m\u001b[0m\u001b[0m\n\u001b[1;32m     90\u001b[0m             \u001b[0;31m# Try is used here to ensure we can cleanup the side effect of model downlad.\u001b[0m\u001b[0;34m\u001b[0m\u001b[0;34m\u001b[0m\u001b[0;34m\u001b[0m\u001b[0m\n\u001b[0;32m---> 91\u001b[0;31m             \u001b[0mmodel\u001b[0m \u001b[0;34m=\u001b[0m \u001b[0m_load_automl_model\u001b[0m\u001b[0;34m(\u001b[0m\u001b[0mmodel_path\u001b[0m\u001b[0;34m,\u001b[0m \u001b[0msuffix\u001b[0m\u001b[0;34m)\u001b[0m\u001b[0;34m\u001b[0m\u001b[0;34m\u001b[0m\u001b[0m\n\u001b[0m\u001b[1;32m     92\u001b[0m             \u001b[0;32mif\u001b[0m \u001b[0mmodel\u001b[0m \u001b[0;32mis\u001b[0m \u001b[0;32mNone\u001b[0m\u001b[0;34m:\u001b[0m\u001b[0;34m\u001b[0m\u001b[0;34m\u001b[0m\u001b[0m\n\u001b[1;32m     93\u001b[0m                 \u001b[0;31m# If we can retrieve the automl runtime version, we do so we can inform the user what to install.\u001b[0m\u001b[0;34m\u001b[0m\u001b[0;34m\u001b[0m\u001b[0;34m\u001b[0m\u001b[0m\n",
            "\u001b[0;32m/anaconda/envs/azureml_py36/lib/python3.6/site-packages/azureml/train/automl/_model_download_utilities.py\u001b[0m in \u001b[0;36m_load_automl_model\u001b[0;34m(model_path, suffix)\u001b[0m\n\u001b[1;32m    279\u001b[0m                 ),\n\u001b[1;32m    280\u001b[0m                 \u001b[0minner_exception\u001b[0m\u001b[0;34m=\u001b[0m\u001b[0me\u001b[0m\u001b[0;34m\u001b[0m\u001b[0;34m\u001b[0m\u001b[0m\n\u001b[0;32m--> 281\u001b[0;31m             ) from e\n\u001b[0m\u001b[1;32m    282\u001b[0m         \u001b[0;31m# If we hit here, we are in new territory - we didn't run into an ImportError\u001b[0m\u001b[0;34m\u001b[0m\u001b[0;34m\u001b[0m\u001b[0;34m\u001b[0m\u001b[0m\n\u001b[1;32m    283\u001b[0m         \u001b[0;31m# and we didn't have a known exception type (XGBoostError).\u001b[0m\u001b[0;34m\u001b[0m\u001b[0;34m\u001b[0m\u001b[0;34m\u001b[0m\u001b[0m\n",
            "\u001b[0;31mConfigException\u001b[0m: ConfigException:\n\tMessage: The model you attempted to retrieve requires 'xgboost' to be installed at '==0.90'. You have 'xgboost==1.3.3', please reinstall 'xgboost==0.90' (e.g. `pip install xgboost==0.90`) and rerun the previous command.\n\tInnerException: XGBoostError: [09:53:43] /mnt/xgboost/src/learner.cc:922: Check failed: header == serialisation_header_: \n\n  If you are loading a serialized model (like pickle in Python) generated by older\n  XGBoost, please export the model by calling `Booster.save_model` from that version\n  first, then load it back in current version.  There's a simple script for helping\n  the process. See:\n\n    https://xgboost.readthedocs.io/en/latest/tutorials/saving_model.html\n\n  for reference to the script, and more details about differences between saving model and\n  serializing.\n\n\nStack trace:\n  [bt] (0) /anaconda/envs/azureml_py36/lib/libxgboost.so(dmlc::LogMessageFatal::~LogMessageFatal()+0x7c) [0x7f01b9f8664c]\n  [bt] (1) /anaconda/envs/azureml_py36/lib/libxgboost.so(xgboost::LearnerIO::Load(dmlc::Stream*)+0x66b) [0x7f01ba090f0b]\n  [bt] (2) /anaconda/envs/azureml_py36/lib/libxgboost.so(XGBoosterUnserializeFromBuffer+0x5e) [0x7f01b9f7a7fe]\n  [bt] (3) /anaconda/envs/azureml_py36/lib/python3.6/lib-dynload/../../libffi.so.6(+0x69dd) [0x7f02a5f7d9dd]\n  [bt] (4) /anaconda/envs/azureml_py36/lib/python3.6/lib-dynload/../../libffi.so.6(+0x6067) [0x7f02a5f7d067]\n  [bt] (5) /anaconda/envs/azureml_py36/lib/python3.6/lib-dynload/_ctypes.cpython-36m-x86_64-linux-gnu.so(_ctypes_callproc+0x2ce) [0x7f02a5f95ede]\n  [bt] (6) /anaconda/envs/azureml_py36/lib/python3.6/lib-dynload/_ctypes.cpython-36m-x86_64-linux-gnu.so(+0x13915) [0x7f02a5f96915]\n  [bt] (7) /anaconda/envs/azureml_py36/bin/python(_PyObject_FastCallDict+0x8b) [0x565279b85e3b]\n  [bt] (8) /anaconda/envs/azureml_py36/bin/python(+0x199c0e) [0x565279c0dc0e]\n\n\n\tErrorResponse \n{\n    \"error\": {\n        \"code\": \"UserError\",\n        \"message\": \"The model you attempted to retrieve requires 'xgboost' to be installed at '==0.90'. You have 'xgboost==1.3.3', please reinstall 'xgboost==0.90' (e.g. `pip install xgboost==0.90`) and rerun the previous command.\",\n        \"target\": \"get_output\",\n        \"inner_error\": {\n            \"code\": \"NotSupported\",\n            \"inner_error\": {\n                \"code\": \"IncompatibleOrMissingDependency\"\n            }\n        },\n        \"reference_code\": \"910310e6-2433-40cd-b597-9ec2950bc1d8\"\n    }\n}"
          ]
        }
      ],
      "execution_count": 10,
      "metadata": {
        "gather": {
          "logged": 1617605318816
        },
        "jupyter": {
          "outputs_hidden": false,
          "source_hidden": false
        },
        "nteract": {
          "transient": {
            "deleting": false
          }
        }
      }
    },
    {
      "cell_type": "code",
      "source": [
        "#TODO: Save the best model\r\n",
        "\r\n",
        "model_register= remote_run.register_model(model_name='bestmodel')\r\n",
        "\r\n",
        "model_register.download(target_dir=\"outputs\", exist_ok=True)"
      ],
      "outputs": [
        {
          "output_type": "execute_result",
          "execution_count": 11,
          "data": {
            "text/plain": "'outputs/model.pkl'"
          },
          "metadata": {}
        }
      ],
      "execution_count": 11,
      "metadata": {
        "gather": {
          "logged": 1617617034783
        },
        "jupyter": {
          "outputs_hidden": false,
          "source_hidden": false
        },
        "nteract": {
          "transient": {
            "deleting": false
          }
        }
      }
    },
    {
      "cell_type": "markdown",
      "source": [
        "## Model Deployment\n",
        "\n",
        "Remember you have to deploy only one of the two models you trained.. Perform the steps in the rest of this notebook only if you wish to deploy this model.\n",
        "\n",
        "TODO: In the cell below, register the model, create an inference config and deploy the model as a web service."
      ],
      "metadata": {}
    },
    {
      "cell_type": "code",
      "source": [
        "# Import Operational Libraries\r\n",
        "\r\n",
        "from azureml.core.webservice import AciWebservice, LocalWebservice\r\n",
        "from azureml.core import Environment\r\n",
        "from azureml.core.model import InferenceConfig\r\n",
        "from azureml.core.model import Model\r\n",
        "import requests\r\n",
        "import json"
      ],
      "outputs": [],
      "execution_count": 12,
      "metadata": {
        "collapsed": true,
        "jupyter": {
          "source_hidden": false,
          "outputs_hidden": false
        },
        "nteract": {
          "transient": {
            "deleting": false
          }
        },
        "gather": {
          "logged": 1617617477168
        }
      }
    },
    {
      "cell_type": "code",
      "source": [
        "config = AciWebservice.deploy_configuration(cpu_cores=1, \r\n",
        "                                            memory_gb=4, \r\n",
        "                                            enable_app_insights=True,\r\n",
        "                                            description='bestmodel')\r\n",
        "\r\n",
        "model = Model(ws, 'bestmodel')\r\n",
        "\r\n",
        "\r\n",
        "# Using the same environment for deployment\r\n",
        "env_deploy = Environment.get(workspace=ws, name='AzureML-AutoML')\r\n",
        "\r\n",
        "Inference_config = InferenceConfig(entry_script=\"score.py\", environment=env_deploy)\r\n",
        "\r\n",
        "\r\n",
        "# Deploy the best model\r\n",
        "service = Model.deploy(workspace=ws, \r\n",
        "                       name='bestmodel', \r\n",
        "                       models=[model], \r\n",
        "                       inference_config=Inference_config, \r\n",
        "                       deployment_config=config)"
      ],
      "outputs": [],
      "execution_count": 13,
      "metadata": {
        "gather": {
          "logged": 1617619464638
        },
        "jupyter": {
          "outputs_hidden": false,
          "source_hidden": false
        },
        "nteract": {
          "transient": {
            "deleting": false
          }
        }
      }
    },
    {
      "cell_type": "markdown",
      "source": [
        "TODO: In the cell below, send a request to the web service you deployed to test it."
      ],
      "metadata": {
        "collapsed": true,
        "gather": {
          "logged": 1598431657736
        },
        "jupyter": {
          "outputs_hidden": false,
          "source_hidden": false
        },
        "nteract": {
          "transient": {
            "deleting": false
          }
        }
      }
    },
    {
      "cell_type": "code",
      "source": [
        "service.wait_for_deployment(show_output=True)"
      ],
      "outputs": [
        {
          "output_type": "stream",
          "name": "stdout",
          "text": [
            "Tips: You can try get_logs(): https://aka.ms/debugimage#dockerlog or local deployment: https://aka.ms/debugimage#debug-locally to debug if deployment takes longer than 10 minutes.\n",
            "SucceededACI service creation operation finished, operation \"Succeeded\"\n"
          ]
        }
      ],
      "execution_count": 14,
      "metadata": {
        "gather": {
          "logged": 1617622204771
        },
        "jupyter": {
          "outputs_hidden": false,
          "source_hidden": false
        },
        "nteract": {
          "transient": {
            "deleting": false
          }
        }
      }
    },
    {
      "cell_type": "code",
      "source": [
        "# test the web service \r\n",
        "\r\n",
        "scoring_uri = service.scoring_uri\r\n",
        "\r\n",
        "# Ans should be positive\r\n",
        "data={'request':[\r\n",
        "    {\r\n",
        "        '1':'x',\r\n",
        "        '2':'x',\r\n",
        "        '3':'x',\r\n",
        "        '4':'b',\r\n",
        "        '5':'b',\r\n",
        "        '6':'b',\r\n",
        "        '7':'o',\r\n",
        "        '8':'b',\r\n",
        "        '9':'o',\r\n",
        "    }\r\n",
        "]}\r\n",
        "\r\n",
        "# Convert to json string\r\n",
        "data=json.dumps(data)\r\n",
        "headers = {'Content-Type': 'application/json'}\r\n",
        "\r\n",
        "\r\n",
        "# Make a request\r\n",
        "\r\n",
        "responce = requests.post(scoring_uri, data, headers=headers)\r\n",
        "print(responce.json())"
      ],
      "outputs": [
        {
          "output_type": "error",
          "ename": "MissingSchema",
          "evalue": "Invalid URL 'None': No schema supplied. Perhaps you meant http://None?",
          "traceback": [
            "\u001b[0;31m---------------------------------------------------------------------------\u001b[0m",
            "\u001b[0;31mMissingSchema\u001b[0m                             Traceback (most recent call last)",
            "\u001b[0;32m<ipython-input-15-4edfce8bb03e>\u001b[0m in \u001b[0;36m<module>\u001b[0;34m\u001b[0m\n\u001b[1;32m     25\u001b[0m \u001b[0;31m# Make a request\u001b[0m\u001b[0;34m\u001b[0m\u001b[0;34m\u001b[0m\u001b[0;34m\u001b[0m\u001b[0m\n\u001b[1;32m     26\u001b[0m \u001b[0;34m\u001b[0m\u001b[0m\n\u001b[0;32m---> 27\u001b[0;31m \u001b[0mresponce\u001b[0m \u001b[0;34m=\u001b[0m \u001b[0mrequests\u001b[0m\u001b[0;34m.\u001b[0m\u001b[0mpost\u001b[0m\u001b[0;34m(\u001b[0m\u001b[0mscoring_uri\u001b[0m\u001b[0;34m,\u001b[0m \u001b[0mdata\u001b[0m\u001b[0;34m,\u001b[0m \u001b[0mheaders\u001b[0m\u001b[0;34m=\u001b[0m\u001b[0mheaders\u001b[0m\u001b[0;34m)\u001b[0m\u001b[0;34m\u001b[0m\u001b[0;34m\u001b[0m\u001b[0m\n\u001b[0m\u001b[1;32m     28\u001b[0m \u001b[0mprint\u001b[0m\u001b[0;34m(\u001b[0m\u001b[0mresponce\u001b[0m\u001b[0;34m.\u001b[0m\u001b[0mjson\u001b[0m\u001b[0;34m(\u001b[0m\u001b[0;34m)\u001b[0m\u001b[0;34m)\u001b[0m\u001b[0;34m\u001b[0m\u001b[0;34m\u001b[0m\u001b[0m\n",
            "\u001b[0;32m/anaconda/envs/azureml_py36/lib/python3.6/site-packages/requests/api.py\u001b[0m in \u001b[0;36mpost\u001b[0;34m(url, data, json, **kwargs)\u001b[0m\n\u001b[1;32m    117\u001b[0m     \"\"\"\n\u001b[1;32m    118\u001b[0m \u001b[0;34m\u001b[0m\u001b[0m\n\u001b[0;32m--> 119\u001b[0;31m     \u001b[0;32mreturn\u001b[0m \u001b[0mrequest\u001b[0m\u001b[0;34m(\u001b[0m\u001b[0;34m'post'\u001b[0m\u001b[0;34m,\u001b[0m \u001b[0murl\u001b[0m\u001b[0;34m,\u001b[0m \u001b[0mdata\u001b[0m\u001b[0;34m=\u001b[0m\u001b[0mdata\u001b[0m\u001b[0;34m,\u001b[0m \u001b[0mjson\u001b[0m\u001b[0;34m=\u001b[0m\u001b[0mjson\u001b[0m\u001b[0;34m,\u001b[0m \u001b[0;34m**\u001b[0m\u001b[0mkwargs\u001b[0m\u001b[0;34m)\u001b[0m\u001b[0;34m\u001b[0m\u001b[0;34m\u001b[0m\u001b[0m\n\u001b[0m\u001b[1;32m    120\u001b[0m \u001b[0;34m\u001b[0m\u001b[0m\n\u001b[1;32m    121\u001b[0m \u001b[0;34m\u001b[0m\u001b[0m\n",
            "\u001b[0;32m/anaconda/envs/azureml_py36/lib/python3.6/site-packages/requests/api.py\u001b[0m in \u001b[0;36mrequest\u001b[0;34m(method, url, **kwargs)\u001b[0m\n\u001b[1;32m     59\u001b[0m     \u001b[0;31m# cases, and look like a memory leak in others.\u001b[0m\u001b[0;34m\u001b[0m\u001b[0;34m\u001b[0m\u001b[0;34m\u001b[0m\u001b[0m\n\u001b[1;32m     60\u001b[0m     \u001b[0;32mwith\u001b[0m \u001b[0msessions\u001b[0m\u001b[0;34m.\u001b[0m\u001b[0mSession\u001b[0m\u001b[0;34m(\u001b[0m\u001b[0;34m)\u001b[0m \u001b[0;32mas\u001b[0m \u001b[0msession\u001b[0m\u001b[0;34m:\u001b[0m\u001b[0;34m\u001b[0m\u001b[0;34m\u001b[0m\u001b[0m\n\u001b[0;32m---> 61\u001b[0;31m         \u001b[0;32mreturn\u001b[0m \u001b[0msession\u001b[0m\u001b[0;34m.\u001b[0m\u001b[0mrequest\u001b[0m\u001b[0;34m(\u001b[0m\u001b[0mmethod\u001b[0m\u001b[0;34m=\u001b[0m\u001b[0mmethod\u001b[0m\u001b[0;34m,\u001b[0m \u001b[0murl\u001b[0m\u001b[0;34m=\u001b[0m\u001b[0murl\u001b[0m\u001b[0;34m,\u001b[0m \u001b[0;34m**\u001b[0m\u001b[0mkwargs\u001b[0m\u001b[0;34m)\u001b[0m\u001b[0;34m\u001b[0m\u001b[0;34m\u001b[0m\u001b[0m\n\u001b[0m\u001b[1;32m     62\u001b[0m \u001b[0;34m\u001b[0m\u001b[0m\n\u001b[1;32m     63\u001b[0m \u001b[0;34m\u001b[0m\u001b[0m\n",
            "\u001b[0;32m/anaconda/envs/azureml_py36/lib/python3.6/site-packages/requests/sessions.py\u001b[0m in \u001b[0;36mrequest\u001b[0;34m(self, method, url, params, data, headers, cookies, files, auth, timeout, allow_redirects, proxies, hooks, stream, verify, cert, json)\u001b[0m\n\u001b[1;32m    526\u001b[0m             \u001b[0mhooks\u001b[0m\u001b[0;34m=\u001b[0m\u001b[0mhooks\u001b[0m\u001b[0;34m,\u001b[0m\u001b[0;34m\u001b[0m\u001b[0;34m\u001b[0m\u001b[0m\n\u001b[1;32m    527\u001b[0m         )\n\u001b[0;32m--> 528\u001b[0;31m         \u001b[0mprep\u001b[0m \u001b[0;34m=\u001b[0m \u001b[0mself\u001b[0m\u001b[0;34m.\u001b[0m\u001b[0mprepare_request\u001b[0m\u001b[0;34m(\u001b[0m\u001b[0mreq\u001b[0m\u001b[0;34m)\u001b[0m\u001b[0;34m\u001b[0m\u001b[0;34m\u001b[0m\u001b[0m\n\u001b[0m\u001b[1;32m    529\u001b[0m \u001b[0;34m\u001b[0m\u001b[0m\n\u001b[1;32m    530\u001b[0m         \u001b[0mproxies\u001b[0m \u001b[0;34m=\u001b[0m \u001b[0mproxies\u001b[0m \u001b[0;32mor\u001b[0m \u001b[0;34m{\u001b[0m\u001b[0;34m}\u001b[0m\u001b[0;34m\u001b[0m\u001b[0;34m\u001b[0m\u001b[0m\n",
            "\u001b[0;32m/anaconda/envs/azureml_py36/lib/python3.6/site-packages/requests/sessions.py\u001b[0m in \u001b[0;36mprepare_request\u001b[0;34m(self, request)\u001b[0m\n\u001b[1;32m    464\u001b[0m             \u001b[0mauth\u001b[0m\u001b[0;34m=\u001b[0m\u001b[0mmerge_setting\u001b[0m\u001b[0;34m(\u001b[0m\u001b[0mauth\u001b[0m\u001b[0;34m,\u001b[0m \u001b[0mself\u001b[0m\u001b[0;34m.\u001b[0m\u001b[0mauth\u001b[0m\u001b[0;34m)\u001b[0m\u001b[0;34m,\u001b[0m\u001b[0;34m\u001b[0m\u001b[0;34m\u001b[0m\u001b[0m\n\u001b[1;32m    465\u001b[0m             \u001b[0mcookies\u001b[0m\u001b[0;34m=\u001b[0m\u001b[0mmerged_cookies\u001b[0m\u001b[0;34m,\u001b[0m\u001b[0;34m\u001b[0m\u001b[0;34m\u001b[0m\u001b[0m\n\u001b[0;32m--> 466\u001b[0;31m             \u001b[0mhooks\u001b[0m\u001b[0;34m=\u001b[0m\u001b[0mmerge_hooks\u001b[0m\u001b[0;34m(\u001b[0m\u001b[0mrequest\u001b[0m\u001b[0;34m.\u001b[0m\u001b[0mhooks\u001b[0m\u001b[0;34m,\u001b[0m \u001b[0mself\u001b[0m\u001b[0;34m.\u001b[0m\u001b[0mhooks\u001b[0m\u001b[0;34m)\u001b[0m\u001b[0;34m,\u001b[0m\u001b[0;34m\u001b[0m\u001b[0;34m\u001b[0m\u001b[0m\n\u001b[0m\u001b[1;32m    467\u001b[0m         )\n\u001b[1;32m    468\u001b[0m         \u001b[0;32mreturn\u001b[0m \u001b[0mp\u001b[0m\u001b[0;34m\u001b[0m\u001b[0;34m\u001b[0m\u001b[0m\n",
            "\u001b[0;32m/anaconda/envs/azureml_py36/lib/python3.6/site-packages/requests/models.py\u001b[0m in \u001b[0;36mprepare\u001b[0;34m(self, method, url, headers, files, data, params, auth, cookies, hooks, json)\u001b[0m\n\u001b[1;32m    314\u001b[0m \u001b[0;34m\u001b[0m\u001b[0m\n\u001b[1;32m    315\u001b[0m         \u001b[0mself\u001b[0m\u001b[0;34m.\u001b[0m\u001b[0mprepare_method\u001b[0m\u001b[0;34m(\u001b[0m\u001b[0mmethod\u001b[0m\u001b[0;34m)\u001b[0m\u001b[0;34m\u001b[0m\u001b[0;34m\u001b[0m\u001b[0m\n\u001b[0;32m--> 316\u001b[0;31m         \u001b[0mself\u001b[0m\u001b[0;34m.\u001b[0m\u001b[0mprepare_url\u001b[0m\u001b[0;34m(\u001b[0m\u001b[0murl\u001b[0m\u001b[0;34m,\u001b[0m \u001b[0mparams\u001b[0m\u001b[0;34m)\u001b[0m\u001b[0;34m\u001b[0m\u001b[0;34m\u001b[0m\u001b[0m\n\u001b[0m\u001b[1;32m    317\u001b[0m         \u001b[0mself\u001b[0m\u001b[0;34m.\u001b[0m\u001b[0mprepare_headers\u001b[0m\u001b[0;34m(\u001b[0m\u001b[0mheaders\u001b[0m\u001b[0;34m)\u001b[0m\u001b[0;34m\u001b[0m\u001b[0;34m\u001b[0m\u001b[0m\n\u001b[1;32m    318\u001b[0m         \u001b[0mself\u001b[0m\u001b[0;34m.\u001b[0m\u001b[0mprepare_cookies\u001b[0m\u001b[0;34m(\u001b[0m\u001b[0mcookies\u001b[0m\u001b[0;34m)\u001b[0m\u001b[0;34m\u001b[0m\u001b[0;34m\u001b[0m\u001b[0m\n",
            "\u001b[0;32m/anaconda/envs/azureml_py36/lib/python3.6/site-packages/requests/models.py\u001b[0m in \u001b[0;36mprepare_url\u001b[0;34m(self, url, params)\u001b[0m\n\u001b[1;32m    388\u001b[0m             \u001b[0merror\u001b[0m \u001b[0;34m=\u001b[0m \u001b[0merror\u001b[0m\u001b[0;34m.\u001b[0m\u001b[0mformat\u001b[0m\u001b[0;34m(\u001b[0m\u001b[0mto_native_string\u001b[0m\u001b[0;34m(\u001b[0m\u001b[0murl\u001b[0m\u001b[0;34m,\u001b[0m \u001b[0;34m'utf8'\u001b[0m\u001b[0;34m)\u001b[0m\u001b[0;34m)\u001b[0m\u001b[0;34m\u001b[0m\u001b[0;34m\u001b[0m\u001b[0m\n\u001b[1;32m    389\u001b[0m \u001b[0;34m\u001b[0m\u001b[0m\n\u001b[0;32m--> 390\u001b[0;31m             \u001b[0;32mraise\u001b[0m \u001b[0mMissingSchema\u001b[0m\u001b[0;34m(\u001b[0m\u001b[0merror\u001b[0m\u001b[0;34m)\u001b[0m\u001b[0;34m\u001b[0m\u001b[0;34m\u001b[0m\u001b[0m\n\u001b[0m\u001b[1;32m    391\u001b[0m \u001b[0;34m\u001b[0m\u001b[0m\n\u001b[1;32m    392\u001b[0m         \u001b[0;32mif\u001b[0m \u001b[0;32mnot\u001b[0m \u001b[0mhost\u001b[0m\u001b[0;34m:\u001b[0m\u001b[0;34m\u001b[0m\u001b[0;34m\u001b[0m\u001b[0m\n",
            "\u001b[0;31mMissingSchema\u001b[0m: Invalid URL 'None': No schema supplied. Perhaps you meant http://None?"
          ]
        }
      ],
      "execution_count": 15,
      "metadata": {
        "collapsed": true,
        "jupyter": {
          "source_hidden": false,
          "outputs_hidden": false
        },
        "nteract": {
          "transient": {
            "deleting": false
          }
        },
        "gather": {
          "logged": 1617607339044
        }
      }
    },
    {
      "cell_type": "code",
      "source": [],
      "outputs": [],
      "execution_count": null,
      "metadata": {
        "collapsed": true,
        "jupyter": {
          "source_hidden": false,
          "outputs_hidden": false
        },
        "nteract": {
          "transient": {
            "deleting": false
          }
        }
      }
    },
    {
      "cell_type": "markdown",
      "source": [
        "TODO: In the cell below, print the logs of the web service and delete the service"
      ],
      "metadata": {
        "collapsed": true,
        "gather": {
          "logged": 1598432765711
        },
        "jupyter": {
          "outputs_hidden": false,
          "source_hidden": false
        },
        "nteract": {
          "transient": {
            "deleting": false
          }
        }
      }
    },
    {
      "cell_type": "code",
      "source": [
        "\r\n",
        "print(service.scoring_uri)\r\n",
        "print(service.swagger_uri)"
      ],
      "outputs": [
        {
          "output_type": "stream",
          "name": "stdout",
          "text": [
            "None\n",
            "None\n"
          ]
        }
      ],
      "execution_count": 16,
      "metadata": {
        "jupyter": {
          "outputs_hidden": false,
          "source_hidden": false
        },
        "nteract": {
          "transient": {
            "deleting": false
          }
        },
        "gather": {
          "logged": 1617624115152
        }
      }
    },
    {
      "cell_type": "code",
      "source": [],
      "outputs": [],
      "execution_count": null,
      "metadata": {
        "collapsed": true,
        "jupyter": {
          "source_hidden": false,
          "outputs_hidden": false
        },
        "nteract": {
          "transient": {
            "deleting": false
          }
        }
      }
    },
    {
      "cell_type": "code",
      "source": [],
      "outputs": [],
      "execution_count": null,
      "metadata": {
        "collapsed": true,
        "jupyter": {
          "source_hidden": false,
          "outputs_hidden": false
        },
        "nteract": {
          "transient": {
            "deleting": false
          }
        }
      }
    }
  ],
  "metadata": {
    "kernel_info": {
      "name": "python3"
    },
    "kernelspec": {
      "name": "python3",
      "language": "python",
      "display_name": "Python 3"
    },
    "language_info": {
      "name": "python",
      "version": "3.6.9",
      "mimetype": "text/x-python",
      "codemirror_mode": {
        "name": "ipython",
        "version": 3
      },
      "pygments_lexer": "ipython3",
      "nbconvert_exporter": "python",
      "file_extension": ".py"
    },
    "nteract": {
      "version": "nteract-front-end@1.0.0"
    },
    "microsoft": {
      "host": {
        "AzureML": {
          "notebookHasBeenCompleted": true
        }
      }
    }
  },
  "nbformat": 4,
  "nbformat_minor": 2
}